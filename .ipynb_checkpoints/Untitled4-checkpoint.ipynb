{
 "cells": [
  {
   "cell_type": "code",
   "execution_count": 36,
   "metadata": {},
   "outputs": [],
   "source": [
    "    M=matrix (SR,[ [2593.3425 ,3683.4353 ,3627.3456  ,7882.2344 ,5677.2435 ],\n",
    "                   [4562.4578 ,3658.4562 ,2349.6893  ,6546.2345 ,3645.1834 ],\n",
    "                   [3466.4784 ,4788.85645 ,1894.2394  ,9446.3245 ,6324.2135 ],\n",
    "                   [3658.2546 ,2566.3454 ,4890.4384  ,2348.6634 ,7345.2345 ],\n",
    "                   [8746.3295 ,2726.2342 ,1289.4345  ,2485.5234 ,3456.2342 ]]);"
   ]
  },
  {
   "cell_type": "code",
   "execution_count": 37,
   "metadata": {},
   "outputs": [
    {
     "data": {
      "text/plain": [
       "-3.2045758776626176e+17"
      ]
     },
     "execution_count": 37,
     "metadata": {},
     "output_type": "execute_result"
    }
   ],
   "source": [
    "M.det()"
   ]
  }
 ],
 "metadata": {
  "kernelspec": {
   "display_name": "SageMath 9.0",
   "language": "sage",
   "name": "sagemath"
  },
  "language_info": {
   "codemirror_mode": {
    "name": "ipython",
    "version": 3
   },
   "file_extension": ".py",
   "mimetype": "text/x-python",
   "name": "python",
   "nbconvert_exporter": "python",
   "pygments_lexer": "ipython3",
   "version": "3.8.10"
  }
 },
 "nbformat": 4,
 "nbformat_minor": 4
}
