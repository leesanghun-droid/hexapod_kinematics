{
 "cells": [
  {
   "cell_type": "code",
   "execution_count": 1,
   "metadata": {},
   "outputs": [],
   "source": [
    "xsi=[]\n",
    "ysi=[]\n",
    "xmi=[]\n",
    "ymi=[]"
   ]
  },
  {
   "cell_type": "code",
   "execution_count": 2,
   "metadata": {},
   "outputs": [],
   "source": [
    "#xsi  59.1400   59.1400   37.9800  -97.1200  -97.1200   37.9800\n",
    "xsi.append(59.1400);\n",
    "xsi.append(59.1400);\n",
    "xsi.append(37.9800);\n",
    "xsi.append(-97.1200);\n",
    "xsi.append(-97.1200);\n",
    "xsi.append(37.9800);\n",
    "\n",
    "#ysi  78.0000  -78.0000  -90.2200  -12.2200   12.2200   90.2200\n",
    "ysi.append(78.0000);\n",
    "ysi.append(-78.0000);\n",
    "ysi.append(-90.2200);\n",
    "ysi.append(-12.2200);\n",
    "ysi.append(12.2200);\n",
    "ysi.append(90.2200);\n",
    "\n",
    "\n",
    "#xmi  83.1400   83.1400  -38.9700  -44.1700  -44.1700  -38.9700\n",
    "xmi.append(83.1400);\n",
    "xmi.append(83.1400);\n",
    "xmi.append(-38.9700);\n",
    "xmi.append(-44.1700);\n",
    "xmi.append(-44.1700);\n",
    "xmi.append(-38.9700);\n",
    "\n",
    "#ymi  3.0000   -3.0000  -73.5000  -70.5000   70.5000   73.5000\n",
    "ymi.append(3.0000);\n",
    "ymi.append(-3.0000);\n",
    "ymi.append(-73.5000);\n",
    "ymi.append(-70.5000);\n",
    "ymi.append(70.5000);\n",
    "ymi.append(73.5000);\n",
    "\n",
    "\n",
    "rollmin =-100\n",
    "rollmax =100\n",
    "pitchmin =-100\n",
    "pitchmax =100\n",
    "yawmin =-100\n",
    "yawmax =100\n",
    "pxmin =-100\n",
    "pxmax =100\n",
    "pymin =-100\n",
    "pymax =100\n",
    "pzmin =-200\n",
    "pzmax =200\n",
    "    \n",
    "L1 = 133\n",
    "L2 = 133\n",
    "L3 = 133\n",
    "L4 = 133\n",
    "L5 = 133\n",
    "L6 = 133"
   ]
  },
  {
   "cell_type": "code",
   "execution_count": 3,
   "metadata": {},
   "outputs": [],
   "source": [
    "legmin=106;                             \n",
    "legmax=167;"
   ]
  },
  {
   "cell_type": "code",
   "execution_count": 4,
   "metadata": {},
   "outputs": [
    {
     "data": {
      "text/plain": [
       "(c1, c2, c3)"
      ]
     },
     "execution_count": 4,
     "metadata": {},
     "output_type": "execute_result"
    }
   ],
   "source": [
    "var('c1,c2,c3')"
   ]
  },
  {
   "cell_type": "code",
   "execution_count": 5,
   "metadata": {},
   "outputs": [],
   "source": [
    "I=matrix(    [[1,0,0],\n",
    "             [0,1,0],\n",
    "             [0,0,1]]) "
   ]
  },
  {
   "cell_type": "code",
   "execution_count": 6,
   "metadata": {},
   "outputs": [],
   "source": [
    "C=matrix(   [[0,-c3,c2],\n",
    "             [c3,0,-c1],\n",
    "             [-c2,c1,0]]) "
   ]
  },
  {
   "cell_type": "code",
   "execution_count": 7,
   "metadata": {
    "scrolled": true
   },
   "outputs": [],
   "source": [
    "R1=(I-C)^-1"
   ]
  },
  {
   "cell_type": "code",
   "execution_count": 8,
   "metadata": {},
   "outputs": [],
   "source": [
    "for i in range(3):\n",
    "    for j in range(3):\n",
    "        R1[i,j]=R1[i,j].full_simplify();"
   ]
  },
  {
   "cell_type": "code",
   "execution_count": 9,
   "metadata": {},
   "outputs": [],
   "source": [
    "R2=R1*(I+C)"
   ]
  },
  {
   "cell_type": "code",
   "execution_count": 10,
   "metadata": {},
   "outputs": [],
   "source": [
    "R=R2"
   ]
  },
  {
   "cell_type": "code",
   "execution_count": 11,
   "metadata": {},
   "outputs": [],
   "source": [
    "D=(1+c1^2+c2^2+c3^2);"
   ]
  },
  {
   "cell_type": "code",
   "execution_count": 12,
   "metadata": {},
   "outputs": [],
   "source": [
    "Ta=matrix(     [[1,0,0,-xsi[0]],                      \n",
    "                [0,1,0,-ysi[0]],\n",
    "                [0,0,1,0]      ,\n",
    "                [0,0,0,1]      ])"
   ]
  },
  {
   "cell_type": "code",
   "execution_count": 13,
   "metadata": {},
   "outputs": [],
   "source": [
    "Tb=matrix(     [[1,0,0,-xmi[0]],                     \n",
    "                [0,1,0,-ymi[0]],\n",
    "                [0,0,1,0]      ,\n",
    "                [0,0,0,1]      ])"
   ]
  },
  {
   "cell_type": "code",
   "execution_count": 14,
   "metadata": {},
   "outputs": [],
   "source": [
    "a1 = Ta*matrix([[xsi[0]],[ysi[0]],[0],[1]])\n",
    "a2 = Ta*matrix([[xsi[1]],[ysi[1]],[0],[1]])\n",
    "a3 = Ta*matrix([[xsi[2]],[ysi[2]],[0],[1]])\n",
    "a4 = Ta*matrix([[xsi[3]],[ysi[3]],[0],[1]])\n",
    "a5 = Ta*matrix([[xsi[4]],[ysi[4]],[0],[1]])\n",
    "a6 = Ta*matrix([[xsi[5]],[ysi[5]],[0],[1]])"
   ]
  },
  {
   "cell_type": "code",
   "execution_count": 15,
   "metadata": {},
   "outputs": [],
   "source": [
    "b1 = Tb*matrix([[xmi[0]],[ymi[0]],[0],[1]])\n",
    "b2 = Tb*matrix([[xmi[1]],[ymi[1]],[0],[1]])\n",
    "b3 = Tb*matrix([[xmi[2]],[ymi[2]],[0],[1]])\n",
    "b4 = Tb*matrix([[xmi[3]],[ymi[3]],[0],[1]])\n",
    "b5 = Tb*matrix([[xmi[4]],[ymi[4]],[0],[1]])\n",
    "b6 = Tb*matrix([[xmi[5]],[ymi[5]],[0],[1]])"
   ]
  },
  {
   "cell_type": "code",
   "execution_count": 16,
   "metadata": {
    "scrolled": false
   },
   "outputs": [],
   "source": [
    "F2=-a2[0:3].transpose()*R*b2[0:3]+(a2[0:3].transpose()*a2[0:3]+b2[0:3].transpose()*b2[0:3]-L2^2+L1^2)/2\n",
    "F3=-a3[0:3].transpose()*R*b3[0:3]+(a3[0:3].transpose()*a3[0:3]+b3[0:3].transpose()*b3[0:3]-L3^2+L1^2)/2\n",
    "F4=-a4[0:3].transpose()*R*b4[0:3]+(a4[0:3].transpose()*a4[0:3]+b4[0:3].transpose()*b4[0:3]-L4^2+L1^2)/2\n",
    "F5=-a5[0:3].transpose()*R*b5[0:3]+(a5[0:3].transpose()*a5[0:3]+b5[0:3].transpose()*b5[0:3]-L5^2+L1^2)/2\n",
    "F6=-a6[0:3].transpose()*R*b6[0:3]+(a6[0:3].transpose()*a6[0:3]+b6[0:3].transpose()*b6[0:3]-L6^2+L1^2)/2"
   ]
  },
  {
   "cell_type": "code",
   "execution_count": 17,
   "metadata": {
    "scrolled": true
   },
   "outputs": [],
   "source": [
    "F2[0,0]=F2[0,0].collect(1/(c1^2 + c2^2 + c3^2 + 1)).full_simplify()\n",
    "F3[0,0]=F3[0,0].collect(1/(c1^2 + c2^2 + c3^2 + 1)).full_simplify()\n",
    "F4[0,0]=F4[0,0].collect(1/(c1^2 + c2^2 + c3^2 + 1)).full_simplify()\n",
    "F5[0,0]=F5[0,0].collect(1/(c1^2 + c2^2 + c3^2 + 1)).full_simplify()\n",
    "F6[0,0]=F6[0,0].collect(1/(c1^2 + c2^2 + c3^2 + 1)).full_simplify()"
   ]
  },
  {
   "cell_type": "code",
   "execution_count": 18,
   "metadata": {},
   "outputs": [],
   "source": [
    "    M=matrix ([    [-a2[0,0],-a2[1,0],b2[0,0],b2[1,0],F2[0,0]],\n",
    "                   [-a3[0,0],-a3[1,0],b3[0,0],b3[1,0],F3[0,0]],\n",
    "                   [-a4[0,0],-a4[1,0],b4[0,0],b4[1,0],F4[0,0]],   \n",
    "                   [-a5[0,0],-a5[1,0],b5[0,0],b5[1,0],F5[0,0]],\n",
    "                   [-a6[0,0],-a6[1,0],b6[0,0],b6[1,0],F6[0,0]]]);"
   ]
  },
  {
   "cell_type": "code",
   "execution_count": 19,
   "metadata": {},
   "outputs": [],
   "source": [
    "Phi1_1=det(M)"
   ]
  },
  {
   "cell_type": "code",
   "execution_count": 20,
   "metadata": {},
   "outputs": [],
   "source": [
    "Phi1_2=Phi1_1.collect(1/(c1^2 + c2^2 + c3^2 + 1))"
   ]
  },
  {
   "cell_type": "code",
   "execution_count": 21,
   "metadata": {},
   "outputs": [],
   "source": [
    "Phi1=Phi1_2*D"
   ]
  },
  {
   "cell_type": "code",
   "execution_count": 22,
   "metadata": {},
   "outputs": [
    {
     "data": {
      "text/plain": [
       "-0.0006105769261093441*c1*c2*c3 - 0.001617431640625*c1^2 + 48694269.048828125*c1*c2 - 0.005279541015625*c2^2 + 0.001953125*c3^2 - 27099944721917.27*c3 - 0.0025637149810791016"
      ]
     },
     "execution_count": 22,
     "metadata": {},
     "output_type": "execute_result"
    }
   ],
   "source": [
    "Phi1"
   ]
  },
  {
   "cell_type": "code",
   "execution_count": 23,
   "metadata": {},
   "outputs": [],
   "source": [
    "g1=Phi1.subs(c1==0,c2==0,c3==0)\n",
    "g2=(Phi1.subs(c2==0,c1==0,c3^2==0)-g1).subs(c3==1)\n",
    "g3=(((Phi1.subs(c1==0,c2==0)-g1)/c3).full_simplify()-g2).subs(c3==1)\n",
    "g4=(Phi1.subs(c2==0,c3==0)-g1).subs(c1==1)\n",
    "g5=(Phi1.subs(c2^2==0,c1^2==0,c3==0)-g1).subs(c1==1,c2==1)\n",
    "g6=(Phi1.subs(c1==0,c3==0)-g1).subs(c2^2==1)"
   ]
  },
  {
   "cell_type": "code",
   "execution_count": 24,
   "metadata": {},
   "outputs": [
    {
     "data": {
      "text/plain": [
       "ct"
      ]
     },
     "execution_count": 24,
     "metadata": {},
     "output_type": "execute_result"
    }
   ],
   "source": [
    "var('ct')"
   ]
  },
  {
   "cell_type": "code",
   "execution_count": 25,
   "metadata": {},
   "outputs": [],
   "source": [
    "    Mp=matrix ([   [-a2[0,0],-a2[1,0],b2[0,0],b2[1,0],F2[0,0]],\n",
    "                   [-a3[0,0],-a3[1,0],b3[0,0],b3[1,0],F3[0,0]],\n",
    "                   [-a4[0,0],-a4[1,0],b4[0,0],b4[1,0],F4[0,0]],   \n",
    "                   [-a5[0,0],-a5[1,0],b5[0,0],b5[1,0],F5[0,0]],\n",
    "                   [(c1-c2*c3),(c2+c1*c3),(-c1-c2*c3),(-c2+c1*c3),0]]);"
   ]
  },
  {
   "cell_type": "code",
   "execution_count": 26,
   "metadata": {},
   "outputs": [],
   "source": [
    "Phi2_1=det(Mp)"
   ]
  },
  {
   "cell_type": "code",
   "execution_count": 27,
   "metadata": {},
   "outputs": [],
   "source": [
    "Phi2_2=Phi2_1.collect(1/(c1^2 + c2^2 + c3^2 + 1))"
   ]
  },
  {
   "cell_type": "code",
   "execution_count": 28,
   "metadata": {},
   "outputs": [],
   "source": [
    "Phi2=Phi2_2*D"
   ]
  },
  {
   "cell_type": "code",
   "execution_count": 29,
   "metadata": {},
   "outputs": [
    {
     "data": {
      "text/plain": [
       "-(4.828868801268992e-06)*c1^2*c2*c3^2 - (2.788024365145253e-06)*c1*c2^2*c3^2 - (5.9604644775390625e-06)*c1^3*c3 + 226029849229.88873*c1^2*c2*c3 + 421315.9650707245*c1*c2^2*c3 - 75342236037.26659*c2^3*c3 + (3.814697265625e-06)*c1*c3^3 + 568543.8352355957*c2*c3^3 + 10860248257.442566*c1^3 + 43012.65008544922*c1^2*c2 - 32585570599.925003*c1*c2^2 + (8.58306884765625e-06)*c2^3 + 1426557029.2381744*c1*c3^2 - 234476039701.70795*c2*c3^2 - 23937938954.630047*c1*c3 + 110205632142.33736*c2*c3 - 859106.8937526196*c1 + (9.059906005859375e-06)*c2"
      ]
     },
     "execution_count": 29,
     "metadata": {},
     "output_type": "execute_result"
    }
   ],
   "source": [
    "Phi2"
   ]
  },
  {
   "cell_type": "code",
   "execution_count": 30,
   "metadata": {},
   "outputs": [],
   "source": [
    "T1 = Phi2.subs(c1^3==0,c2==0).collect(c1).subs(c1==1)\n",
    "T2 = Phi2.subs(c2^3==0,c1==0).collect(c1).subs(c2==1)\n",
    "T30 = Phi2.subs(c1^3==ct).subs(c1==0,c2==0).subs(ct==c1^3).subs(c1==1)\n",
    "T31 = expand(Phi2.subs(c3^2==0).subs()-T2*c2).subs(c1^3==0,c3^3==0,c2^2==0,c3^2==0).subs(c2^3==0).subs(c1^2==ct).subs(c1==0).subs(ct==1).subs(c2==1)\n",
    "T32 = (Phi2.subs(c2^2==ct).subs(c2==0,c1^2==0,c1^3==0)-expand(T1*c1)).subs(c3^2==0,c3^3==0).subs(ct==1).subs(c1==1)\n",
    "T33 = Phi2.subs(c1==0,c3^3==0,c3^2==0).subs(c2^3==ct).subs(c2==0).subs(ct==1)"
   ]
  },
  {
   "cell_type": "code",
   "execution_count": 31,
   "metadata": {},
   "outputs": [
    {
     "data": {
      "text/plain": [
       "(Px, Py, Pz, Qx, Qy, Qz, E)"
      ]
     },
     "execution_count": 31,
     "metadata": {},
     "output_type": "execute_result"
    }
   ],
   "source": [
    "var('Px,Py,Pz,Qx,Qy,Qz,E')"
   ]
  },
  {
   "cell_type": "code",
   "execution_count": 32,
   "metadata": {},
   "outputs": [],
   "source": [
    "    P=matrix([[Px,Py,Pz]])\n",
    "    Q=matrix([[Qx,Qy,Qz]])"
   ]
  },
  {
   "cell_type": "code",
   "execution_count": 33,
   "metadata": {},
   "outputs": [
    {
     "data": {
      "text/plain": [
       "[Px Py Pz]"
      ]
     },
     "execution_count": 33,
     "metadata": {},
     "output_type": "execute_result"
    }
   ],
   "source": [
    "P"
   ]
  },
  {
   "cell_type": "code",
   "execution_count": 34,
   "metadata": {},
   "outputs": [],
   "source": [
    "M3a=matrix ([   [-a2[0,0],-a2[1,0],b2[0,0],b2[1,0]],\n",
    "                [-a3[0,0],-a3[1,0],b3[0,0],b3[1,0]],\n",
    "                [-a4[0,0],-a4[1,0],b4[0,0],b4[1,0]],   \n",
    "                [-a5[0,0],-a5[1,0],b5[0,0],b5[1,0]] ]);"
   ]
  },
  {
   "cell_type": "code",
   "execution_count": 35,
   "metadata": {},
   "outputs": [
    {
     "data": {
      "text/plain": [
       "[-0.000000000000000   156.000000000000  0.000000000000000  -6.00000000000000]\n",
       "[  21.1600000000000   168.220000000000  -122.110000000000  -76.5000000000000]\n",
       "[  156.260000000000   90.2200000000000  -127.310000000000  -73.5000000000000]\n",
       "[  156.260000000000   65.7800000000000  -127.310000000000   67.5000000000000]"
      ]
     },
     "execution_count": 35,
     "metadata": {},
     "output_type": "execute_result"
    }
   ],
   "source": [
    "M3a"
   ]
  },
  {
   "cell_type": "code",
   "execution_count": 36,
   "metadata": {},
   "outputs": [],
   "source": [
    "M3b=matrix ([ [F2[0,0]],\n",
    "              [F3[0,0]],\n",
    "              [F4[0,0]],\n",
    "              [F5[0,0]]  ])"
   ]
  },
  {
   "cell_type": "code",
   "execution_count": 37,
   "metadata": {},
   "outputs": [
    {
     "data": {
      "text/plain": [
       "[                                                                                                        (13122.0*c1^2 + 11250.0*c2^2 + 13122.0*c3^2 + 11250.0)/(1.0*c1^2 + 1.0*c2^2 + 1.0*c3^2 + 1.0)]\n",
       "[                                               (35039.39045*c1^2 - 44320.1684*c1*c2 + 14469.42565*c2^2 + 40207.08565*c3^2 - 37845.2084*c3 + 9301.730449999997)/(1.0*c1^2 + 1.0*c2^2 + 1.0*c3^2 + 1.0)]\n",
       "[                                        (13821.17045*c1^2 - 45942.0364*c1*c2 + 40345.75165*c2^2 + 53608.09165*c3^2 - 1.596400000000358*c3 + 558.8304500000013)/(1.0*c1^2 + 1.0*c2^2 + 1.0*c3^2 + 1.0)]\n",
       "[(420.5304499999984*c1^2 + 4346.196399999997*c1*c2 + 49087.75165*c2^2 + (-(1.81898940354586e-12)*c1*c2 - 37844.0036)*c3 + 40207.45165*c3^2 + 9300.830449999998)/(1.0*c1^2 + 1.0*c2^2 + 1.0*c3^2 + 1.0)]"
      ]
     },
     "execution_count": 37,
     "metadata": {},
     "output_type": "execute_result"
    }
   ],
   "source": [
    "M3b"
   ]
  },
  {
   "cell_type": "code",
   "execution_count": 38,
   "metadata": {},
   "outputs": [],
   "source": [
    "M3=M3a.inverse()*M3b;"
   ]
  },
  {
   "cell_type": "code",
   "execution_count": 39,
   "metadata": {},
   "outputs": [],
   "source": [
    "M3[0,0]=M3[0,0].collect(1/(c1^2 + c2^2 + c3^2 + 1))\n",
    "M3[1,0]=M3[1,0].collect(1/(c1^2 + c2^2 + c3^2 + 1))\n",
    "M3[2,0]=M3[2,0].collect(1/(c1^2 + c2^2 + c3^2 + 1))\n",
    "M3[3,0]=M3[3,0].collect(1/(c1^2 + c2^2 + c3^2 + 1))"
   ]
  },
  {
   "cell_type": "code",
   "execution_count": 41,
   "metadata": {},
   "outputs": [],
   "source": [
    "    Px=M3[0];\n",
    "    Py=M3[1];\n",
    "    Qx=M3[2];\n",
    "    Qy=M3[3];"
   ]
  },
  {
   "cell_type": "code",
   "execution_count": 42,
   "metadata": {},
   "outputs": [],
   "source": [
    "e9=(I-C)*P.transpose()-(I+C)*Q.transpose()"
   ]
  },
  {
   "cell_type": "code",
   "execution_count": 43,
   "metadata": {},
   "outputs": [],
   "source": [
    "e10=e9[0];                           \n",
    "e11=e9[1];                            \n",
    "e12=e9[2];"
   ]
  },
  {
   "cell_type": "code",
   "execution_count": 44,
   "metadata": {
    "scrolled": true
   },
   "outputs": [
    {
     "data": {
      "text/plain": [
       "(-Pz*c2 - Qz*c2 + Py*c3 + Qy*c3 + Px - Qx)"
      ]
     },
     "execution_count": 44,
     "metadata": {},
     "output_type": "execute_result"
    }
   ],
   "source": [
    "e10"
   ]
  },
  {
   "cell_type": "code",
   "execution_count": 50,
   "metadata": {},
   "outputs": [
    {
     "data": {
      "text/plain": [
       "(x, y)"
      ]
     },
     "execution_count": 50,
     "metadata": {},
     "output_type": "execute_result"
    }
   ],
   "source": [
    "var('x,y')"
   ]
  },
  {
   "cell_type": "code",
   "execution_count": 66,
   "metadata": {},
   "outputs": [],
   "source": [
    "a = solve(e10[0],Qz)"
   ]
  },
  {
   "cell_type": "code",
   "execution_count": 70,
   "metadata": {},
   "outputs": [],
   "source": [
    "x = var('x')\n",
    "eqn = (x-1)^2 = x^2 - 2*x + 3"
   ]
  },
  {
   "cell_type": "code",
   "execution_count": 71,
   "metadata": {},
   "outputs": [
    {
     "data": {
      "text/plain": [
       "x^2 - 2*x + 3"
      ]
     },
     "execution_count": 71,
     "metadata": {},
     "output_type": "execute_result"
    }
   ],
   "source": [
    "eqn.right_hand_side()"
   ]
  },
  {
   "cell_type": "code",
   "execution_count": null,
   "metadata": {},
   "outputs": [],
   "source": []
  }
 ],
 "metadata": {
  "kernelspec": {
   "display_name": "SageMath 9.0",
   "language": "sage",
   "name": "sagemath"
  },
  "language_info": {
   "codemirror_mode": {
    "name": "ipython",
    "version": 3
   },
   "file_extension": ".py",
   "mimetype": "text/x-python",
   "name": "python",
   "nbconvert_exporter": "python",
   "pygments_lexer": "ipython3",
   "version": "3.8.10"
  }
 },
 "nbformat": 4,
 "nbformat_minor": 4
}
