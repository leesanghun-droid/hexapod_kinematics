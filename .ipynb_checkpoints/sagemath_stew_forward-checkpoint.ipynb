{
 "cells": [
  {
   "cell_type": "code",
   "execution_count": 1,
   "metadata": {},
   "outputs": [],
   "source": [
    "xsi=[]\n",
    "ysi=[]\n",
    "xmi=[]\n",
    "ymi=[]"
   ]
  },
  {
   "cell_type": "code",
   "execution_count": 2,
   "metadata": {},
   "outputs": [],
   "source": [
    "#xsi  59.1400   59.1400   37.9800  -97.1200  -97.1200   37.9800\n",
    "xsi.append(59.1400);\n",
    "xsi.append(59.1400);\n",
    "xsi.append(37.9800);\n",
    "xsi.append(-97.1200);\n",
    "xsi.append(-97.1200);\n",
    "xsi.append(37.9800);\n",
    "\n",
    "#ysi  78.0000  -78.0000  -90.2200  -12.2200   12.2200   90.2200\n",
    "ysi.append(78.0000);\n",
    "ysi.append(-78.0000);\n",
    "ysi.append(-90.2200);\n",
    "ysi.append(-12.2200);\n",
    "ysi.append(12.2200);\n",
    "ysi.append(90.2200);\n",
    "\n",
    "\n",
    "#xmi  83.1400   83.1400  -38.9700  -44.1700  -44.1700  -38.9700\n",
    "xmi.append(83.1400);\n",
    "xmi.append(83.1400);\n",
    "xmi.append(-38.9700);\n",
    "xmi.append(-44.1700);\n",
    "xmi.append(-44.1700);\n",
    "xmi.append(-38.9700);\n",
    "\n",
    "#ymi  3.0000   -3.0000  -73.5000  -70.5000   70.5000   73.5000\n",
    "ymi.append(3.0000);\n",
    "ymi.append(-3.0000);\n",
    "ymi.append(-73.5000);\n",
    "ymi.append(-70.5000);\n",
    "ymi.append(70.5000);\n",
    "ymi.append(73.5000);\n",
    "\n",
    "\n",
    "rollmin =-100\n",
    "rollmax =100\n",
    "pitchmin =-100\n",
    "pitchmax =100\n",
    "yawmin =-100\n",
    "yawmax =100\n",
    "pxmin =-100\n",
    "pxmax =100\n",
    "pymin =-100\n",
    "pymax =100\n",
    "pzmin =-200\n",
    "pzmax =200\n",
    "    \n",
    "L1 = 133\n",
    "L2 = 133\n",
    "L3 = 133\n",
    "L4 = 133\n",
    "L5 = 133\n",
    "L6 = 133"
   ]
  },
  {
   "cell_type": "code",
   "execution_count": 3,
   "metadata": {},
   "outputs": [],
   "source": [
    "legmin=106;                             \n",
    "legmax=167;"
   ]
  },
  {
   "cell_type": "code",
   "execution_count": 4,
   "metadata": {},
   "outputs": [
    {
     "data": {
      "text/plain": [
       "(c1, c2, c3)"
      ]
     },
     "execution_count": 4,
     "metadata": {},
     "output_type": "execute_result"
    }
   ],
   "source": [
    "var('c1,c2,c3')"
   ]
  },
  {
   "cell_type": "code",
   "execution_count": 5,
   "metadata": {},
   "outputs": [],
   "source": [
    "I=matrix(    [[1,0,0],\n",
    "             [0,1,0],\n",
    "             [0,0,1]]) "
   ]
  },
  {
   "cell_type": "code",
   "execution_count": 6,
   "metadata": {},
   "outputs": [],
   "source": [
    "C=matrix(   [[0,-c3,c2],\n",
    "             [c3,0,-c1],\n",
    "             [-c2,c1,0]]) "
   ]
  },
  {
   "cell_type": "code",
   "execution_count": 7,
   "metadata": {
    "scrolled": true
   },
   "outputs": [],
   "source": [
    "R1=(I-C)^-1"
   ]
  },
  {
   "cell_type": "code",
   "execution_count": 8,
   "metadata": {},
   "outputs": [],
   "source": [
    "for i in range(3):\n",
    "    for j in range(3):\n",
    "        R1[i,j]=R1[i,j].full_simplify();"
   ]
  },
  {
   "cell_type": "code",
   "execution_count": 9,
   "metadata": {},
   "outputs": [],
   "source": [
    "R2=R1*(I+C)"
   ]
  },
  {
   "cell_type": "code",
   "execution_count": 10,
   "metadata": {},
   "outputs": [],
   "source": [
    "R=R2"
   ]
  },
  {
   "cell_type": "code",
   "execution_count": 11,
   "metadata": {},
   "outputs": [],
   "source": [
    "D=(1+c1^2+c2^2+c3^2);"
   ]
  },
  {
   "cell_type": "code",
   "execution_count": 12,
   "metadata": {},
   "outputs": [],
   "source": [
    "Ta=matrix(     [[1,0,0,-xsi[0]],                      \n",
    "                [0,1,0,-ysi[0]],\n",
    "                [0,0,1,0]      ,\n",
    "                [0,0,0,1]      ])"
   ]
  },
  {
   "cell_type": "code",
   "execution_count": 13,
   "metadata": {},
   "outputs": [],
   "source": [
    "Tb=matrix(     [[1,0,0,-xmi[0]],                     \n",
    "                [0,1,0,-ymi[0]],\n",
    "                [0,0,1,0]      ,\n",
    "                [0,0,0,1]      ])"
   ]
  },
  {
   "cell_type": "code",
   "execution_count": 14,
   "metadata": {},
   "outputs": [],
   "source": [
    "a1 = Ta*matrix([[xsi[0]],[ysi[0]],[0],[1]])\n",
    "a2 = Ta*matrix([[xsi[1]],[ysi[1]],[0],[1]])\n",
    "a3 = Ta*matrix([[xsi[2]],[ysi[2]],[0],[1]])\n",
    "a4 = Ta*matrix([[xsi[3]],[ysi[3]],[0],[1]])\n",
    "a5 = Ta*matrix([[xsi[4]],[ysi[4]],[0],[1]])\n",
    "a6 = Ta*matrix([[xsi[5]],[ysi[5]],[0],[1]])"
   ]
  },
  {
   "cell_type": "code",
   "execution_count": 15,
   "metadata": {},
   "outputs": [],
   "source": [
    "b1 = Tb*matrix([[xmi[0]],[ymi[0]],[0],[1]])\n",
    "b2 = Tb*matrix([[xmi[1]],[ymi[1]],[0],[1]])\n",
    "b3 = Tb*matrix([[xmi[2]],[ymi[2]],[0],[1]])\n",
    "b4 = Tb*matrix([[xmi[3]],[ymi[3]],[0],[1]])\n",
    "b5 = Tb*matrix([[xmi[4]],[ymi[4]],[0],[1]])\n",
    "b6 = Tb*matrix([[xmi[5]],[ymi[5]],[0],[1]])"
   ]
  },
  {
   "cell_type": "code",
   "execution_count": 16,
   "metadata": {
    "scrolled": false
   },
   "outputs": [],
   "source": [
    "F2=-a2[0:3].transpose()*R*b2[0:3]+(a2[0:3].transpose()*a2[0:3]+b2[0:3].transpose()*b2[0:3]-L2^2+L1^2)/2\n",
    "F3=-a3[0:3].transpose()*R*b3[0:3]+(a3[0:3].transpose()*a3[0:3]+b3[0:3].transpose()*b3[0:3]-L3^2+L1^2)/2\n",
    "F4=-a4[0:3].transpose()*R*b4[0:3]+(a4[0:3].transpose()*a4[0:3]+b4[0:3].transpose()*b4[0:3]-L4^2+L1^2)/2\n",
    "F5=-a5[0:3].transpose()*R*b5[0:3]+(a5[0:3].transpose()*a5[0:3]+b5[0:3].transpose()*b5[0:3]-L5^2+L1^2)/2\n",
    "F6=-a6[0:3].transpose()*R*b6[0:3]+(a6[0:3].transpose()*a6[0:3]+b6[0:3].transpose()*b6[0:3]-L6^2+L1^2)/2"
   ]
  },
  {
   "cell_type": "code",
   "execution_count": 17,
   "metadata": {
    "scrolled": true
   },
   "outputs": [],
   "source": [
    "F2[0,0]=F2[0,0].collect(1/(c1^2 + c2^2 + c3^2 + 1)).full_simplify()\n",
    "F3[0,0]=F3[0,0].collect(1/(c1^2 + c2^2 + c3^2 + 1)).full_simplify()\n",
    "F4[0,0]=F4[0,0].collect(1/(c1^2 + c2^2 + c3^2 + 1)).full_simplify()\n",
    "F5[0,0]=F5[0,0].collect(1/(c1^2 + c2^2 + c3^2 + 1)).full_simplify()\n",
    "F6[0,0]=F6[0,0].collect(1/(c1^2 + c2^2 + c3^2 + 1)).full_simplify()"
   ]
  },
  {
   "cell_type": "code",
   "execution_count": 18,
   "metadata": {},
   "outputs": [],
   "source": [
    "    M=matrix ([    [-a2[0,0],-a2[1,0],b2[0,0],b2[1,0],F2[0,0]],\n",
    "                   [-a3[0,0],-a3[1,0],b3[0,0],b3[1,0],F3[0,0]],\n",
    "                   [-a4[0,0],-a4[1,0],b4[0,0],b4[1,0],F4[0,0]],   \n",
    "                   [-a5[0,0],-a5[1,0],b5[0,0],b5[1,0],F5[0,0]],\n",
    "                   [-a6[0,0],-a6[1,0],b6[0,0],b6[1,0],F6[0,0]]]);"
   ]
  },
  {
   "cell_type": "code",
   "execution_count": 19,
   "metadata": {},
   "outputs": [],
   "source": [
    "Phi1_1=det(M)"
   ]
  },
  {
   "cell_type": "code",
   "execution_count": 20,
   "metadata": {},
   "outputs": [],
   "source": [
    "Phi1_2=Phi1_1.collect(1/(c1^2 + c2^2 + c3^2 + 1))"
   ]
  },
  {
   "cell_type": "code",
   "execution_count": 21,
   "metadata": {},
   "outputs": [],
   "source": [
    "Phi1=Phi1_2*D"
   ]
  },
  {
   "cell_type": "code",
   "execution_count": 38,
   "metadata": {},
   "outputs": [
    {
     "data": {
      "text/plain": [
       "-0.000610576926109344*c1*c2*c3 - 0.001953125*c1^2 + 48694269.04980469*c1*c2 - 0.0048828125*c2^2 - 0.001953125*c3^2 - 27099944721917.273*c3 - 0.001953125"
      ]
     },
     "execution_count": 38,
     "metadata": {},
     "output_type": "execute_result"
    }
   ],
   "source": [
    "Phi1"
   ]
  },
  {
   "cell_type": "code",
   "execution_count": 54,
   "metadata": {},
   "outputs": [],
   "source": [
    "g1=Phi1.subs(c1==0,c2==0,c3==0)\n",
    "g2=(Phi1.subs(c2==0,c1==0,c3^2==0)-g1).subs(c3==1)\n",
    "g3=(((Phi1.subs(c1==0,c2==0)-g1)/c3).full_simplify()-g2).subs(c3==1)\n",
    "g4=(Phi1.subs(c2==0,c3==0)-g1).subs(c1==1)\n",
    "g5=(Phi1.subs(c2^2==0,c1^2==0,c3==0)-g1).subs(c1==1,c2==1)\n",
    "g6=(Phi1.subs(c1==0,c3==0)-g1).subs(c2^2==1)"
   ]
  },
  {
   "cell_type": "code",
   "execution_count": 55,
   "metadata": {},
   "outputs": [
    {
     "data": {
      "text/plain": [
       "-0.001953125"
      ]
     },
     "execution_count": 55,
     "metadata": {},
     "output_type": "execute_result"
    }
   ],
   "source": [
    "g1"
   ]
  },
  {
   "cell_type": "code",
   "execution_count": 56,
   "metadata": {},
   "outputs": [
    {
     "data": {
      "text/plain": [
       "-27099944721917.273"
      ]
     },
     "execution_count": 56,
     "metadata": {},
     "output_type": "execute_result"
    }
   ],
   "source": [
    "g2"
   ]
  },
  {
   "cell_type": "code",
   "execution_count": 57,
   "metadata": {},
   "outputs": [
    {
     "data": {
      "text/plain": [
       "-0.029296875"
      ]
     },
     "execution_count": 57,
     "metadata": {},
     "output_type": "execute_result"
    }
   ],
   "source": [
    "g3"
   ]
  },
  {
   "cell_type": "code",
   "execution_count": 58,
   "metadata": {},
   "outputs": [
    {
     "data": {
      "text/plain": [
       "-0.001953125"
      ]
     },
     "execution_count": 58,
     "metadata": {},
     "output_type": "execute_result"
    }
   ],
   "source": [
    "g4"
   ]
  },
  {
   "cell_type": "code",
   "execution_count": 59,
   "metadata": {},
   "outputs": [
    {
     "data": {
      "text/plain": [
       "48694269.04980469"
      ]
     },
     "execution_count": 59,
     "metadata": {},
     "output_type": "execute_result"
    }
   ],
   "source": [
    "g5"
   ]
  },
  {
   "cell_type": "code",
   "execution_count": 60,
   "metadata": {},
   "outputs": [
    {
     "data": {
      "text/plain": [
       "-0.0048828125"
      ]
     },
     "execution_count": 60,
     "metadata": {},
     "output_type": "execute_result"
    }
   ],
   "source": [
    "g6"
   ]
  },
  {
   "cell_type": "code",
   "execution_count": null,
   "metadata": {},
   "outputs": [],
   "source": [
    "var('ct')"
   ]
  }
 ],
 "metadata": {
  "kernelspec": {
   "display_name": "SageMath 9.0",
   "language": "sage",
   "name": "sagemath"
  },
  "language_info": {
   "codemirror_mode": {
    "name": "ipython",
    "version": 3
   },
   "file_extension": ".py",
   "mimetype": "text/x-python",
   "name": "python",
   "nbconvert_exporter": "python",
   "pygments_lexer": "ipython3",
   "version": "3.8.10"
  }
 },
 "nbformat": 4,
 "nbformat_minor": 4
}
