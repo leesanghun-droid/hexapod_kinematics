{
 "cells": [
  {
   "cell_type": "code",
   "execution_count": 1,
   "metadata": {},
   "outputs": [
    {
     "name": "stdout",
     "output_type": "stream",
     "text": [
      "L1 =  133.66\n",
      "L2 =  133.66\n",
      "L3 =  133.66\n",
      "L4 =  133.66\n",
      "L5 =  133.66\n",
      "L6 =  133.66\n"
     ]
    }
   ],
   "source": [
    "    size=100;\n",
    "    xsi(1) = size * cos(deg2rad(85));\n",
    "\tysi(1) = size * sin(deg2rad(85));\n",
    "\txsi(2) = size * cos(deg2rad(-25));\n",
    "\tysi(2) = size * sin(deg2rad(-25));\n",
    "\txsi(3) = size * cos(deg2rad(-35));\n",
    "\tysi(3) = size * sin(deg2rad(-35));\n",
    "\txsi(4) = size * cos(deg2rad(-145));\n",
    "\tysi(4) = size * sin(deg2rad(-145));\n",
    "\txsi(5) = size * cos(deg2rad(-155));\n",
    "\tysi(5) = size * sin(deg2rad(-155));\n",
    "\txsi(6) = size * cos(deg2rad(95));\n",
    "\tysi(6) = size * sin(deg2rad(95));\n",
    "\n",
    "    xmi(1) = size * cos(deg2rad(145));\n",
    "\tymi(1) = size * sin(deg2rad(145));\n",
    "\txmi(2) = size * cos(deg2rad(35));\n",
    "\tymi(2) = size * sin(deg2rad(35));\n",
    "\txmi(3) = size * cos(deg2rad(25));\n",
    "\tymi(3) = size * sin(deg2rad(25));\n",
    "\txmi(4) = size * cos(deg2rad(-85));\n",
    "\tymi(4) = size * sin(deg2rad(-85));\n",
    "\txmi(5) = size * cos(deg2rad(-95));\n",
    "\tymi(5) = size * sin(deg2rad(-95));\n",
    "\txmi(6) = size * cos(deg2rad(155));\n",
    "\tymi(6) = size * sin(deg2rad(155));\n",
    "    \n",
    "    L1 = 133.6634\n",
    "    L2 = 133.6634\n",
    "    L3 = 133.6634\n",
    "    L4 = 133.6634\n",
    "    L5 = 133.6634\n",
    "    L6 = 133.6634\n",
    "    \n",
    "roll=0\n",
    "pitch=0;\n",
    "yaw=0;\n",
    "px=0;\n",
    "py=0;\n",
    "pz=200;\n"
   ]
  },
  {
   "cell_type": "code",
   "execution_count": 2,
   "metadata": {},
   "outputs": [],
   "source": [
    "pkg load symbolic"
   ]
  },
  {
   "cell_type": "code",
   "execution_count": 3,
   "metadata": {},
   "outputs": [],
   "source": [
    "legmin=106;                             %leg min/max are defined here, but for a general case they would be defined in the GUI\n",
    "legmax=167;"
   ]
  },
  {
   "cell_type": "code",
   "execution_count": 4,
   "metadata": {},
   "outputs": [
    {
     "name": "stdout",
     "output_type": "stream",
     "text": [
      "Symbolic pkg v2.8.0: Python communication link active, SymPy v1.5.1.\n"
     ]
    }
   ],
   "source": [
    "syms c1 c2 c3   "
   ]
  },
  {
   "cell_type": "code",
   "execution_count": 5,
   "metadata": {},
   "outputs": [],
   "source": [
    "I=[1 0 0;                               %identity matrix\n",
    "       0 1 0;\n",
    "       0 0 1];       "
   ]
  },
  {
   "cell_type": "code",
   "execution_count": 6,
   "metadata": {},
   "outputs": [],
   "source": [
    " C=[  [0 -c3 c2];                            %used to build rotation matrix(equation 4)\n",
    "      [c3 0 -c1];\n",
    "      [-c2 c1 0]];  "
   ]
  },
  {
   "cell_type": "code",
   "execution_count": 7,
   "metadata": {},
   "outputs": [],
   "source": [
    "R=(I-C)^-1*(I+C);"
   ]
  },
  {
   "cell_type": "code",
   "execution_count": 8,
   "metadata": {},
   "outputs": [],
   "source": [
    "D=(1+c1^2+c2^2+c3^2);"
   ]
  },
  {
   "cell_type": "code",
   "execution_count": 9,
   "metadata": {},
   "outputs": [],
   "source": [
    "    Ta=[1 0 0 -xsi(1);                      %translation matrix from Frame G to Fram A.\n",
    "        0 1 0 -ysi(1);\n",
    "        0 0 1 0      ;\n",
    "        0 0 0 1      ];\n",
    "\n",
    "    Tb=[1 0 0 -xmi(1);                      %translation matrix from Fram M to Fram B.\n",
    "        0 1 0 -ymi(1);  \n",
    "        0 0 1 0      ;\n",
    "        0 0 0 1      ];"
   ]
  },
  {
   "cell_type": "code",
   "execution_count": 10,
   "metadata": {
    "scrolled": true
   },
   "outputs": [
    {
     "name": "stdout",
     "output_type": "stream",
     "text": [
      "warning: passing floating-point values to sym is dangerous, see \"help sym\"\n",
      "warning: called from\n",
      "    double_to_sym_heuristic at line 50 column 7\n",
      "    sym at line 379 column 13\n",
      "    numeric_array_to_sym at line 36 column 16\n",
      "    sym at line 359 column 7\n",
      "    mtimes at line 65 column 5\n",
      "warning: passing floating-point values to sym is dangerous, see \"help sym\"\n",
      "warning: called from\n",
      "    double_to_sym_heuristic at line 50 column 7\n",
      "    sym at line 379 column 13\n",
      "    numeric_array_to_sym at line 36 column 16\n",
      "    sym at line 359 column 7\n",
      "    mtimes at line 65 column 5\n",
      "warning: passing floating-point values to sym is dangerous, see \"help sym\"\n",
      "warning: called from\n",
      "    double_to_sym_heuristic at line 50 column 7\n",
      "    sym at line 379 column 13\n",
      "    numeric_array_to_sym at line 36 column 16\n",
      "    sym at line 359 column 7\n",
      "    mtimes at line 65 column 5\n",
      "warning: passing floating-point values to sym is dangerous, see \"help sym\"\n",
      "warning: called from\n",
      "    double_to_sym_heuristic at line 50 column 7\n",
      "    sym at line 379 column 13\n",
      "    numeric_array_to_sym at line 36 column 16\n",
      "    sym at line 359 column 7\n",
      "    mtimes at line 65 column 5\n",
      "warning: passing floating-point values to sym is dangerous, see \"help sym\"\n",
      "warning: called from\n",
      "    double_to_sym_heuristic at line 50 column 7\n",
      "    sym at line 379 column 13\n",
      "    plus at line 63 column 5\n",
      "warning: passing floating-point values to sym is dangerous, see \"help sym\"\n",
      "warning: called from\n",
      "    double_to_sym_heuristic at line 50 column 7\n",
      "    sym at line 379 column 13\n",
      "    numeric_array_to_sym at line 36 column 16\n",
      "    sym at line 359 column 7\n",
      "    mtimes at line 65 column 5\n",
      "warning: passing floating-point values to sym is dangerous, see \"help sym\"\n",
      "warning: called from\n",
      "    double_to_sym_heuristic at line 50 column 7\n",
      "    sym at line 379 column 13\n",
      "    numeric_array_to_sym at line 36 column 16\n",
      "    sym at line 359 column 7\n",
      "    mtimes at line 65 column 5\n",
      "warning: passing floating-point values to sym is dangerous, see \"help sym\"\n",
      "warning: called from\n",
      "    double_to_sym_heuristic at line 50 column 7\n",
      "    sym at line 379 column 13\n",
      "    numeric_array_to_sym at line 36 column 16\n",
      "    sym at line 359 column 7\n",
      "    mtimes at line 65 column 5\n",
      "warning: passing floating-point values to sym is dangerous, see \"help sym\"\n",
      "warning: called from\n",
      "    double_to_sym_heuristic at line 50 column 7\n",
      "    sym at line 379 column 13\n",
      "    numeric_array_to_sym at line 36 column 16\n",
      "    sym at line 359 column 7\n",
      "    mtimes at line 65 column 5\n",
      "warning: passing floating-point values to sym is dangerous, see \"help sym\"\n",
      "warning: called from\n",
      "    double_to_sym_heuristic at line 50 column 7\n",
      "    sym at line 379 column 13\n",
      "    numeric_array_to_sym at line 36 column 16\n",
      "    sym at line 359 column 7\n",
      "    mtimes at line 65 column 5\n",
      "warning: passing floating-point values to sym is dangerous, see \"help sym\"\n",
      "warning: called from\n",
      "    double_to_sym_heuristic at line 50 column 7\n",
      "    sym at line 379 column 13\n",
      "    numeric_array_to_sym at line 36 column 16\n",
      "    sym at line 359 column 7\n",
      "    mtimes at line 65 column 5\n",
      "warning: passing floating-point values to sym is dangerous, see \"help sym\"\n",
      "warning: called from\n",
      "    double_to_sym_heuristic at line 50 column 7\n",
      "    sym at line 379 column 13\n",
      "    numeric_array_to_sym at line 36 column 16\n",
      "    sym at line 359 column 7\n",
      "    mtimes at line 65 column 5\n",
      "warning: passing floating-point values to sym is dangerous, see \"help sym\"\n",
      "warning: called from\n",
      "    double_to_sym_heuristic at line 50 column 7\n",
      "    sym at line 379 column 13\n",
      "    numeric_array_to_sym at line 36 column 16\n",
      "    sym at line 359 column 7\n",
      "    mtimes at line 65 column 5\n",
      "warning: passing floating-point values to sym is dangerous, see \"help sym\"\n",
      "warning: called from\n",
      "    double_to_sym_heuristic at line 50 column 7\n",
      "    sym at line 379 column 13\n",
      "    plus at line 63 column 5\n",
      "warning: passing floating-point values to sym is dangerous, see \"help sym\"\n",
      "warning: called from\n",
      "    double_to_sym_heuristic at line 50 column 7\n",
      "    sym at line 379 column 13\n",
      "    numeric_array_to_sym at line 36 column 16\n",
      "    sym at line 359 column 7\n",
      "    mtimes at line 65 column 5\n",
      "warning: passing floating-point values to sym is dangerous, see \"help sym\"\n",
      "warning: called from\n",
      "    double_to_sym_heuristic at line 50 column 7\n",
      "    sym at line 379 column 13\n",
      "    numeric_array_to_sym at line 36 column 16\n",
      "    sym at line 359 column 7\n",
      "    mtimes at line 65 column 5\n",
      "warning: passing floating-point values to sym is dangerous, see \"help sym\"\n",
      "warning: called from\n",
      "    double_to_sym_heuristic at line 50 column 7\n",
      "    sym at line 379 column 13\n",
      "    numeric_array_to_sym at line 36 column 16\n",
      "    sym at line 359 column 7\n",
      "    mtimes at line 65 column 5\n",
      "warning: passing floating-point values to sym is dangerous, see \"help sym\"\n",
      "warning: called from\n",
      "    double_to_sym_heuristic at line 50 column 7\n",
      "    sym at line 379 column 13\n",
      "    numeric_array_to_sym at line 36 column 16\n",
      "    sym at line 359 column 7\n",
      "    mtimes at line 65 column 5\n",
      "warning: passing floating-point values to sym is dangerous, see \"help sym\"\n",
      "warning: called from\n",
      "    double_to_sym_heuristic at line 50 column 7\n",
      "    sym at line 379 column 13\n",
      "    numeric_array_to_sym at line 36 column 16\n",
      "    sym at line 359 column 7\n",
      "    mtimes at line 65 column 5\n",
      "warning: passing floating-point values to sym is dangerous, see \"help sym\"\n",
      "warning: called from\n",
      "    double_to_sym_heuristic at line 50 column 7\n",
      "    sym at line 379 column 13\n",
      "    numeric_array_to_sym at line 36 column 16\n",
      "    sym at line 359 column 7\n",
      "    mtimes at line 65 column 5\n",
      "warning: passing floating-point values to sym is dangerous, see \"help sym\"\n",
      "warning: called from\n",
      "    double_to_sym_heuristic at line 50 column 7\n",
      "    sym at line 379 column 13\n",
      "    numeric_array_to_sym at line 36 column 16\n",
      "    sym at line 359 column 7\n",
      "    mtimes at line 65 column 5\n",
      "warning: passing floating-point values to sym is dangerous, see \"help sym\"\n",
      "warning: called from\n",
      "    double_to_sym_heuristic at line 50 column 7\n",
      "    sym at line 379 column 13\n",
      "    plus at line 63 column 5\n"
     ]
    }
   ],
   "source": [
    "a1=Ta*[xsi(1);ysi(1);0;1];              \n",
    "    a2=Ta*[xsi(2);ysi(2);0;1];              \n",
    "    a3=Ta*[xsi(3);ysi(3);0;1];              \n",
    "    a4=Ta*[xsi(4);ysi(4);0;1];              \n",
    "    a5=Ta*[xsi(5);ysi(5);0;1];\n",
    "    a6=Ta*[xsi(6);ysi(6);0;1]; \n",
    "\n",
    "    b1=Tb*[xmi(1);ymi(1);0;1];\n",
    "    b2=Tb*[xmi(2);ymi(2);0;1];\n",
    "    b3=Tb*[xmi(3);ymi(3);0;1];\n",
    "    b4=Tb*[xmi(4);ymi(4);0;1];\n",
    "    b5=Tb*[xmi(5);ymi(5);0;1];\n",
    "    b6=Tb*[xmi(6);ymi(6);0;1];\n",
    "\n",
    "    F2=-a2(1:3).'*R*b2(1:3)+(a2(1:3).'*a2(1:3)+b2(1:3).'*b2(1:3)-L2^2+L1^2)/2;    %F equations as described by equation 14\n",
    "    F3=-a3(1:3).'*R*b3(1:3)+(a3(1:3).'*a3(1:3)+b3(1:3).'*b3(1:3)-L3^2+L1^2)/2;\n",
    "    F4=-a4(1:3).'*R*b4(1:3)+(a4(1:3).'*a4(1:3)+b4(1:3).'*b4(1:3)-L4^2+L1^2)/2;\n",
    "    F5=-a5(1:3).'*R*b5(1:3)+(a5(1:3).'*a5(1:3)+b5(1:3).'*b5(1:3)-L5^2+L1^2)/2;\n",
    "    F6=-a6(1:3).'*R*b6(1:3)+(a6(1:3).'*a6(1:3)+b6(1:3).'*b6(1:3)-L6^2+L1^2)/2;\n"
   ]
  },
  {
   "cell_type": "code",
   "execution_count": 11,
   "metadata": {},
   "outputs": [
    {
     "name": "stdout",
     "output_type": "stream",
     "text": [
      "warning: passing floating-point values to sym is dangerous, see \"help sym\"\n",
      "warning: called from\n",
      "    double_to_sym_heuristic at line 50 column 7\n",
      "    sym at line 379 column 13\n",
      "    horzcat at line 64 column 17\n",
      "warning: passing floating-point values to sym is dangerous, see \"help sym\"\n",
      "warning: called from\n",
      "    double_to_sym_heuristic at line 50 column 7\n",
      "    sym at line 379 column 13\n",
      "    horzcat at line 64 column 17\n",
      "warning: passing floating-point values to sym is dangerous, see \"help sym\"\n",
      "warning: called from\n",
      "    double_to_sym_heuristic at line 50 column 7\n",
      "    sym at line 379 column 13\n",
      "    horzcat at line 64 column 17\n",
      "warning: passing floating-point values to sym is dangerous, see \"help sym\"\n",
      "warning: called from\n",
      "    double_to_sym_heuristic at line 50 column 7\n",
      "    sym at line 379 column 13\n",
      "    horzcat at line 64 column 17\n",
      "warning: passing floating-point values to sym is dangerous, see \"help sym\"\n",
      "warning: called from\n",
      "    double_to_sym_heuristic at line 50 column 7\n",
      "    sym at line 379 column 13\n",
      "    horzcat at line 64 column 17\n",
      "warning: passing floating-point values to sym is dangerous, see \"help sym\"\n",
      "warning: called from\n",
      "    double_to_sym_heuristic at line 50 column 7\n",
      "    sym at line 379 column 13\n",
      "    horzcat at line 64 column 17\n",
      "warning: passing floating-point values to sym is dangerous, see \"help sym\"\n",
      "warning: called from\n",
      "    double_to_sym_heuristic at line 50 column 7\n",
      "    sym at line 379 column 13\n",
      "    horzcat at line 64 column 17\n",
      "warning: passing floating-point values to sym is dangerous, see \"help sym\"\n",
      "warning: called from\n",
      "    double_to_sym_heuristic at line 50 column 7\n",
      "    sym at line 379 column 13\n",
      "    horzcat at line 64 column 17\n",
      "warning: passing floating-point values to sym is dangerous, see \"help sym\"\n",
      "warning: called from\n",
      "    double_to_sym_heuristic at line 50 column 7\n",
      "    sym at line 379 column 13\n",
      "    horzcat at line 64 column 17\n",
      "warning: passing floating-point values to sym is dangerous, see \"help sym\"\n",
      "warning: called from\n",
      "    double_to_sym_heuristic at line 50 column 7\n",
      "    sym at line 379 column 13\n",
      "    horzcat at line 64 column 17\n",
      "warning: passing floating-point values to sym is dangerous, see \"help sym\"\n",
      "warning: called from\n",
      "    double_to_sym_heuristic at line 50 column 7\n",
      "    sym at line 379 column 13\n",
      "    horzcat at line 64 column 17\n",
      "warning: passing floating-point values to sym is dangerous, see \"help sym\"\n",
      "warning: called from\n",
      "    double_to_sym_heuristic at line 50 column 7\n",
      "    sym at line 379 column 13\n",
      "    horzcat at line 64 column 17\n",
      "warning: passing floating-point values to sym is dangerous, see \"help sym\"\n",
      "warning: called from\n",
      "    double_to_sym_heuristic at line 50 column 7\n",
      "    sym at line 379 column 13\n",
      "    horzcat at line 64 column 17\n",
      "warning: passing floating-point values to sym is dangerous, see \"help sym\"\n",
      "warning: called from\n",
      "    double_to_sym_heuristic at line 50 column 7\n",
      "    sym at line 379 column 13\n",
      "    horzcat at line 64 column 17\n",
      "warning: passing floating-point values to sym is dangerous, see \"help sym\"\n",
      "warning: called from\n",
      "    double_to_sym_heuristic at line 50 column 7\n",
      "    sym at line 379 column 13\n",
      "    horzcat at line 64 column 17\n",
      "warning: passing floating-point values to sym is dangerous, see \"help sym\"\n",
      "warning: called from\n",
      "    double_to_sym_heuristic at line 50 column 7\n",
      "    sym at line 379 column 13\n",
      "    horzcat at line 64 column 17\n",
      "warning: passing floating-point values to sym is dangerous, see \"help sym\"\n",
      "warning: called from\n",
      "    double_to_sym_heuristic at line 50 column 7\n",
      "    sym at line 379 column 13\n",
      "    horzcat at line 64 column 17\n",
      "warning: passing floating-point values to sym is dangerous, see \"help sym\"\n",
      "warning: called from\n",
      "    double_to_sym_heuristic at line 50 column 7\n",
      "    sym at line 379 column 13\n",
      "    horzcat at line 64 column 17\n",
      "warning: passing floating-point values to sym is dangerous, see \"help sym\"\n",
      "warning: called from\n",
      "    double_to_sym_heuristic at line 50 column 7\n",
      "    sym at line 379 column 13\n",
      "    horzcat at line 64 column 17\n"
     ]
    }
   ],
   "source": [
    "M=[-a2(1) -a2(2) b2(1) b2(2) F2;        %equation 13\n",
    "       -a3(1) -a3(2) b3(1) b3(2) F3;\n",
    "       -a4(1) -a4(2) b4(1) b4(2) F4;   \n",
    "       -a5(1) -a5(2) b5(1) b5(2) F5;\n",
    "       -a6(1) -a6(2) b6(1) b6(2) F6];"
   ]
  },
  {
   "cell_type": "code",
   "execution_count": 12,
   "metadata": {},
   "outputs": [],
   "source": [
    "Phi1=det(M)*D;   "
   ]
  },
  {
   "cell_type": "code",
   "execution_count": 13,
   "metadata": {},
   "outputs": [],
   "source": [
    "    g1=subs(subs(subs(Phi1,c1,0),c2,0),c3,0);                           %c1/c2/c3=0 to get g1\n",
    "    g2=subs(subs(subs(subs(Phi1,c2,0),c1,0),c3^2,0)-g1,c3,1);           %c1/c2/c3^2=0, subtract g1 and set c3=1 to get g2\n",
    "    g3=subs(simplify((subs(subs(Phi1,c1,0),c2,0)-g1)/c3)-g2,c3,1);      %c1/c2=0, subtract g1, divide by c3, subtract g2 and set c3=1 to get g3\n",
    "    g4=subs(subs(Phi1,{c2,c3},{0,0})-g1,c1,1);                          %c2/c3=0, subtract c1, set c1=1 to get g4\n",
    "    g5=subs(subs(subs(subs(Phi1,c2^2,0),c1^2,0),c3,0)-g1,{c1,c2},{1,1});%c2^2/c1^2/c3=0, subtract g1 and set c1/c2=1 to get g5\n",
    "    g6=subs(subs(subs(Phi1,c1,0),c3,0)-g1,c2^2,1);                      %c1/c3=0, subtract g1 and set c2^2=1 to get g6\n"
   ]
  },
  {
   "cell_type": "code",
   "execution_count": 14,
   "metadata": {},
   "outputs": [],
   "source": [
    "syms ct   "
   ]
  },
  {
   "cell_type": "code",
   "execution_count": 15,
   "metadata": {
    "scrolled": true
   },
   "outputs": [
    {
     "name": "stdout",
     "output_type": "stream",
     "text": [
      "warning: passing floating-point values to sym is dangerous, see \"help sym\"\n",
      "warning: called from\n",
      "    double_to_sym_heuristic at line 50 column 7\n",
      "    sym at line 379 column 13\n",
      "    horzcat at line 64 column 17\n",
      "warning: passing floating-point values to sym is dangerous, see \"help sym\"\n",
      "warning: called from\n",
      "    double_to_sym_heuristic at line 50 column 7\n",
      "    sym at line 379 column 13\n",
      "    horzcat at line 64 column 17\n",
      "warning: passing floating-point values to sym is dangerous, see \"help sym\"\n",
      "warning: called from\n",
      "    double_to_sym_heuristic at line 50 column 7\n",
      "    sym at line 379 column 13\n",
      "    horzcat at line 64 column 17\n",
      "warning: passing floating-point values to sym is dangerous, see \"help sym\"\n",
      "warning: called from\n",
      "    double_to_sym_heuristic at line 50 column 7\n",
      "    sym at line 379 column 13\n",
      "    horzcat at line 64 column 17\n",
      "warning: passing floating-point values to sym is dangerous, see \"help sym\"\n",
      "warning: called from\n",
      "    double_to_sym_heuristic at line 50 column 7\n",
      "    sym at line 379 column 13\n",
      "    horzcat at line 64 column 17\n",
      "warning: passing floating-point values to sym is dangerous, see \"help sym\"\n",
      "warning: called from\n",
      "    double_to_sym_heuristic at line 50 column 7\n",
      "    sym at line 379 column 13\n",
      "    horzcat at line 64 column 17\n",
      "warning: passing floating-point values to sym is dangerous, see \"help sym\"\n",
      "warning: called from\n",
      "    double_to_sym_heuristic at line 50 column 7\n",
      "    sym at line 379 column 13\n",
      "    horzcat at line 64 column 17\n",
      "warning: passing floating-point values to sym is dangerous, see \"help sym\"\n",
      "warning: called from\n",
      "    double_to_sym_heuristic at line 50 column 7\n",
      "    sym at line 379 column 13\n",
      "    horzcat at line 64 column 17\n",
      "warning: passing floating-point values to sym is dangerous, see \"help sym\"\n",
      "warning: called from\n",
      "    double_to_sym_heuristic at line 50 column 7\n",
      "    sym at line 379 column 13\n",
      "    horzcat at line 64 column 17\n",
      "warning: passing floating-point values to sym is dangerous, see \"help sym\"\n",
      "warning: called from\n",
      "    double_to_sym_heuristic at line 50 column 7\n",
      "    sym at line 379 column 13\n",
      "    horzcat at line 64 column 17\n",
      "warning: passing floating-point values to sym is dangerous, see \"help sym\"\n",
      "warning: called from\n",
      "    double_to_sym_heuristic at line 50 column 7\n",
      "    sym at line 379 column 13\n",
      "    horzcat at line 64 column 17\n",
      "warning: passing floating-point values to sym is dangerous, see \"help sym\"\n",
      "warning: called from\n",
      "    double_to_sym_heuristic at line 50 column 7\n",
      "    sym at line 379 column 13\n",
      "    horzcat at line 64 column 17\n",
      "warning: passing floating-point values to sym is dangerous, see \"help sym\"\n",
      "warning: called from\n",
      "    double_to_sym_heuristic at line 50 column 7\n",
      "    sym at line 379 column 13\n",
      "    horzcat at line 64 column 17\n",
      "warning: passing floating-point values to sym is dangerous, see \"help sym\"\n",
      "warning: called from\n",
      "    double_to_sym_heuristic at line 50 column 7\n",
      "    sym at line 379 column 13\n",
      "    horzcat at line 64 column 17\n",
      "warning: passing floating-point values to sym is dangerous, see \"help sym\"\n",
      "warning: called from\n",
      "    double_to_sym_heuristic at line 50 column 7\n",
      "    sym at line 379 column 13\n",
      "    horzcat at line 64 column 17\n",
      "warning: passing floating-point values to sym is dangerous, see \"help sym\"\n",
      "warning: called from\n",
      "    double_to_sym_heuristic at line 50 column 7\n",
      "    sym at line 379 column 13\n",
      "    horzcat at line 64 column 17\n"
     ]
    }
   ],
   "source": [
    "  Mp=[-a2(1)     -a2(2)       b2(1)       b2(2)     F2;               %equation 18\n",
    "        -a3(1)     -a3(2)       b3(1)       b3(2)     F3;\n",
    "        -a4(1)     -a4(2)       b4(1)       b4(2)     F4;\n",
    "        -a5(1)     -a5(2)       b5(1)       b5(2)     F5;\n",
    "        (c1-c2*c3) (c2+c1*c3) (-c1-c2*c3) (-c2+c1*c3) 0 ];\n",
    "\n",
    "    Phi2=det(Mp)*D;"
   ]
  },
  {
   "cell_type": "code",
   "execution_count": 16,
   "metadata": {
    "scrolled": true
   },
   "outputs": [
    {
     "name": "stdout",
     "output_type": "stream",
     "text": [
      "Waiting......\n",
      "Waiting...\n"
     ]
    }
   ],
   "source": [
    "    T1=subs(subs(subs(Phi2,c1^3,0),c2,0),c1,1);             %c1^3/c2=0, collect c1's and set c1=1 to get T1\n",
    "    T2=subs(subs(subs(Phi2,c2^3,0),c1,0),c2,1);             %c2^3/c1=0, collect c1's and set c2=1 to get T2\n",
    "    T30=subs(subs(subs(subs(subs(Phi2,c1^3,ct),c1,0),c2,0),ct,c1^3),c1,1);  %c1^3=ct, set c1/c2=0, set ct=c1^2 again and set c1=1 to get T30\n",
    "    T31=subs(subs(subs(subs(subs(subs(subs(subs(subs(subs(expand(subs(subs(Phi2,c3^2,0))-T2*c2),c1^3,0),c3^3,0),c2^2,0),c3^2,0)),c2^3,0),c1^2,ct),c1,0),ct,1),c2,1);    %c3^2=0, subtract T3*c2, set c1^3/c3^3/c2^2/c3^2/c2^3=0, set c1^2 to ct, set c1=0, set ct=1 and c2=1 to get T32...phew    T32=subs(subs(subs(subs(subs(subs(subs(subs(Phi2,c2^2,ct),c2,0),c1^2,0),c1^3,0)-expand(T1*c1),c3^2,0),c3^3,0),ct,1),c1,1);  %c2^2=ct, set c2/c1^2/c1^3=0, subtract T1*c1, set c3^2=0, set ct/c1=1 to get T31\n",
    "    T32=subs(subs(subs(subs(subs(subs(subs(subs(Phi2,c2^2,ct),c2,0),c1^2,0),c1^3,0)-expand(T1*c1),c3^2,0),c3^3,0),ct,1),c1,1);  %c2^2=ct, set c2/c1^2/c1^3=0, subtract T1*c1, set c3^2/c3^3=0, set ct/c1=1 to get T32\n",
    "    T33=subs(subs(subs(subs(subs(subs(Phi2,c1,0),c3^3,0),c3^2,0),c2^3,ct),c2,0),ct,1);  %c1/c3^3/c3^2=0, set c2^3=ct, set c2=0 and set ct=1 to get T33"
   ]
  },
  {
   "cell_type": "code",
   "execution_count": 17,
   "metadata": {},
   "outputs": [],
   "source": [
    "    %-----------------------------------------------------------------Phi3/4/5\n",
    "    syms Px Py Pz Qx Qy Qz E                %symbolic variables for Px/Py/Pz/Qx/Qy/Qz/E\n",
    "\n",
    "    P=[Px Py Pz];\n",
    "    Q=[Qx Qy Qz];\n",
    "\n",
    "    M3a=[-a2(1) -a2(2) b2(1) b2(2);         %equation 23\n",
    "         -a3(1) -a3(2) b3(1) b3(2);\n",
    "         -a4(1) -a4(2) b4(1) b4(2);\n",
    "         -a5(1) -a5(2) b5(1) b5(2)];\n",
    "    M3b=[-F2;\n",
    "         -F3;\n",
    "         -F4;\n",
    "         -F5];\n"
   ]
  },
  {
   "cell_type": "code",
   "execution_count": 18,
   "metadata": {},
   "outputs": [
    {
     "name": "stdout",
     "output_type": "stream",
     "text": [
      "warning: matrix singular to machine precision\n"
     ]
    }
   ],
   "source": [
    "    M3=inv(M3a)*M3b;                       %solution to equation 23"
   ]
  },
  {
   "cell_type": "code",
   "execution_count": 19,
   "metadata": {},
   "outputs": [],
   "source": [
    "    Px=M3(1);\n",
    "    Py=M3(2);\n",
    "    Qx=M3(3);\n",
    "    Qy=M3(4);\n",
    "\n",
    "    e9=(I-C)*P.'-(I+C)*Q.';                 %equation 9\n",
    "    e10=e9(1);                              %equation 10\n",
    "    e11=e9(2);                              %equation 11\n",
    "    e12=e9(3);                              %equation 12\n"
   ]
  },
  {
   "cell_type": "code",
   "execution_count": 20,
   "metadata": {},
   "outputs": [
    {
     "name": "stdout",
     "output_type": "stream",
     "text": [
      "Solve equation 10 for Pz.\n",
      "Solve equation 11 for Pz.\n",
      "Solve equation 12 for Pz.\n"
     ]
    }
   ],
   "source": [
    "    qz10=solve(e10,Qz);         %Solve equation 10 for Pz.\n",
    "            printf(\"Solve equation 10 for Pz.\\r\\n\")\n",
    "    qz11=solve(e11,Qz);         %Solve equation 11 for Pz.\n",
    "            printf(\"Solve equation 11 for Pz.\\r\\n\")\n",
    "    qz12=solve(e12,Qz);         %Solve equation 12 for Pz.\n",
    "            printf(\"Solve equation 12 for Pz.\\r\\n\")\n"
   ]
  },
  {
   "cell_type": "code",
   "execution_count": 21,
   "metadata": {},
   "outputs": [
    {
     "name": "stdout",
     "output_type": "stream",
     "text": [
      "qz12 = (sym) Px⋅c₂ - Py⋅c₁ + Pz + Qx⋅c₂ - Qy⋅c₁\r\n"
     ]
    }
   ],
   "source": [
    "qz12"
   ]
  },
  {
   "cell_type": "code",
   "execution_count": 22,
   "metadata": {},
   "outputs": [
    {
     "name": "stdout",
     "output_type": "stream",
     "text": [
      "qz11 = (sym)\r\n",
      "\r\n",
      "  Px⋅c₃ - Py - Pz⋅c₁ + Qx⋅c₃ + Qy\r\n",
      "  ───────────────────────────────\r\n",
      "                 c₁              \r\n",
      "\r\n"
     ]
    }
   ],
   "source": [
    "qz11"
   ]
  },
  {
   "cell_type": "code",
   "execution_count": 23,
   "metadata": {},
   "outputs": [
    {
     "name": "stdout",
     "output_type": "stream",
     "text": [
      "ans = (sym)\r\n",
      "\r\n",
      "                                        Px⋅c₃ - Py - Pz⋅c₁ + Qx⋅c₃ + Qy\r\n",
      "  -Px⋅c₂ + Py⋅c₁ - Pz - Qx⋅c₂ + Qy⋅c₁ + ───────────────────────────────\r\n",
      "                                                       c₁              \r\n",
      "\r\n"
     ]
    }
   ],
   "source": [
    "qz11-qz12"
   ]
  },
  {
   "cell_type": "code",
   "execution_count": 24,
   "metadata": {},
   "outputs": [
    {
     "name": "stdout",
     "output_type": "stream",
     "text": [
      "ans = (sym)\r\n",
      "\r\n",
      "                           2                                2     \r\n",
      "  -Px⋅c₁⋅c₂ + Px⋅c₃ + Py⋅c₁  - Py - Qx⋅c₁⋅c₂ + Qx⋅c₃ + Qy⋅c₁  + Qy\r\n",
      "  ────────────────────────────────────────────────────────────────\r\n",
      "                                2⋅c₁                              \r\n",
      "\r\n"
     ]
    }
   ],
   "source": [
    "solve(qz11-qz12,Pz)"
   ]
  },
  {
   "cell_type": "code",
   "execution_count": 25,
   "metadata": {
    "scrolled": true
   },
   "outputs": [
    {
     "name": "stdout",
     "output_type": "stream",
     "text": [
      "ans = (sym) nan\r\n"
     ]
    }
   ],
   "source": [
    "eval(solve(qz11-qz12,Pz))"
   ]
  },
  {
   "cell_type": "code",
   "execution_count": 26,
   "metadata": {},
   "outputs": [
    {
     "name": "stdout",
     "output_type": "stream",
     "text": [
      "ans = (sym) nan\r\n"
     ]
    }
   ],
   "source": [
    "eval(solve(qz10-qz12,Pz))"
   ]
  },
  {
   "cell_type": "code",
   "execution_count": null,
   "metadata": {},
   "outputs": [],
   "source": []
  }
 ],
 "metadata": {
  "kernelspec": {
   "display_name": "Octave",
   "language": "octave",
   "name": "octave"
  },
  "language_info": {
   "file_extension": ".m",
   "help_links": [
    {
     "text": "GNU Octave",
     "url": "https://www.gnu.org/software/octave/support.html"
    },
    {
     "text": "Octave Kernel",
     "url": "https://github.com/Calysto/octave_kernel"
    },
    {
     "text": "MetaKernel Magics",
     "url": "https://metakernel.readthedocs.io/en/latest/source/README.html"
    }
   ],
   "mimetype": "text/x-octave",
   "name": "octave",
   "version": "5.2.0"
  }
 },
 "nbformat": 4,
 "nbformat_minor": 4
}
