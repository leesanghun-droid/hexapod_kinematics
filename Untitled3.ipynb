{
 "cells": [
  {
   "cell_type": "code",
   "execution_count": 2,
   "metadata": {},
   "outputs": [
    {
     "data": {
      "text/plain": [
       "(g4, g5, g6, T30, T31, T32, T33)"
      ]
     },
     "execution_count": 2,
     "metadata": {},
     "output_type": "execute_result"
    }
   ],
   "source": [
    "var ('g4,g5,g6,T30,T31,T32,T33')"
   ]
  },
  {
   "cell_type": "code",
   "execution_count": 3,
   "metadata": {},
   "outputs": [],
   "source": [
    " M4a=matrix (SR,[ [g4  ,g5  ,g6  ,0   ,0  ],\n",
    "                  [0   ,g4  ,g5  ,g6  ,0  ],\n",
    "                  [0   ,0   ,g4  ,g5  ,g6 ],   \n",
    "                  [T30 ,T31 ,T32 ,T33 ,0  ],\n",
    "                  [0   ,T30 ,T31 ,T32 ,T33]]);"
   ]
  },
  {
   "cell_type": "code",
   "execution_count": 4,
   "metadata": {},
   "outputs": [],
   "source": [
    "M4a_inv = M4a.inverse()"
   ]
  },
  {
   "cell_type": "code",
   "execution_count": 9,
   "metadata": {},
   "outputs": [
    {
     "data": {
      "text/plain": [
       "(T33^2*g4^2 - T32*T33*g4*g5 + T31*T33*g5^2 + T32^2*g4*g6 - 2*T31*T33*g4*g6 - T31*T32*g5*g6 + T30*T33*g5*g6 + T31^2*g6^2 - T30*T32*g6^2)/(T33^2*g4^3 - T32*T33*g4^2*g5 + T31*T33*g4*g5^2 - T30*T33*g5^3 + T32^2*g4^2*g6 - 2*T31*T33*g4^2*g6 - T31*T32*g4*g5*g6 + 3*T30*T33*g4*g5*g6 + T30*T32*g5^2*g6 + T31^2*g4*g6^2 - 2*T30*T32*g4*g6^2 - T30*T31*g5*g6^2 + T30^2*g6^3)"
      ]
     },
     "execution_count": 9,
     "metadata": {},
     "output_type": "execute_result"
    }
   ],
   "source": [
    "M4a_inv[0,0].factor()"
   ]
  }
 ],
 "metadata": {
  "kernelspec": {
   "display_name": "SageMath 9.0",
   "language": "sage",
   "name": "sagemath"
  },
  "language_info": {
   "codemirror_mode": {
    "name": "ipython",
    "version": 3
   },
   "file_extension": ".py",
   "mimetype": "text/x-python",
   "name": "python",
   "nbconvert_exporter": "python",
   "pygments_lexer": "ipython3",
   "version": "3.8.10"
  }
 },
 "nbformat": 4,
 "nbformat_minor": 4
}
