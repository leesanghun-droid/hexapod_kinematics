{
 "cells": [
  {
   "cell_type": "code",
   "execution_count": 71,
   "metadata": {},
   "outputs": [
    {
     "data": {
      "text/plain": [
       "(F2, F3, F4, F5, F6)"
      ]
     },
     "execution_count": 71,
     "metadata": {},
     "output_type": "execute_result"
    }
   ],
   "source": [
    "var ('a2_f,a3_f,a4_f,a5_f,a6_f')\n",
    "var ('a2_s,a3_s,a4_s,a5_s,a6_s')\n",
    "var ('b2_f,b3_f,b4_f,b5_f,b6_f')\n",
    "var ('b2_s,b3_s,b4_s,b5_s,b6_s')\n",
    "var ('F2,F3,F4,F5,F6')"
   ]
  },
  {
   "cell_type": "code",
   "execution_count": 72,
   "metadata": {},
   "outputs": [],
   "source": [
    "    M=matrix (SR,[ [-a2_f ,-a2_s ,b2_f  ,b2_s ,F2 ],\n",
    "                   [-a3_f ,-a3_s ,b3_f  ,b3_s ,F3 ],\n",
    "                   [-a4_f ,-a4_s ,b4_f  ,b4_s ,F4 ],\n",
    "                   [-a5_f ,-a5_s ,b5_f  ,b5_s ,F5 ],\n",
    "                   [-a6_f ,-a6_s ,b6_f  ,b6_s ,F6 ]]);"
   ]
  },
  {
   "cell_type": "code",
   "execution_count": 78,
   "metadata": {},
   "outputs": [
    {
     "data": {
      "text/plain": [
       "F6*a4_s*a5_f*b2_s*b3_f - F6*a4_f*a5_s*b2_s*b3_f - F5*a4_s*a6_f*b2_s*b3_f + F4*a5_s*a6_f*b2_s*b3_f + F5*a4_f*a6_s*b2_s*b3_f - F4*a5_f*a6_s*b2_s*b3_f - F6*a4_s*a5_f*b2_f*b3_s + F6*a4_f*a5_s*b2_f*b3_s + F5*a4_s*a6_f*b2_f*b3_s - F4*a5_s*a6_f*b2_f*b3_s - F5*a4_f*a6_s*b2_f*b3_s + F4*a5_f*a6_s*b2_f*b3_s - F6*a3_s*a5_f*b2_s*b4_f + F6*a3_f*a5_s*b2_s*b4_f + F5*a3_s*a6_f*b2_s*b4_f - F3*a5_s*a6_f*b2_s*b4_f - F5*a3_f*a6_s*b2_s*b4_f + F3*a5_f*a6_s*b2_s*b4_f + F6*a2_s*a5_f*b3_s*b4_f - F6*a2_f*a5_s*b3_s*b4_f - F5*a2_s*a6_f*b3_s*b4_f + F2*a5_s*a6_f*b3_s*b4_f + F5*a2_f*a6_s*b3_s*b4_f - F2*a5_f*a6_s*b3_s*b4_f + F6*a3_s*a5_f*b2_f*b4_s - F6*a3_f*a5_s*b2_f*b4_s - F5*a3_s*a6_f*b2_f*b4_s + F3*a5_s*a6_f*b2_f*b4_s + F5*a3_f*a6_s*b2_f*b4_s - F3*a5_f*a6_s*b2_f*b4_s - F6*a2_s*a5_f*b3_f*b4_s + F6*a2_f*a5_s*b3_f*b4_s + F5*a2_s*a6_f*b3_f*b4_s - F2*a5_s*a6_f*b3_f*b4_s - F5*a2_f*a6_s*b3_f*b4_s + F2*a5_f*a6_s*b3_f*b4_s + F6*a3_s*a4_f*b2_s*b5_f - F6*a3_f*a4_s*b2_s*b5_f - F4*a3_s*a6_f*b2_s*b5_f + F3*a4_s*a6_f*b2_s*b5_f + F4*a3_f*a6_s*b2_s*b5_f - F3*a4_f*a6_s*b2_s*b5_f - F6*a2_s*a4_f*b3_s*b5_f + F6*a2_f*a4_s*b3_s*b5_f + F4*a2_s*a6_f*b3_s*b5_f - F2*a4_s*a6_f*b3_s*b5_f - F4*a2_f*a6_s*b3_s*b5_f + F2*a4_f*a6_s*b3_s*b5_f + F6*a2_s*a3_f*b4_s*b5_f - F6*a2_f*a3_s*b4_s*b5_f - F3*a2_s*a6_f*b4_s*b5_f + F2*a3_s*a6_f*b4_s*b5_f + F3*a2_f*a6_s*b4_s*b5_f - F2*a3_f*a6_s*b4_s*b5_f - F6*a3_s*a4_f*b2_f*b5_s + F6*a3_f*a4_s*b2_f*b5_s + F4*a3_s*a6_f*b2_f*b5_s - F3*a4_s*a6_f*b2_f*b5_s - F4*a3_f*a6_s*b2_f*b5_s + F3*a4_f*a6_s*b2_f*b5_s + F6*a2_s*a4_f*b3_f*b5_s - F6*a2_f*a4_s*b3_f*b5_s - F4*a2_s*a6_f*b3_f*b5_s + F2*a4_s*a6_f*b3_f*b5_s + F4*a2_f*a6_s*b3_f*b5_s - F2*a4_f*a6_s*b3_f*b5_s - F6*a2_s*a3_f*b4_f*b5_s + F6*a2_f*a3_s*b4_f*b5_s + F3*a2_s*a6_f*b4_f*b5_s - F2*a3_s*a6_f*b4_f*b5_s - F3*a2_f*a6_s*b4_f*b5_s + F2*a3_f*a6_s*b4_f*b5_s - F5*a3_s*a4_f*b2_s*b6_f + F5*a3_f*a4_s*b2_s*b6_f + F4*a3_s*a5_f*b2_s*b6_f - F3*a4_s*a5_f*b2_s*b6_f - F4*a3_f*a5_s*b2_s*b6_f + F3*a4_f*a5_s*b2_s*b6_f + F5*a2_s*a4_f*b3_s*b6_f - F5*a2_f*a4_s*b3_s*b6_f - F4*a2_s*a5_f*b3_s*b6_f + F2*a4_s*a5_f*b3_s*b6_f + F4*a2_f*a5_s*b3_s*b6_f - F2*a4_f*a5_s*b3_s*b6_f - F5*a2_s*a3_f*b4_s*b6_f + F5*a2_f*a3_s*b4_s*b6_f + F3*a2_s*a5_f*b4_s*b6_f - F2*a3_s*a5_f*b4_s*b6_f - F3*a2_f*a5_s*b4_s*b6_f + F2*a3_f*a5_s*b4_s*b6_f + F4*a2_s*a3_f*b5_s*b6_f - F4*a2_f*a3_s*b5_s*b6_f - F3*a2_s*a4_f*b5_s*b6_f + F2*a3_s*a4_f*b5_s*b6_f + F3*a2_f*a4_s*b5_s*b6_f - F2*a3_f*a4_s*b5_s*b6_f + F5*a3_s*a4_f*b2_f*b6_s - F5*a3_f*a4_s*b2_f*b6_s - F4*a3_s*a5_f*b2_f*b6_s + F3*a4_s*a5_f*b2_f*b6_s + F4*a3_f*a5_s*b2_f*b6_s - F3*a4_f*a5_s*b2_f*b6_s - F5*a2_s*a4_f*b3_f*b6_s + F5*a2_f*a4_s*b3_f*b6_s + F4*a2_s*a5_f*b3_f*b6_s - F2*a4_s*a5_f*b3_f*b6_s - F4*a2_f*a5_s*b3_f*b6_s + F2*a4_f*a5_s*b3_f*b6_s + F5*a2_s*a3_f*b4_f*b6_s - F5*a2_f*a3_s*b4_f*b6_s - F3*a2_s*a5_f*b4_f*b6_s + F2*a3_s*a5_f*b4_f*b6_s + F3*a2_f*a5_s*b4_f*b6_s - F2*a3_f*a5_s*b4_f*b6_s - F4*a2_s*a3_f*b5_f*b6_s + F4*a2_f*a3_s*b5_f*b6_s + F3*a2_s*a4_f*b5_f*b6_s - F2*a3_s*a4_f*b5_f*b6_s - F3*a2_f*a4_s*b5_f*b6_s + F2*a3_f*a4_s*b5_f*b6_s"
      ]
     },
     "execution_count": 78,
     "metadata": {},
     "output_type": "execute_result"
    }
   ],
   "source": [
    "det(M)"
   ]
  },
  {
   "cell_type": "code",
   "execution_count": null,
   "metadata": {},
   "outputs": [],
   "source": []
  },
  {
   "cell_type": "code",
   "execution_count": null,
   "metadata": {},
   "outputs": [],
   "source": []
  }
 ],
 "metadata": {
  "kernelspec": {
   "display_name": "SageMath 9.0",
   "language": "sage",
   "name": "sagemath"
  },
  "language_info": {
   "codemirror_mode": {
    "name": "ipython",
    "version": 3
   },
   "file_extension": ".py",
   "mimetype": "text/x-python",
   "name": "python",
   "nbconvert_exporter": "python",
   "pygments_lexer": "ipython3",
   "version": "3.8.10"
  }
 },
 "nbformat": 4,
 "nbformat_minor": 4
}
