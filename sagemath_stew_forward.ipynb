{
 "cells": [
  {
   "cell_type": "code",
   "execution_count": 1,
   "metadata": {},
   "outputs": [],
   "source": [
    "xsi=[]\n",
    "ysi=[]\n",
    "xmi=[]\n",
    "ymi=[]"
   ]
  },
  {
   "cell_type": "code",
   "execution_count": 2,
   "metadata": {},
   "outputs": [],
   "source": [
    "#xsi  59.1400   59.1400   37.9800  -97.1200  -97.1200   37.9800\n",
    "xsi.append(59.1400);\n",
    "xsi.append(59.1400);\n",
    "xsi.append(37.9800);\n",
    "xsi.append(-97.1200);\n",
    "xsi.append(-97.1200);\n",
    "xsi.append(37.9800);\n",
    "\n",
    "#ysi  78.0000  -78.0000  -90.2200  -12.2200   12.2200   90.2200\n",
    "ysi.append(78.0000);\n",
    "ysi.append(-78.0000);\n",
    "ysi.append(-90.2200);\n",
    "ysi.append(-12.2200);\n",
    "ysi.append(12.2200);\n",
    "ysi.append(90.2200);\n",
    "\n",
    "\n",
    "#xmi  83.1400   83.1400  -38.9700  -44.1700  -44.1700  -38.9700\n",
    "xmi.append(83.1400);\n",
    "xmi.append(83.1400);\n",
    "xmi.append(-38.9700);\n",
    "xmi.append(-44.1700);\n",
    "xmi.append(-44.1700);\n",
    "xmi.append(-38.9700);\n",
    "\n",
    "#ymi  3.0000   -3.0000  -73.5000  -70.5000   70.5000   73.5000\n",
    "ymi.append(3.0000);\n",
    "ymi.append(-3.0000);\n",
    "ymi.append(-73.5000);\n",
    "ymi.append(-70.5000);\n",
    "ymi.append(70.5000);\n",
    "ymi.append(73.5000);\n",
    "\n",
    "\n",
    "rollmin =-100\n",
    "rollmax =100\n",
    "pitchmin =-100\n",
    "pitchmax =100\n",
    "yawmin =-100\n",
    "yawmax =100\n",
    "pxmin =-100\n",
    "pxmax =100\n",
    "pymin =-100\n",
    "pymax =100\n",
    "pzmin =-200\n",
    "pzmax =200\n",
    "    \n",
    "L1 = 133\n",
    "L2 = 133\n",
    "L3 = 133\n",
    "L4 = 133\n",
    "L5 = 133\n",
    "L6 = 133"
   ]
  },
  {
   "cell_type": "code",
   "execution_count": 3,
   "metadata": {},
   "outputs": [],
   "source": [
    "legmin=106;                             \n",
    "legmax=167;"
   ]
  },
  {
   "cell_type": "code",
   "execution_count": 4,
   "metadata": {},
   "outputs": [
    {
     "data": {
      "text/plain": [
       "(c1, c2, c3)"
      ]
     },
     "execution_count": 4,
     "metadata": {},
     "output_type": "execute_result"
    }
   ],
   "source": [
    "var('c1,c2,c3')"
   ]
  },
  {
   "cell_type": "code",
   "execution_count": 5,
   "metadata": {},
   "outputs": [],
   "source": [
    "I=matrix(    [[1,0,0],\n",
    "             [0,1,0],\n",
    "             [0,0,1]]) "
   ]
  },
  {
   "cell_type": "code",
   "execution_count": 6,
   "metadata": {},
   "outputs": [],
   "source": [
    "C=matrix(SR, [[0,-c3,c2],\n",
    "             [c3,0,-c1],\n",
    "             [-c2,c1,0]]) "
   ]
  },
  {
   "cell_type": "code",
   "execution_count": 7,
   "metadata": {
    "scrolled": true
   },
   "outputs": [],
   "source": [
    "R1=(I-C)^-1"
   ]
  },
  {
   "cell_type": "code",
   "execution_count": 8,
   "metadata": {},
   "outputs": [],
   "source": [
    "for i in range(3):\n",
    "    for j in range(3):\n",
    "        R1[i,j]=R1[i,j].full_simplify();"
   ]
  },
  {
   "cell_type": "code",
   "execution_count": 9,
   "metadata": {},
   "outputs": [],
   "source": [
    "R2=R1*(I+C)"
   ]
  },
  {
   "cell_type": "code",
   "execution_count": 10,
   "metadata": {},
   "outputs": [],
   "source": [
    "R=R2"
   ]
  },
  {
   "cell_type": "code",
   "execution_count": 11,
   "metadata": {},
   "outputs": [],
   "source": [
    "D=(1+c1^2+c2^2+c3^2);"
   ]
  },
  {
   "cell_type": "code",
   "execution_count": 12,
   "metadata": {},
   "outputs": [],
   "source": [
    "Ta=matrix(      [[1,0,0,-xsi[0]],                      \n",
    "                [0,1,0,-ysi[0]],\n",
    "                [0,0,1,0]      ,\n",
    "                [0,0,0,1]      ])"
   ]
  },
  {
   "cell_type": "code",
   "execution_count": 13,
   "metadata": {},
   "outputs": [],
   "source": [
    "Tb=matrix(      [[1,0,0,-xmi[0]],                     \n",
    "                [0,1,0,-ymi[0]],\n",
    "                [0,0,1,0]      ,\n",
    "                [0,0,0,1]      ])"
   ]
  },
  {
   "cell_type": "code",
   "execution_count": 14,
   "metadata": {},
   "outputs": [],
   "source": [
    "a1 = Ta*matrix([[xsi[0]],[ysi[0]],[0],[1]])\n",
    "a2 = Ta*matrix([[xsi[1]],[ysi[1]],[0],[1]])\n",
    "a3 = Ta*matrix([[xsi[2]],[ysi[2]],[0],[1]])\n",
    "a4 = Ta*matrix([[xsi[3]],[ysi[3]],[0],[1]])\n",
    "a5 = Ta*matrix([[xsi[4]],[ysi[4]],[0],[1]])\n",
    "a6 = Ta*matrix([[xsi[5]],[ysi[5]],[0],[1]])"
   ]
  },
  {
   "cell_type": "code",
   "execution_count": 15,
   "metadata": {},
   "outputs": [],
   "source": [
    "b1 = Tb*matrix([[xmi[0]],[ymi[0]],[0],[1]])\n",
    "b2 = Tb*matrix([[xmi[1]],[ymi[1]],[0],[1]])\n",
    "b3 = Tb*matrix([[xmi[2]],[ymi[2]],[0],[1]])\n",
    "b4 = Tb*matrix([[xmi[3]],[ymi[3]],[0],[1]])\n",
    "b5 = Tb*matrix([[xmi[4]],[ymi[4]],[0],[1]])\n",
    "b6 = Tb*matrix([[xmi[5]],[ymi[5]],[0],[1]])"
   ]
  },
  {
   "cell_type": "code",
   "execution_count": 16,
   "metadata": {
    "scrolled": false
   },
   "outputs": [],
   "source": [
    "F2=-a2[0:3].transpose()*R*b2[0:3]+(a2[0:3].transpose()*a2[0:3]+b2[0:3].transpose()*b2[0:3]-L2^2+L1^2)/2\n",
    "F3=-a3[0:3].transpose()*R*b3[0:3]+(a3[0:3].transpose()*a3[0:3]+b3[0:3].transpose()*b3[0:3]-L3^2+L1^2)/2\n",
    "F4=-a4[0:3].transpose()*R*b4[0:3]+(a4[0:3].transpose()*a4[0:3]+b4[0:3].transpose()*b4[0:3]-L4^2+L1^2)/2\n",
    "F5=-a5[0:3].transpose()*R*b5[0:3]+(a5[0:3].transpose()*a5[0:3]+b5[0:3].transpose()*b5[0:3]-L5^2+L1^2)/2\n",
    "F6=-a6[0:3].transpose()*R*b6[0:3]+(a6[0:3].transpose()*a6[0:3]+b6[0:3].transpose()*b6[0:3]-L6^2+L1^2)/2"
   ]
  },
  {
   "cell_type": "code",
   "execution_count": 17,
   "metadata": {
    "scrolled": true
   },
   "outputs": [],
   "source": [
    "F2[0,0]=F2[0,0].collect(1/(c1^2 + c2^2 + c3^2 + 1)).full_simplify()\n",
    "F3[0,0]=F3[0,0].collect(1/(c1^2 + c2^2 + c3^2 + 1)).full_simplify()\n",
    "F4[0,0]=F4[0,0].collect(1/(c1^2 + c2^2 + c3^2 + 1)).full_simplify()\n",
    "F5[0,0]=F5[0,0].collect(1/(c1^2 + c2^2 + c3^2 + 1)).full_simplify()\n",
    "F6[0,0]=F6[0,0].collect(1/(c1^2 + c2^2 + c3^2 + 1)).full_simplify()"
   ]
  },
  {
   "cell_type": "code",
   "execution_count": 18,
   "metadata": {},
   "outputs": [],
   "source": [
    "    M=matrix (SR,[ [-a2[0,0],-a2[1,0],b2[0,0],b2[1,0],F2[0,0]],\n",
    "                   [-a3[0,0],-a3[1,0],b3[0,0],b3[1,0],F3[0,0]],\n",
    "                   [-a4[0,0],-a4[1,0],b4[0,0],b4[1,0],F4[0,0]],   \n",
    "                   [-a5[0,0],-a5[1,0],b5[0,0],b5[1,0],F5[0,0]],\n",
    "                   [-a6[0,0],-a6[1,0],b6[0,0],b6[1,0],F6[0,0]]]);"
   ]
  },
  {
   "cell_type": "code",
   "execution_count": 19,
   "metadata": {},
   "outputs": [],
   "source": [
    "Phi1_1=det(M)"
   ]
  },
  {
   "cell_type": "code",
   "execution_count": 20,
   "metadata": {},
   "outputs": [],
   "source": [
    "Phi1_2=Phi1_1.collect(1/(c1^2 + c2^2 + c3^2 + 1))"
   ]
  },
  {
   "cell_type": "code",
   "execution_count": 21,
   "metadata": {},
   "outputs": [],
   "source": [
    "Phi1=Phi1_2*D"
   ]
  },
  {
   "cell_type": "code",
   "execution_count": 22,
   "metadata": {},
   "outputs": [
    {
     "data": {
      "text/plain": [
       "-0.000610576926109344*c1*c2*c3 - 0.0009765625*c1^2 + 48694269.04885864*c1*c2 - 0.001953125*c2^2 + 0.0008087158203125*c3^2 - 27099944721917.266*c3 - 0.00244140625"
      ]
     },
     "execution_count": 22,
     "metadata": {},
     "output_type": "execute_result"
    }
   ],
   "source": [
    "Phi1"
   ]
  },
  {
   "cell_type": "code",
   "execution_count": 23,
   "metadata": {},
   "outputs": [],
   "source": [
    "g1=Phi1.subs(c1==0,c2==0,c3==0)\n",
    "g2=(Phi1.subs(c2==0,c1==0,c3^2==0)-g1).subs(c3==1)\n",
    "g3=(((Phi1.subs(c1==0,c2==0)-g1)/c3).full_simplify()-g2).subs(c3==1)\n",
    "g4=(Phi1.subs(c2==0,c3==0)-g1).subs(c1==1)\n",
    "g5=(Phi1.subs(c2^2==0,c1^2==0,c3==0)-g1).subs(c1==1,c2==1)\n",
    "g6=(Phi1.subs(c1==0,c3==0)-g1).subs(c2^2==1)"
   ]
  },
  {
   "cell_type": "code",
   "execution_count": 24,
   "metadata": {},
   "outputs": [
    {
     "data": {
      "text/plain": [
       "ct"
      ]
     },
     "execution_count": 24,
     "metadata": {},
     "output_type": "execute_result"
    }
   ],
   "source": [
    "var('ct')"
   ]
  },
  {
   "cell_type": "code",
   "execution_count": 25,
   "metadata": {},
   "outputs": [],
   "source": [
    "    Mp=matrix (SR,[[-a2[0,0],-a2[1,0],b2[0,0],b2[1,0],F2[0,0]],\n",
    "                   [-a3[0,0],-a3[1,0],b3[0,0],b3[1,0],F3[0,0]],\n",
    "                   [-a4[0,0],-a4[1,0],b4[0,0],b4[1,0],F4[0,0]],   \n",
    "                   [-a5[0,0],-a5[1,0],b5[0,0],b5[1,0],F5[0,0]],\n",
    "                   [(c1-c2*c3),(c2+c1*c3),(-c1-c2*c3),(-c2+c1*c3),0]]);"
   ]
  },
  {
   "cell_type": "code",
   "execution_count": 26,
   "metadata": {},
   "outputs": [],
   "source": [
    "Phi2_1=det(Mp)"
   ]
  },
  {
   "cell_type": "code",
   "execution_count": 27,
   "metadata": {},
   "outputs": [],
   "source": [
    "Phi2_2=Phi2_1.collect(1/(c1^2 + c2^2 + c3^2 + 1))"
   ]
  },
  {
   "cell_type": "code",
   "execution_count": 28,
   "metadata": {},
   "outputs": [],
   "source": [
    "Phi2=Phi2_2*D"
   ]
  },
  {
   "cell_type": "code",
   "execution_count": 29,
   "metadata": {},
   "outputs": [],
   "source": [
    "T1 = Phi2.subs(c1^3==0,c2==0).collect(c1).subs(c1==1)\n",
    "T2 = Phi2.subs(c2^3==0,c1==0).collect(c1).subs(c2==1)\n",
    "T30 = Phi2.subs(c1^3==ct).subs(c1==0,c2==0).subs(ct==c1^3).subs(c1==1)\n",
    "T31 = expand(Phi2.subs(c3^2==0).subs()-T2*c2).subs(c1^3==0,c3^3==0,c2^2==0,c3^2==0).subs(c2^3==0).subs(c1^2==ct).subs(c1==0).subs(ct==1).subs(c2==1)\n",
    "T32 = (Phi2.subs(c2^2==ct).subs(c2==0,c1^2==0,c1^3==0)-expand(T1*c1)).subs(c3^2==0,c3^3==0).subs(ct==1).subs(c1==1)\n",
    "T33 = Phi2.subs(c1==0,c3^3==0,c3^2==0).subs(c2^3==ct).subs(c2==0).subs(ct==1)"
   ]
  },
  {
   "cell_type": "code",
   "execution_count": 30,
   "metadata": {},
   "outputs": [
    {
     "data": {
      "text/plain": [
       "(Px, Py, Pz, Qx, Qy, Qz, E)"
      ]
     },
     "execution_count": 30,
     "metadata": {},
     "output_type": "execute_result"
    }
   ],
   "source": [
    "var('Px,Py,Pz,Qx,Qy,Qz,E')"
   ]
  },
  {
   "cell_type": "code",
   "execution_count": 31,
   "metadata": {},
   "outputs": [],
   "source": [
    "M3a=matrix (RR,[[-a2[0,0],-a2[1,0],b2[0,0],b2[1,0]],\n",
    "                [-a3[0,0],-a3[1,0],b3[0,0],b3[1,0]],\n",
    "                [-a4[0,0],-a4[1,0],b4[0,0],b4[1,0]],   \n",
    "                [-a5[0,0],-a5[1,0],b5[0,0],b5[1,0]] ]);"
   ]
  },
  {
   "cell_type": "code",
   "execution_count": 32,
   "metadata": {},
   "outputs": [],
   "source": [
    "M3b=matrix (SR,[[F2[0,0]],\n",
    "                [F3[0,0]],\n",
    "                [F4[0,0]],\n",
    "                [F5[0,0]]  ])"
   ]
  },
  {
   "cell_type": "code",
   "execution_count": 33,
   "metadata": {},
   "outputs": [],
   "source": [
    "M3=M3a.inverse()*M3b;"
   ]
  },
  {
   "cell_type": "code",
   "execution_count": 34,
   "metadata": {},
   "outputs": [],
   "source": [
    "M3[0,0]=M3[0,0].collect(1/(c1^2 + c2^2 + c3^2 + 1)).full_simplify()\n",
    "M3[1,0]=M3[1,0].collect(1/(c1^2 + c2^2 + c3^2 + 1)).full_simplify()\n",
    "M3[2,0]=M3[2,0].collect(1/(c1^2 + c2^2 + c3^2 + 1)).full_simplify()\n",
    "M3[3,0]=M3[3,0].collect(1/(c1^2 + c2^2 + c3^2 + 1)).full_simplify()"
   ]
  },
  {
   "cell_type": "code",
   "execution_count": 35,
   "metadata": {},
   "outputs": [],
   "source": [
    "P = matrix([Px,Py,Pz])\n",
    "Q = matrix([Qx,Qy,Qz])"
   ]
  },
  {
   "cell_type": "code",
   "execution_count": 36,
   "metadata": {},
   "outputs": [
    {
     "data": {
      "text/plain": [
       "[Px Py Pz]"
      ]
     },
     "execution_count": 36,
     "metadata": {},
     "output_type": "execute_result"
    }
   ],
   "source": [
    "P"
   ]
  },
  {
   "cell_type": "code",
   "execution_count": 37,
   "metadata": {},
   "outputs": [],
   "source": [
    "e9=(I-C)*P.transpose()-(I+C)*Q.transpose()"
   ]
  },
  {
   "cell_type": "code",
   "execution_count": 38,
   "metadata": {},
   "outputs": [],
   "source": [
    "e10=e9[0];                           \n",
    "e11=e9[1];                            \n",
    "e12=e9[2];"
   ]
  },
  {
   "cell_type": "code",
   "execution_count": 39,
   "metadata": {
    "scrolled": true
   },
   "outputs": [
    {
     "data": {
      "text/plain": [
       "(-Pz*c2 - Qz*c2 + Py*c3 + Qy*c3 + Px - Qx)"
      ]
     },
     "execution_count": 39,
     "metadata": {},
     "output_type": "execute_result"
    }
   ],
   "source": [
    "e10"
   ]
  },
  {
   "cell_type": "code",
   "execution_count": 40,
   "metadata": {},
   "outputs": [],
   "source": [
    "qz10=solve(e10[0],Qz)[0].right().collect(Pz).full_simplify()\n",
    "qz11=solve(e11[0],Qz)[0].right().collect(Pz).full_simplify()\n",
    "qz12=solve(e12[0],Qz)[0].right().collect(Pz).full_simplify()"
   ]
  },
  {
   "cell_type": "code",
   "execution_count": 41,
   "metadata": {},
   "outputs": [],
   "source": [
    "pz1 = solve(qz11-qz12,Pz)[0].right().full_simplify().subs(Px==M3[0,0],Py==M3[1,0],Qx==M3[2,0],Qy==M3[3,0]).factor().full_simplify()"
   ]
  },
  {
   "cell_type": "code",
   "execution_count": 42,
   "metadata": {},
   "outputs": [],
   "source": [
    "pz2 = solve(qz10-qz12,Pz)[0].right().full_simplify().subs(Px==M3[0,0],Py==M3[1,0],Qx==M3[2,0],Qy==M3[3,0]).factor().full_simplify()"
   ]
  },
  {
   "cell_type": "code",
   "execution_count": 43,
   "metadata": {},
   "outputs": [],
   "source": [
    "N1=pz1*c1*D"
   ]
  },
  {
   "cell_type": "code",
   "execution_count": 44,
   "metadata": {},
   "outputs": [],
   "source": [
    "D1=c1*D;"
   ]
  },
  {
   "cell_type": "code",
   "execution_count": 45,
   "metadata": {},
   "outputs": [],
   "source": [
    "N2=pz2*c2*D; "
   ]
  },
  {
   "cell_type": "code",
   "execution_count": 46,
   "metadata": {},
   "outputs": [],
   "source": [
    "D2=c2*D;"
   ]
  },
  {
   "cell_type": "code",
   "execution_count": 47,
   "metadata": {},
   "outputs": [],
   "source": [
    "pz3=((N1-N2).factor().full_simplify()/(D1-D2)).collect((c1^2 + c2^2 + c3^2 + 1))"
   ]
  },
  {
   "cell_type": "code",
   "execution_count": 48,
   "metadata": {},
   "outputs": [],
   "source": [
    " M4a=matrix (SR,[    [g4  ,g5  ,g6  ,0   ,0  ],\n",
    "                  [0   ,g4  ,g5  ,g6  ,0  ],\n",
    "                  [0   ,0   ,g4  ,g5  ,g6 ],   \n",
    "                  [T30 ,T31 ,T32 ,T33 ,0  ],\n",
    "                  [0   ,T30 ,T31 ,T32 ,T33]]);"
   ]
  },
  {
   "cell_type": "code",
   "execution_count": 49,
   "metadata": {},
   "outputs": [],
   "source": [
    " M4b=matrix (SR,[ [c1^2*g1+c1^2*g2*c3+c1^2*g3*c3^2],\n",
    "                  [c1*c2*g1+c1*c2*g2*c3+c1*c2*g3*c3^2],\n",
    "                  [c2^2*g1+c2^2*g2*c3+c2^2*g3*c3^2],   \n",
    "                  [T1*c1^2+T2*c1*c2],\n",
    "                  [T1*c1*c2+T2*c2^2]]);"
   ]
  },
  {
   "cell_type": "code",
   "execution_count": 50,
   "metadata": {},
   "outputs": [],
   "source": [
    "M4a_inv=M4a.inverse()"
   ]
  },
  {
   "cell_type": "code",
   "execution_count": 51,
   "metadata": {},
   "outputs": [],
   "source": [
    "M4=M4a_inv*(-M4b)"
   ]
  },
  {
   "cell_type": "code",
   "execution_count": 52,
   "metadata": {},
   "outputs": [],
   "source": [
    "M4num=matrix(SR,5,1)\n",
    "M4den=matrix(SR,5,1)\n",
    "M4e=matrix(SR,5,1)"
   ]
  },
  {
   "cell_type": "code",
   "execution_count": 53,
   "metadata": {},
   "outputs": [],
   "source": [
    "for i in range(5):\n",
    "    M4num[i,0]=numerator(M4[i,0])\n",
    "    M4den[i,0]=denominator(M4[i,0])"
   ]
  },
  {
   "cell_type": "code",
   "execution_count": 54,
   "metadata": {},
   "outputs": [],
   "source": [
    "for i in range(5):\n",
    "    M4num[i,0]=(M4num[i,0]/(1.0e30))\n",
    "    M4den[i,0]=(M4den[i,0]/(1.0e30))"
   ]
  },
  {
   "cell_type": "code",
   "execution_count": 55,
   "metadata": {},
   "outputs": [],
   "source": [
    "M4e = M4num/E"
   ]
  },
  {
   "cell_type": "code",
   "execution_count": 56,
   "metadata": {},
   "outputs": [],
   "source": [
    "phi = matrix(SR,[ [((Px^2+Py^2+pz1^2-L1^2)*D^2*c1^2)],\n",
    "                  [((Px^2+Py^2+pz2^2-L1^2)*D^2*c2^2)],\n",
    "                  [((Px^2+Py^2+pz3^2-L1^2)*D^2*(c1-c2)^2)]]);"
   ]
  },
  {
   "cell_type": "code",
   "execution_count": 57,
   "metadata": {},
   "outputs": [],
   "source": [
    "for i in range(3):\n",
    "    phi[i,0]=phi[i,0].subs(Px==M3[0,0],Py==M3[1,0])"
   ]
  },
  {
   "cell_type": "code",
   "execution_count": 58,
   "metadata": {},
   "outputs": [],
   "source": [
    "for i in range(2):\n",
    "    for j in range(3):\n",
    "        phi[j,0]=phi[j,0].subs(c1^4==M4e[0,0])\n",
    "        phi[j,0]=phi[j,0].subs(c1^3*c2==M4e[1,0])\n",
    "        phi[j,0]=phi[j,0].subs(c1^2*c2^2==M4e[2,0])\n",
    "        phi[j,0]=phi[j,0].subs(c1*c2^3==M4e[3,0])\n",
    "        phi[j,0]=phi[j,0].subs(c2^4==M4e[4,0])"
   ]
  },
  {
   "cell_type": "code",
   "execution_count": 59,
   "metadata": {},
   "outputs": [],
   "source": [
    "Phi3=phi[0,0].subs(E==M4den[1,0])\n",
    "Phi4=phi[1,0].subs(E==M4den[1,0])\n",
    "Phi5=phi[2,0].subs(E==M4den[1,0])"
   ]
  },
  {
   "cell_type": "code",
   "execution_count": 60,
   "metadata": {},
   "outputs": [],
   "source": [
    "E=M4den[1,0]"
   ]
  },
  {
   "cell_type": "code",
   "execution_count": 61,
   "metadata": {},
   "outputs": [],
   "source": [
    "W=matrix(SR,3,1)\n",
    "Wd=matrix(SR,3,1)"
   ]
  },
  {
   "cell_type": "code",
   "execution_count": 62,
   "metadata": {},
   "outputs": [],
   "source": [
    "W[0,0]=numerator(Phi3)\n",
    "W[1,0]=numerator(Phi4)\n",
    "W[2,0]=numerator(Phi5)\n",
    "Wd[0,0]=denominator(Phi3)\n",
    "Wd[1,0]=denominator(Phi4)\n",
    "Wd[2,0]=denominator(Phi5)"
   ]
  },
  {
   "cell_type": "code",
   "execution_count": 63,
   "metadata": {},
   "outputs": [],
   "source": [
    "W11=W[0,0].subs(c1==0,c2==0)"
   ]
  },
  {
   "cell_type": "code",
   "execution_count": 64,
   "metadata": {},
   "outputs": [],
   "source": [
    "W12=(W[0,0].subs(c2==0)-W11).subs(c1==1)"
   ]
  },
  {
   "cell_type": "code",
   "execution_count": 65,
   "metadata": {},
   "outputs": [],
   "source": [
    "W14=(W[0,0].subs(c1==0)-W11).subs(c2==1)"
   ]
  },
  {
   "cell_type": "code",
   "execution_count": 66,
   "metadata": {},
   "outputs": [],
   "source": [
    "W13=(W[0,0].subs(c1==1,c2==1))-W11-W12-W14"
   ]
  },
  {
   "cell_type": "code",
   "execution_count": 67,
   "metadata": {},
   "outputs": [],
   "source": [
    "W21=W[1,0].subs(c1==0,c2==0)"
   ]
  },
  {
   "cell_type": "code",
   "execution_count": 68,
   "metadata": {},
   "outputs": [],
   "source": [
    "W22=(W[1,0].subs(c2==0)-W21).subs(c1==1)"
   ]
  },
  {
   "cell_type": "code",
   "execution_count": 69,
   "metadata": {},
   "outputs": [],
   "source": [
    "W24=(W[1,0].subs(c1==0)-W21).subs(c2==1)"
   ]
  },
  {
   "cell_type": "code",
   "execution_count": 70,
   "metadata": {},
   "outputs": [],
   "source": [
    "W23=(W[1,0].subs(c1==1,c2==1))-W21-W22-W24"
   ]
  },
  {
   "cell_type": "code",
   "execution_count": 71,
   "metadata": {},
   "outputs": [],
   "source": [
    "W31=W[2,0].subs(c1==0,c2==0)"
   ]
  },
  {
   "cell_type": "code",
   "execution_count": 72,
   "metadata": {},
   "outputs": [],
   "source": [
    "W32=(W[2,0].subs(c2==0)-W31).subs(c1==1)"
   ]
  },
  {
   "cell_type": "code",
   "execution_count": 73,
   "metadata": {},
   "outputs": [],
   "source": [
    "W34=(W[2,0].subs(c1==0)-W31).subs(c2==1)"
   ]
  },
  {
   "cell_type": "code",
   "execution_count": 74,
   "metadata": {},
   "outputs": [],
   "source": [
    "W33=(W[2,0].subs(c1==1,c2==1))-W31-W32-W34"
   ]
  },
  {
   "cell_type": "code",
   "execution_count": 75,
   "metadata": {},
   "outputs": [],
   "source": [
    " S=matrix (SR,[    [(g1+g2*c3+g3*c3^2)    ,g4         ,g5         ,g6       ],\n",
    "                   [W11/(E^3)             ,W12/(E^3)  ,W13/(E^3)  ,W14/(E^3)],\n",
    "                   [W21/(E^3)             ,W22/(E^3)  ,W23/(E^3)  ,W24/(E^3)],   \n",
    "                   [W31/(E^3)             ,W32/(E^3)  ,W33/(E^3)  ,W34/(E^3)]]);"
   ]
  },
  {
   "cell_type": "code",
   "execution_count": 76,
   "metadata": {},
   "outputs": [
    {
     "data": {
      "text/plain": [
       "(-infinity*c3^53 - infinity*c3^52 - infinity*c3^51 - infinity*c3^50 - infinity*c3^49 - infinity*c3^48 - infinity*c3^47 - infinity*c3^46 - infinity*c3^45 - infinity*c3^44 - infinity*c3^43 - infinity*c3^42 - infinity*c3^41 - infinity*c3^40 - infinity*c3^39 - infinity*c3^38 - infinity*c3^37 - infinity*c3^36 - infinity*c3^35 - infinity*c3^34 - infinity*c3^33 - infinity*c3^32 - infinity*c3^31 - infinity*c3^30 - infinity*c3^29 - infinity*c3^28 - infinity*c3^27 - infinity*c3^26 - infinity*c3^25 - infinity*c3^24 - infinity*c3^23 - infinity*c3^22 - infinity*c3^21 - infinity*c3^20 - infinity*c3^19 - infinity*c3^18 - infinity*c3^17 - infinity*c3^16 - infinity*c3^15 - infinity*c3^14 - infinity*c3^13 - infinity*c3^12 - infinity*c3^11 - infinity*c3^10 - infinity*c3^9 - infinity*c3^8 - infinity*c3^7 - infinity*c3^6 - infinity*c3^5 - infinity*c3^4 - infinity*c3^3 - infinity*c3^2 - infinity*c3 - infinity)/(((5.761790085234653e+261)*c3^12 + (8.282487545943135e+271)*c3^11 + (4.9608136052268044e+281)*c3^10 + (1.5846879488345666e+291)*c3^9 + (2.8474566945052894e+300)*c3^8 + (+infinity)*c3^7 + (+infinity)*c3^6 + (+infinity)*c3^5 + (5.300985574117817e+307)*c3^4 + (1.2728962205943991e+302)*c3^3 + (1.7193009313718916e+296)*c3^2 + (1.238538547412622e+290)*c3 + 3.7175422711944725e+283)*((3.15011494107364e+196)*c3^6 + (4.528243372592276e+206)*c3^5 + (2.7122010393528215e+216)*c3^4 + (8.66388589434309e+225)*c3^3 + (1.556775888175348e+235)*c3^2 + (1.4918947890493664e+244)*c3 + 5.957157135083284e+252)*(-(7.590645614988658e+130)*c3^6 - (5.455720083670058e+140)*c3^5 - (1.3070860785362114e+150)*c3^4 - (1.043842664519479e+159)*c3^3 - (5.639673168252469e+153)*c3^2 - (1.0156675434526472e+148)*c3 - 6.097165137335935e+141)^3*((1.7748563156136443e+98)*c3^3 + (1.2756647771306115e+108)*c3^2 + (3.0562485712147316e+117)*c3 + 2.440728812277858e+126)^3)"
      ]
     },
     "execution_count": 76,
     "metadata": {},
     "output_type": "execute_result"
    }
   ],
   "source": [
    "det(S).factor()"
   ]
  },
  {
   "cell_type": "code",
   "execution_count": null,
   "metadata": {},
   "outputs": [],
   "source": []
  }
 ],
 "metadata": {
  "kernelspec": {
   "display_name": "SageMath 9.0",
   "language": "sage",
   "name": "sagemath"
  },
  "language_info": {
   "codemirror_mode": {
    "name": "ipython",
    "version": 3
   },
   "file_extension": ".py",
   "mimetype": "text/x-python",
   "name": "python",
   "nbconvert_exporter": "python",
   "pygments_lexer": "ipython3",
   "version": "3.8.10"
  }
 },
 "nbformat": 4,
 "nbformat_minor": 4
}
