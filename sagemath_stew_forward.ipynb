{
 "cells": [
  {
   "cell_type": "code",
   "execution_count": 1,
   "metadata": {},
   "outputs": [],
   "source": [
    "xsi=[]\n",
    "ysi=[]\n",
    "xmi=[]\n",
    "ymi=[]"
   ]
  },
  {
   "cell_type": "code",
   "execution_count": 2,
   "metadata": {},
   "outputs": [],
   "source": [
    "#xsi  59.1400   59.1400   37.9800  -97.1200  -97.1200   37.9800\n",
    "xsi.append(59.1400);\n",
    "xsi.append(59.1400);\n",
    "xsi.append(37.9800);\n",
    "xsi.append(-97.1200);\n",
    "xsi.append(-97.1200);\n",
    "xsi.append(37.9800);\n",
    "\n",
    "#ysi  78.0000  -78.0000  -90.2200  -12.2200   12.2200   90.2200\n",
    "ysi.append(78.0000);\n",
    "ysi.append(-78.0000);\n",
    "ysi.append(-90.2200);\n",
    "ysi.append(-12.2200);\n",
    "ysi.append(12.2200);\n",
    "ysi.append(90.2200);\n",
    "\n",
    "\n",
    "#xmi  83.1400   83.1400  -38.9700  -44.1700  -44.1700  -38.9700\n",
    "xmi.append(83.1400);\n",
    "xmi.append(83.1400);\n",
    "xmi.append(-38.9700);\n",
    "xmi.append(-44.1700);\n",
    "xmi.append(-44.1700);\n",
    "xmi.append(-38.9700);\n",
    "\n",
    "#ymi  3.0000   -3.0000  -73.5000  -70.5000   70.5000   73.5000\n",
    "ymi.append(3.0000);\n",
    "ymi.append(-3.0000);\n",
    "ymi.append(-73.5000);\n",
    "ymi.append(-70.5000);\n",
    "ymi.append(70.5000);\n",
    "ymi.append(73.5000);\n",
    "\n",
    "\n",
    "rollmin =-100\n",
    "rollmax =100\n",
    "pitchmin =-100\n",
    "pitchmax =100\n",
    "yawmin =-100\n",
    "yawmax =100\n",
    "pxmin =-100\n",
    "pxmax =100\n",
    "pymin =-100\n",
    "pymax =100\n",
    "pzmin =-200\n",
    "pzmax =200\n",
    "    \n",
    "L1 = 133\n",
    "L2 = 133\n",
    "L3 = 133\n",
    "L4 = 133\n",
    "L5 = 133\n",
    "L6 = 133"
   ]
  },
  {
   "cell_type": "code",
   "execution_count": 3,
   "metadata": {},
   "outputs": [],
   "source": [
    "legmin=106;                             \n",
    "legmax=167;"
   ]
  },
  {
   "cell_type": "code",
   "execution_count": 4,
   "metadata": {},
   "outputs": [
    {
     "data": {
      "text/plain": [
       "(c1, c2, c3)"
      ]
     },
     "execution_count": 4,
     "metadata": {},
     "output_type": "execute_result"
    }
   ],
   "source": [
    "var('c1,c2,c3')"
   ]
  },
  {
   "cell_type": "code",
   "execution_count": 5,
   "metadata": {},
   "outputs": [],
   "source": [
    "I=matrix(    [[1,0,0],\n",
    "             [0,1,0],\n",
    "             [0,0,1]]) "
   ]
  },
  {
   "cell_type": "code",
   "execution_count": 6,
   "metadata": {},
   "outputs": [],
   "source": [
    "C=matrix(   [[0,-c3,c2],\n",
    "             [c3,0,-c1],\n",
    "             [-c2,c1,0]]) "
   ]
  },
  {
   "cell_type": "code",
   "execution_count": 7,
   "metadata": {
    "scrolled": true
   },
   "outputs": [],
   "source": [
    "R1=(I-C)^-1"
   ]
  },
  {
   "cell_type": "code",
   "execution_count": 8,
   "metadata": {},
   "outputs": [],
   "source": [
    "for i in range(3):\n",
    "    for j in range(3):\n",
    "        R1[i,j]=R1[i,j].full_simplify();"
   ]
  },
  {
   "cell_type": "code",
   "execution_count": 9,
   "metadata": {},
   "outputs": [],
   "source": [
    "R2=R1*(I+C)"
   ]
  },
  {
   "cell_type": "code",
   "execution_count": 10,
   "metadata": {},
   "outputs": [],
   "source": [
    "R=R2"
   ]
  },
  {
   "cell_type": "code",
   "execution_count": 11,
   "metadata": {},
   "outputs": [],
   "source": [
    "D=(1+c1^2+c2^2+c3^2);"
   ]
  },
  {
   "cell_type": "code",
   "execution_count": 12,
   "metadata": {},
   "outputs": [],
   "source": [
    "Ta=matrix(     [[1,0,0,-xsi[0]],                      \n",
    "                [0,1,0,-ysi[0]],\n",
    "                [0,0,1,0]      ,\n",
    "                [0,0,0,1]      ])"
   ]
  },
  {
   "cell_type": "code",
   "execution_count": 13,
   "metadata": {},
   "outputs": [],
   "source": [
    "Tb=matrix(     [[1,0,0,-xmi[0]],                     \n",
    "                [0,1,0,-ymi[0]],\n",
    "                [0,0,1,0]      ,\n",
    "                [0,0,0,1]      ])"
   ]
  },
  {
   "cell_type": "code",
   "execution_count": 14,
   "metadata": {},
   "outputs": [],
   "source": [
    "a1 = Ta*matrix([[xsi[0]],[ysi[0]],[0],[1]])\n",
    "a2 = Ta*matrix([[xsi[1]],[ysi[1]],[0],[1]])\n",
    "a3 = Ta*matrix([[xsi[2]],[ysi[2]],[0],[1]])\n",
    "a4 = Ta*matrix([[xsi[3]],[ysi[3]],[0],[1]])\n",
    "a5 = Ta*matrix([[xsi[4]],[ysi[4]],[0],[1]])\n",
    "a6 = Ta*matrix([[xsi[5]],[ysi[5]],[0],[1]])"
   ]
  },
  {
   "cell_type": "code",
   "execution_count": 15,
   "metadata": {},
   "outputs": [],
   "source": [
    "b1 = Tb*matrix([[xmi[0]],[ymi[0]],[0],[1]])\n",
    "b2 = Tb*matrix([[xmi[1]],[ymi[1]],[0],[1]])\n",
    "b3 = Tb*matrix([[xmi[2]],[ymi[2]],[0],[1]])\n",
    "b4 = Tb*matrix([[xmi[3]],[ymi[3]],[0],[1]])\n",
    "b5 = Tb*matrix([[xmi[4]],[ymi[4]],[0],[1]])\n",
    "b6 = Tb*matrix([[xmi[5]],[ymi[5]],[0],[1]])"
   ]
  },
  {
   "cell_type": "code",
   "execution_count": 16,
   "metadata": {
    "scrolled": false
   },
   "outputs": [],
   "source": [
    "F2=-a2[0:3].transpose()*R*b2[0:3]+(a2[0:3].transpose()*a2[0:3]+b2[0:3].transpose()*b2[0:3]-L2^2+L1^2)/2\n",
    "F3=-a3[0:3].transpose()*R*b3[0:3]+(a3[0:3].transpose()*a3[0:3]+b3[0:3].transpose()*b3[0:3]-L3^2+L1^2)/2\n",
    "F4=-a4[0:3].transpose()*R*b4[0:3]+(a4[0:3].transpose()*a4[0:3]+b4[0:3].transpose()*b4[0:3]-L4^2+L1^2)/2\n",
    "F5=-a5[0:3].transpose()*R*b5[0:3]+(a5[0:3].transpose()*a5[0:3]+b5[0:3].transpose()*b5[0:3]-L5^2+L1^2)/2\n",
    "F6=-a6[0:3].transpose()*R*b6[0:3]+(a6[0:3].transpose()*a6[0:3]+b6[0:3].transpose()*b6[0:3]-L6^2+L1^2)/2"
   ]
  },
  {
   "cell_type": "code",
   "execution_count": 17,
   "metadata": {
    "scrolled": true
   },
   "outputs": [],
   "source": [
    "F2[0,0]=F2[0,0].collect(1/(c1^2 + c2^2 + c3^2 + 1)).full_simplify()\n",
    "F3[0,0]=F3[0,0].collect(1/(c1^2 + c2^2 + c3^2 + 1)).full_simplify()\n",
    "F4[0,0]=F4[0,0].collect(1/(c1^2 + c2^2 + c3^2 + 1)).full_simplify()\n",
    "F5[0,0]=F5[0,0].collect(1/(c1^2 + c2^2 + c3^2 + 1)).full_simplify()\n",
    "F6[0,0]=F6[0,0].collect(1/(c1^2 + c2^2 + c3^2 + 1)).full_simplify()"
   ]
  },
  {
   "cell_type": "code",
   "execution_count": 18,
   "metadata": {},
   "outputs": [],
   "source": [
    "    M=matrix ([    [-a2[0,0],-a2[1,0],b2[0,0],b2[1,0],F2[0,0]],\n",
    "                   [-a3[0,0],-a3[1,0],b3[0,0],b3[1,0],F3[0,0]],\n",
    "                   [-a4[0,0],-a4[1,0],b4[0,0],b4[1,0],F4[0,0]],   \n",
    "                   [-a5[0,0],-a5[1,0],b5[0,0],b5[1,0],F5[0,0]],\n",
    "                   [-a6[0,0],-a6[1,0],b6[0,0],b6[1,0],F6[0,0]]]);"
   ]
  },
  {
   "cell_type": "code",
   "execution_count": 19,
   "metadata": {},
   "outputs": [],
   "source": [
    "Phi1_1=det(M)"
   ]
  },
  {
   "cell_type": "code",
   "execution_count": 20,
   "metadata": {},
   "outputs": [],
   "source": [
    "Phi1_2=Phi1_1.collect(1/(c1^2 + c2^2 + c3^2 + 1))"
   ]
  },
  {
   "cell_type": "code",
   "execution_count": 21,
   "metadata": {},
   "outputs": [],
   "source": [
    "Phi1=Phi1_2*D"
   ]
  },
  {
   "cell_type": "code",
   "execution_count": 22,
   "metadata": {},
   "outputs": [
    {
     "data": {
      "text/plain": [
       "-0.000610576926109344*c1*c2*c3 - 0.000701904296875*c1^2 + 48694269.04589844*c1*c2 - 0.00250244140625*c2^2 - 0.0048828125*c3^2 - 27099944721917.27*c3 - 0.0029296875"
      ]
     },
     "execution_count": 22,
     "metadata": {},
     "output_type": "execute_result"
    }
   ],
   "source": [
    "Phi1"
   ]
  },
  {
   "cell_type": "code",
   "execution_count": 23,
   "metadata": {},
   "outputs": [],
   "source": [
    "g1=Phi1.subs(c1==0,c2==0,c3==0)\n",
    "g2=(Phi1.subs(c2==0,c1==0,c3^2==0)-g1).subs(c3==1)\n",
    "g3=(((Phi1.subs(c1==0,c2==0)-g1)/c3).full_simplify()-g2).subs(c3==1)\n",
    "g4=(Phi1.subs(c2==0,c3==0)-g1).subs(c1==1)\n",
    "g5=(Phi1.subs(c2^2==0,c1^2==0,c3==0)-g1).subs(c1==1,c2==1)\n",
    "g6=(Phi1.subs(c1==0,c3==0)-g1).subs(c2^2==1)"
   ]
  },
  {
   "cell_type": "code",
   "execution_count": 24,
   "metadata": {},
   "outputs": [
    {
     "data": {
      "text/plain": [
       "ct"
      ]
     },
     "execution_count": 24,
     "metadata": {},
     "output_type": "execute_result"
    }
   ],
   "source": [
    "var('ct')"
   ]
  },
  {
   "cell_type": "code",
   "execution_count": 25,
   "metadata": {},
   "outputs": [],
   "source": [
    "    Mp=matrix ([   [-a2[0,0],-a2[1,0],b2[0,0],b2[1,0],F2[0,0]],\n",
    "                   [-a3[0,0],-a3[1,0],b3[0,0],b3[1,0],F3[0,0]],\n",
    "                   [-a4[0,0],-a4[1,0],b4[0,0],b4[1,0],F4[0,0]],   \n",
    "                   [-a5[0,0],-a5[1,0],b5[0,0],b5[1,0],F5[0,0]],\n",
    "                   [(c1-c2*c3),(c2+c1*c3),(-c1-c2*c3),(-c2+c1*c3),0]]);"
   ]
  },
  {
   "cell_type": "code",
   "execution_count": 26,
   "metadata": {},
   "outputs": [],
   "source": [
    "Phi2_1=det(Mp)"
   ]
  },
  {
   "cell_type": "code",
   "execution_count": 27,
   "metadata": {},
   "outputs": [],
   "source": [
    "Phi2_2=Phi2_1.collect(1/(c1^2 + c2^2 + c3^2 + 1))"
   ]
  },
  {
   "cell_type": "code",
   "execution_count": 28,
   "metadata": {},
   "outputs": [],
   "source": [
    "Phi2=Phi2_2*D"
   ]
  },
  {
   "cell_type": "code",
   "execution_count": 29,
   "metadata": {},
   "outputs": [],
   "source": [
    "T1 = Phi2.subs(c1^3==0,c2==0).collect(c1).subs(c1==1)\n",
    "T2 = Phi2.subs(c2^3==0,c1==0).collect(c1).subs(c2==1)\n",
    "T30 = Phi2.subs(c1^3==ct).subs(c1==0,c2==0).subs(ct==c1^3).subs(c1==1)\n",
    "T31 = expand(Phi2.subs(c3^2==0).subs()-T2*c2).subs(c1^3==0,c3^3==0,c2^2==0,c3^2==0).subs(c2^3==0).subs(c1^2==ct).subs(c1==0).subs(ct==1).subs(c2==1)\n",
    "T32 = (Phi2.subs(c2^2==ct).subs(c2==0,c1^2==0,c1^3==0)-expand(T1*c1)).subs(c3^2==0,c3^3==0).subs(ct==1).subs(c1==1)\n",
    "T33 = Phi2.subs(c1==0,c3^3==0,c3^2==0).subs(c2^3==ct).subs(c2==0).subs(ct==1)"
   ]
  },
  {
   "cell_type": "code",
   "execution_count": 30,
   "metadata": {},
   "outputs": [
    {
     "data": {
      "text/plain": [
       "(Px, Py, Pz, Qx, Qy, Qz, E)"
      ]
     },
     "execution_count": 30,
     "metadata": {},
     "output_type": "execute_result"
    }
   ],
   "source": [
    "var('Px,Py,Pz,Qx,Qy,Qz,E')"
   ]
  },
  {
   "cell_type": "code",
   "execution_count": 31,
   "metadata": {},
   "outputs": [],
   "source": [
    "M3a=matrix ([   [-a2[0,0],-a2[1,0],b2[0,0],b2[1,0]],\n",
    "                [-a3[0,0],-a3[1,0],b3[0,0],b3[1,0]],\n",
    "                [-a4[0,0],-a4[1,0],b4[0,0],b4[1,0]],   \n",
    "                [-a5[0,0],-a5[1,0],b5[0,0],b5[1,0]] ]);"
   ]
  },
  {
   "cell_type": "code",
   "execution_count": 32,
   "metadata": {},
   "outputs": [],
   "source": [
    "M3b=matrix ([ [F2[0,0]],\n",
    "              [F3[0,0]],\n",
    "              [F4[0,0]],\n",
    "              [F5[0,0]]  ])"
   ]
  },
  {
   "cell_type": "code",
   "execution_count": 60,
   "metadata": {},
   "outputs": [],
   "source": [
    "M3=M3a.inverse()*M3b;"
   ]
  },
  {
   "cell_type": "code",
   "execution_count": 61,
   "metadata": {},
   "outputs": [],
   "source": [
    "M3[0,0]=M3[0,0].collect(1/(c1^2 + c2^2 + c3^2 + 1)).full_simplify()\n",
    "M3[1,0]=M3[1,0].collect(1/(c1^2 + c2^2 + c3^2 + 1)).full_simplify()\n",
    "M3[2,0]=M3[2,0].collect(1/(c1^2 + c2^2 + c3^2 + 1)).full_simplify()\n",
    "M3[3,0]=M3[3,0].collect(1/(c1^2 + c2^2 + c3^2 + 1)).full_simplify()"
   ]
  },
  {
   "cell_type": "code",
   "execution_count": 62,
   "metadata": {},
   "outputs": [],
   "source": [
    "P = matrix([Px,Py,Pz])\n",
    "Q = matrix([Qx,Qy,Qz])"
   ]
  },
  {
   "cell_type": "code",
   "execution_count": 63,
   "metadata": {},
   "outputs": [
    {
     "data": {
      "text/plain": [
       "[Px Py Pz]"
      ]
     },
     "execution_count": 63,
     "metadata": {},
     "output_type": "execute_result"
    }
   ],
   "source": [
    "P"
   ]
  },
  {
   "cell_type": "code",
   "execution_count": 64,
   "metadata": {},
   "outputs": [],
   "source": [
    "e9=(I-C)*P.transpose()-(I+C)*Q.transpose()"
   ]
  },
  {
   "cell_type": "code",
   "execution_count": 65,
   "metadata": {},
   "outputs": [],
   "source": [
    "e10=e9[0];                           \n",
    "e11=e9[1];                            \n",
    "e12=e9[2];"
   ]
  },
  {
   "cell_type": "code",
   "execution_count": 66,
   "metadata": {
    "scrolled": true
   },
   "outputs": [
    {
     "data": {
      "text/plain": [
       "(-Pz*c2 - Qz*c2 + Py*c3 + Qy*c3 + Px - Qx)"
      ]
     },
     "execution_count": 66,
     "metadata": {},
     "output_type": "execute_result"
    }
   ],
   "source": [
    "e10"
   ]
  },
  {
   "cell_type": "code",
   "execution_count": 67,
   "metadata": {},
   "outputs": [],
   "source": [
    "qz10=solve(e10[0],Qz)[0].right().collect(Pz).full_simplify()\n",
    "qz11=solve(e11[0],Qz)[0].right().collect(Pz).full_simplify()\n",
    "qz12=solve(e12[0],Qz)[0].right().collect(Pz).full_simplify()"
   ]
  },
  {
   "cell_type": "code",
   "execution_count": 80,
   "metadata": {},
   "outputs": [],
   "source": [
    "pz1 = solve(qz11-qz12,Pz)[0].right().full_simplify().subs(Px==M3[0,0],Py==M3[1,0],Qx==M3[2,0],Qy==M3[3,0]).factor().full_simplify()"
   ]
  },
  {
   "cell_type": "code",
   "execution_count": 81,
   "metadata": {},
   "outputs": [],
   "source": [
    "pz2 = solve(qz10-qz12,Pz)[0].right().full_simplify().subs(Px==M3[0,0],Py==M3[1,0],Qx==M3[2,0],Qy==M3[3,0]).factor().full_simplify()"
   ]
  },
  {
   "cell_type": "code",
   "execution_count": 83,
   "metadata": {},
   "outputs": [],
   "source": [
    "N1=pz1*c1*D"
   ]
  },
  {
   "cell_type": "code",
   "execution_count": 84,
   "metadata": {},
   "outputs": [],
   "source": [
    "D1=c1*D;"
   ]
  },
  {
   "cell_type": "code",
   "execution_count": 85,
   "metadata": {},
   "outputs": [],
   "source": [
    "N2=pz2*c2*D; "
   ]
  },
  {
   "cell_type": "code",
   "execution_count": 86,
   "metadata": {},
   "outputs": [],
   "source": [
    "D2=c2*D;"
   ]
  },
  {
   "cell_type": "code",
   "execution_count": 111,
   "metadata": {},
   "outputs": [],
   "source": [
    "pz3=((N1-N2).factor().full_simplify()/(D1-D2)).collect((c1^2 + c2^2 + c3^2 + 1))"
   ]
  },
  {
   "cell_type": "code",
   "execution_count": 200,
   "metadata": {},
   "outputs": [],
   "source": [
    " M4a=matrix ([    [g4  ,g5  ,g6  ,0   ,0  ],\n",
    "                  [0   ,g4  ,g5  ,g6  ,0  ],\n",
    "                  [0   ,0   ,g4  ,g5  ,g6 ],   \n",
    "                  [T30 ,T31 ,T32 ,T33 ,0  ],\n",
    "                  [0   ,T30 ,T31 ,T32 ,T33]]);"
   ]
  },
  {
   "cell_type": "code",
   "execution_count": 206,
   "metadata": {},
   "outputs": [
    {
     "data": {
      "text/plain": [
       "[                          -0.000701904296875                            48694269.04589844                            -0.00250244140625                                            0                                            0]\n",
       "[                                           0                           -0.000701904296875                            48694269.04589844                            -0.00250244140625                                            0]\n",
       "[                                           0                                            0                           -0.000701904296875                            48694269.04589844                            -0.00250244140625]\n",
       "[-(7.62939453125e-06)*c3 + 10860248257.442581    226029849229.88873*c3 + 43012.65009307861    421315.9650592804*c3 - 32585570599.924995      -75342236037.26656*c3 + 6.103515625e-05                                            0]\n",
       "[                                           0 -(7.62939453125e-06)*c3 + 10860248257.442581    226029849229.88873*c3 + 43012.65009307861    421315.9650592804*c3 - 32585570599.924995      -75342236037.26656*c3 + 6.103515625e-05]"
      ]
     },
     "execution_count": 206,
     "metadata": {},
     "output_type": "execute_result"
    }
   ],
   "source": [
    "M4a"
   ]
  },
  {
   "cell_type": "code",
   "execution_count": 207,
   "metadata": {},
   "outputs": [],
   "source": [
    " M4b=matrix ([    [c1^2*g1+c1^2*g2*c3+c1^2*g3*c3^2],\n",
    "                  [c1*c2*g1+c1*c2*g2*c3+c1*c2*g3*c3^2],\n",
    "                  [c2^2*g1+c2^2*g2*c3+c2^2*g3*c3^2],   \n",
    "                  [T1*c1^2+T2*c1*c2],\n",
    "                  [T1*c1*c2+T2*c2^2]]);"
   ]
  },
  {
   "cell_type": "code",
   "execution_count": 222,
   "metadata": {},
   "outputs": [],
   "source": [
    "M4a_inv=M4a.inverse()"
   ]
  },
  {
   "cell_type": "code",
   "execution_count": 223,
   "metadata": {},
   "outputs": [],
   "source": [
    "for j in range(5):\n",
    "    for i in range(5):\n",
    "        M4a_inv[i,j] = M4a_inv[i,j].full_simplify()"
   ]
  },
  {
   "cell_type": "code",
   "execution_count": 226,
   "metadata": {},
   "outputs": [],
   "source": [
    "M4=M4a_inv*(-M4b)"
   ]
  },
  {
   "cell_type": "code",
   "execution_count": null,
   "metadata": {},
   "outputs": [],
   "source": []
  }
 ],
 "metadata": {
  "kernelspec": {
   "display_name": "SageMath 9.0",
   "language": "sage",
   "name": "sagemath"
  },
  "language_info": {
   "codemirror_mode": {
    "name": "ipython",
    "version": 3
   },
   "file_extension": ".py",
   "mimetype": "text/x-python",
   "name": "python",
   "nbconvert_exporter": "python",
   "pygments_lexer": "ipython3",
   "version": "3.8.10"
  }
 },
 "nbformat": 4,
 "nbformat_minor": 4
}
