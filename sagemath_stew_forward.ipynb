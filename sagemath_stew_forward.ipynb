{
 "cells": [
  {
   "cell_type": "code",
   "execution_count": 1,
   "metadata": {
    "scrolled": true
   },
   "outputs": [],
   "source": [
    "#xsi  59.1400   59.1400   37.9800  -97.1200  -97.1200   37.9800\n",
    "xsi=matrix(QQ,[59.14,59.14,37.98,-97.12,-97.12,37.98])\n",
    "\n",
    "#ysi  78.0000  -78.0000  -90.2200  -12.2200   12.2200   90.2200\n",
    "ysi=matrix(QQ,[78.00,-78.00,-90.22,-12.22,12.22,90.22])\n",
    "\n",
    "#xmi  83.1400   83.1400  -38.9700  -44.1700  -44.1700  -38.9700\n",
    "xmi=matrix(QQ,[83.14,83.14,-38.97,-44.17,-44.17,-38.97])\n",
    "\n",
    "#ymi  3.0000   -3.0000  -73.5000  -70.5000   70.5000   73.5000\n",
    "ymi=matrix(QQ,[3.00,-3.00,-73.50,-70.50,70.50,73.50])"
   ]
  },
  {
   "cell_type": "code",
   "execution_count": 2,
   "metadata": {},
   "outputs": [],
   "source": [
    "rollmin =-100\n",
    "rollmax =100\n",
    "pitchmin =-100\n",
    "pitchmax =100\n",
    "yawmin =-100\n",
    "yawmax =100\n",
    "pxmin =-100\n",
    "pxmax =100\n",
    "pymin =-100\n",
    "pymax =100\n",
    "pzmin =-200\n",
    "pzmax =200\n",
    "    \n",
    "L1 = 120\n",
    "L2 = 121\n",
    "L3 = 122\n",
    "L4 = 123\n",
    "L5 = 124\n",
    "L6 = 125"
   ]
  },
  {
   "cell_type": "code",
   "execution_count": 3,
   "metadata": {},
   "outputs": [],
   "source": [
    "legmin=106;                             \n",
    "legmax=167;"
   ]
  },
  {
   "cell_type": "code",
   "execution_count": 4,
   "metadata": {},
   "outputs": [
    {
     "data": {
      "text/plain": [
       "(c1, c2, c3)"
      ]
     },
     "execution_count": 4,
     "metadata": {},
     "output_type": "execute_result"
    }
   ],
   "source": [
    "var('c1,c2,c3')"
   ]
  },
  {
   "cell_type": "code",
   "execution_count": 5,
   "metadata": {},
   "outputs": [],
   "source": [
    "I=matrix(QQ,[[1,0,0],\n",
    "             [0,1,0],\n",
    "             [0,0,1]]) "
   ]
  },
  {
   "cell_type": "code",
   "execution_count": 6,
   "metadata": {},
   "outputs": [],
   "source": [
    "C=matrix(SR, [[0,-c3,c2],\n",
    "             [c3,0,-c1],\n",
    "             [-c2,c1,0]]) "
   ]
  },
  {
   "cell_type": "code",
   "execution_count": 7,
   "metadata": {
    "scrolled": true
   },
   "outputs": [],
   "source": [
    "R1=(I-C)^-1"
   ]
  },
  {
   "cell_type": "code",
   "execution_count": 8,
   "metadata": {},
   "outputs": [],
   "source": [
    "for i in range(3):\n",
    "    for j in range(3):\n",
    "        R1[i,j]=R1[i,j].full_simplify()"
   ]
  },
  {
   "cell_type": "code",
   "execution_count": 9,
   "metadata": {},
   "outputs": [],
   "source": [
    "R2=R1*(I+C)"
   ]
  },
  {
   "cell_type": "code",
   "execution_count": 10,
   "metadata": {},
   "outputs": [],
   "source": [
    "R=R2"
   ]
  },
  {
   "cell_type": "code",
   "execution_count": 11,
   "metadata": {},
   "outputs": [],
   "source": [
    "D=(1+c1^2+c2^2+c3^2);"
   ]
  },
  {
   "cell_type": "code",
   "execution_count": 12,
   "metadata": {},
   "outputs": [],
   "source": [
    "Ta=matrix(QQ,      [[1,0,0,-xsi[0,0]],                      \n",
    "                   [0,1,0,-ysi[0,0]],\n",
    "                   [0,0,1,0]      ,\n",
    "                   [0,0,0,1]      ])"
   ]
  },
  {
   "cell_type": "code",
   "execution_count": 13,
   "metadata": {},
   "outputs": [],
   "source": [
    "Tb=matrix(QQ,      [[1,0,0,-xmi[0,0]],                     \n",
    "                   [0,1,0,-ymi[0,0]],\n",
    "                   [0,0,1,0]      ,\n",
    "                   [0,0,0,1]      ])"
   ]
  },
  {
   "cell_type": "code",
   "execution_count": 14,
   "metadata": {},
   "outputs": [],
   "source": [
    "a1 = Ta*matrix(QQ,[[xsi[0,0]],[ysi[0,0]],[0],[1]])\n",
    "a2 = Ta*matrix(QQ,[[xsi[0,1]],[ysi[0,1]],[0],[1]])\n",
    "a3 = Ta*matrix(QQ,[[xsi[0,2]],[ysi[0,2]],[0],[1]])\n",
    "a4 = Ta*matrix(QQ,[[xsi[0,3]],[ysi[0,3]],[0],[1]])\n",
    "a5 = Ta*matrix(QQ,[[xsi[0,4]],[ysi[0,4]],[0],[1]])\n",
    "a6 = Ta*matrix(QQ,[[xsi[0,5]],[ysi[0,5]],[0],[1]])"
   ]
  },
  {
   "cell_type": "code",
   "execution_count": 15,
   "metadata": {},
   "outputs": [],
   "source": [
    "b1 = Tb*matrix(QQ,[[xmi[0,0]],[ymi[0,0]],[0],[1]])\n",
    "b2 = Tb*matrix(QQ,[[xmi[0,1]],[ymi[0,1]],[0],[1]])\n",
    "b3 = Tb*matrix(QQ,[[xmi[0,2]],[ymi[0,2]],[0],[1]])\n",
    "b4 = Tb*matrix(QQ,[[xmi[0,3]],[ymi[0,3]],[0],[1]])\n",
    "b5 = Tb*matrix(QQ,[[xmi[0,4]],[ymi[0,4]],[0],[1]])\n",
    "b6 = Tb*matrix(QQ,[[xmi[0,5]],[ymi[0,5]],[0],[1]])"
   ]
  },
  {
   "cell_type": "code",
   "execution_count": 16,
   "metadata": {
    "scrolled": false
   },
   "outputs": [],
   "source": [
    "F2=-a2[0:3].transpose()*R*b2[0:3]+(a2[0:3].transpose()*a2[0:3]+b2[0:3].transpose()*b2[0:3]-L2^2+L1^2)/2\n",
    "F3=-a3[0:3].transpose()*R*b3[0:3]+(a3[0:3].transpose()*a3[0:3]+b3[0:3].transpose()*b3[0:3]-L3^2+L1^2)/2\n",
    "F4=-a4[0:3].transpose()*R*b4[0:3]+(a4[0:3].transpose()*a4[0:3]+b4[0:3].transpose()*b4[0:3]-L4^2+L1^2)/2\n",
    "F5=-a5[0:3].transpose()*R*b5[0:3]+(a5[0:3].transpose()*a5[0:3]+b5[0:3].transpose()*b5[0:3]-L5^2+L1^2)/2\n",
    "F6=-a6[0:3].transpose()*R*b6[0:3]+(a6[0:3].transpose()*a6[0:3]+b6[0:3].transpose()*b6[0:3]-L6^2+L1^2)/2"
   ]
  },
  {
   "cell_type": "code",
   "execution_count": 17,
   "metadata": {},
   "outputs": [
    {
     "data": {
      "text/plain": [
       "-936*(c2*c3 - c1)*c1/(c1^2 + c2^2 + c3^2 + 1) + 936*(c1*c2 + c3)*c3/(c1^2 + c2^2 + c3^2 + 1) - 936*(c2^2 + 1)/(c1^2 + c2^2 + c3^2 + 1) + 24131/2"
      ]
     },
     "execution_count": 17,
     "metadata": {},
     "output_type": "execute_result"
    }
   ],
   "source": [
    "F2[0,0]"
   ]
  },
  {
   "cell_type": "code",
   "execution_count": 18,
   "metadata": {
    "scrolled": true
   },
   "outputs": [
    {
     "data": {
      "text/plain": [
       "(F2_T, F3_T, F4_T, F5_T, F6_T)"
      ]
     },
     "execution_count": 18,
     "metadata": {},
     "output_type": "execute_result"
    }
   ],
   "source": [
    "var ('F2_T,F3_T,F4_T,F5_T,F6_T')"
   ]
  },
  {
   "cell_type": "code",
   "execution_count": 19,
   "metadata": {},
   "outputs": [],
   "source": [
    "    M=matrix (SR, [[-a2[0,0],-a2[1,0],b2[0,0],b2[1,0],F2[0,0]],\n",
    "                   [-a3[0,0],-a3[1,0],b3[0,0],b3[1,0],F3[0,0]],\n",
    "                   [-a4[0,0],-a4[1,0],b4[0,0],b4[1,0],F4[0,0]],   \n",
    "                   [-a5[0,0],-a5[1,0],b5[0,0],b5[1,0],F5[0,0]],\n",
    "                   [-a6[0,0],-a6[1,0],b6[0,0],b6[1,0],F6[0,0]]]);"
   ]
  },
  {
   "cell_type": "code",
   "execution_count": 20,
   "metadata": {},
   "outputs": [],
   "source": [
    "Phi1 = det(M)*D"
   ]
  },
  {
   "cell_type": "code",
   "execution_count": 21,
   "metadata": {
    "scrolled": false
   },
   "outputs": [
    {
     "data": {
      "text/plain": [
       "657909701310771/5000*c1^2 + 76084795389681/1562500*c1*c2 + 657909701310771/5000*c2^2 + 657909701310771/5000*c3^2 - 42343663627995740829/1562500*c3 + 657909701310771/5000"
      ]
     },
     "execution_count": 21,
     "metadata": {},
     "output_type": "execute_result"
    }
   ],
   "source": [
    "Phi1.full_simplify()"
   ]
  },
  {
   "cell_type": "code",
   "execution_count": 22,
   "metadata": {},
   "outputs": [],
   "source": [
    "g1=Phi1.subs(c1==0,c2==0,c3==0)\n",
    "g2=(Phi1.subs(c2==0,c1==0,c3^2==0)-g1).subs(c3==1)\n",
    "g3=(((Phi1.subs(c1==0,c2==0)-g1)/c3)-g2).subs(c3==1)\n",
    "g4=(Phi1.subs(c2==0,c3==0)-g1).subs(c1==1)\n",
    "g5=(Phi1.subs(c2^2==0,c1^2==0,c3==0)-g1).subs(c1==1,c2==1)\n",
    "g6=(Phi1.subs(c1==0,c3==0)-g1).subs(c2^2==1)"
   ]
  },
  {
   "cell_type": "code",
   "execution_count": 110,
   "metadata": {},
   "outputs": [
    {
     "data": {
      "text/plain": [
       "1.31581940262154e11"
      ]
     },
     "execution_count": 110,
     "metadata": {},
     "output_type": "execute_result"
    }
   ],
   "source": [
    "n(g1)"
   ]
  },
  {
   "cell_type": "code",
   "execution_count": 111,
   "metadata": {},
   "outputs": [
    {
     "data": {
      "text/plain": [
       "-2.70999447219173e13"
      ]
     },
     "execution_count": 111,
     "metadata": {},
     "output_type": "execute_result"
    }
   ],
   "source": [
    "n(g2)"
   ]
  },
  {
   "cell_type": "code",
   "execution_count": 112,
   "metadata": {},
   "outputs": [
    {
     "data": {
      "text/plain": [
       "1.31581940262154e11"
      ]
     },
     "execution_count": 112,
     "metadata": {},
     "output_type": "execute_result"
    }
   ],
   "source": [
    "n(g3)"
   ]
  },
  {
   "cell_type": "code",
   "execution_count": 113,
   "metadata": {},
   "outputs": [
    {
     "data": {
      "text/plain": [
       "1.31581940262154e11"
      ]
     },
     "execution_count": 113,
     "metadata": {},
     "output_type": "execute_result"
    }
   ],
   "source": [
    "n(g4)"
   ]
  },
  {
   "cell_type": "code",
   "execution_count": 114,
   "metadata": {},
   "outputs": [
    {
     "data": {
      "text/plain": [
       "4.86942690493958e7"
      ]
     },
     "execution_count": 114,
     "metadata": {},
     "output_type": "execute_result"
    }
   ],
   "source": [
    "n(g5)"
   ]
  },
  {
   "cell_type": "code",
   "execution_count": 115,
   "metadata": {},
   "outputs": [
    {
     "data": {
      "text/plain": [
       "1.31581940262154e11"
      ]
     },
     "execution_count": 115,
     "metadata": {},
     "output_type": "execute_result"
    }
   ],
   "source": [
    "n(g6)"
   ]
  },
  {
   "cell_type": "code",
   "execution_count": 116,
   "metadata": {},
   "outputs": [
    {
     "data": {
      "text/plain": [
       "ct"
      ]
     },
     "execution_count": 116,
     "metadata": {},
     "output_type": "execute_result"
    }
   ],
   "source": [
    "var('ct')"
   ]
  },
  {
   "cell_type": "code",
   "execution_count": 24,
   "metadata": {},
   "outputs": [],
   "source": [
    "    Mp=matrix (SR,[[-a2[0,0],-a2[1,0],b2[0,0],b2[1,0],F2[0,0]],\n",
    "                   [-a3[0,0],-a3[1,0],b3[0,0],b3[1,0],F3[0,0]],\n",
    "                   [-a4[0,0],-a4[1,0],b4[0,0],b4[1,0],F4[0,0]],   \n",
    "                   [-a5[0,0],-a5[1,0],b5[0,0],b5[1,0],F5[0,0]],\n",
    "                   [(c1-c2*c3),(c2+c1*c3),(-c1-c2*c3),(-c2+c1*c3),0]]);"
   ]
  },
  {
   "cell_type": "code",
   "execution_count": 25,
   "metadata": {},
   "outputs": [],
   "source": [
    "Phi2_1=det(Mp)"
   ]
  },
  {
   "cell_type": "code",
   "execution_count": 26,
   "metadata": {},
   "outputs": [],
   "source": [
    "Phi2_2=Phi2_1.collect(1/(c1^2 + c2^2 + c3^2 + 1))"
   ]
  },
  {
   "cell_type": "code",
   "execution_count": 27,
   "metadata": {},
   "outputs": [],
   "source": [
    "Phi2=(Phi2_2*D).factor()"
   ]
  },
  {
   "cell_type": "code",
   "execution_count": 28,
   "metadata": {},
   "outputs": [],
   "source": [
    "T1 = Phi2.subs(c1^3==0,c2==0).collect(c1).subs(c1==1)\n",
    "T2 = Phi2.subs(c2^3==0,c1==0).collect(c1).subs(c2==1)\n",
    "T30 = Phi2.subs(c1^3==ct).subs(c1==0,c2==0).subs(ct==c1^3).subs(c1==1)\n",
    "T31 = expand(Phi2.subs(c3^2==0).subs()-T2*c2).subs(c1^3==0,c3^3==0,c2^2==0,c3^2==0).subs(c2^3==0).subs(c1^2==ct).subs(c1==0).subs(ct==1).subs(c2==1)\n",
    "T32 = (Phi2.subs(c2^2==ct).subs(c2==0,c1^2==0,c1^3==0)-expand(T1*c1)).subs(c3^2==0,c3^3==0).subs(ct==1).subs(c1==1)\n",
    "T33 = Phi2.subs(c1==0,c3^3==0,c3^2==0).subs(c2^3==ct).subs(c2==0).subs(ct==1)"
   ]
  },
  {
   "cell_type": "code",
   "execution_count": 29,
   "metadata": {},
   "outputs": [
    {
     "data": {
      "text/plain": [
       "(Px, Py, Pz, Qx, Qy, Qz, E)"
      ]
     },
     "execution_count": 29,
     "metadata": {},
     "output_type": "execute_result"
    }
   ],
   "source": [
    "var('Px,Py,Pz,Qx,Qy,Qz,E')"
   ]
  },
  {
   "cell_type": "code",
   "execution_count": 30,
   "metadata": {},
   "outputs": [],
   "source": [
    "M3a=matrix (QQ,[[-a2[0,0],-a2[1,0],b2[0,0],b2[1,0]],\n",
    "                [-a3[0,0],-a3[1,0],b3[0,0],b3[1,0]],\n",
    "                [-a4[0,0],-a4[1,0],b4[0,0],b4[1,0]],   \n",
    "                [-a5[0,0],-a5[1,0],b5[0,0],b5[1,0]] ]);"
   ]
  },
  {
   "cell_type": "code",
   "execution_count": 31,
   "metadata": {
    "scrolled": true
   },
   "outputs": [
    {
     "data": {
      "text/plain": [
       "[         0        156          0         -6]\n",
       "[    529/25    8411/50 -12211/100     -153/2]\n",
       "[   7813/50    4511/50 -12731/100     -147/2]\n",
       "[   7813/50    3289/50 -12731/100      135/2]"
      ]
     },
     "execution_count": 31,
     "metadata": {},
     "output_type": "execute_result"
    }
   ],
   "source": [
    "M3a"
   ]
  },
  {
   "cell_type": "code",
   "execution_count": 32,
   "metadata": {},
   "outputs": [],
   "source": [
    "M3b=matrix (SR,[[-F2[0,0]],\n",
    "                [-F3[0,0]],\n",
    "                [-F4[0,0]],\n",
    "                [-F5[0,0]]  ])"
   ]
  },
  {
   "cell_type": "code",
   "execution_count": 33,
   "metadata": {},
   "outputs": [],
   "source": [
    "M3=M3a.inverse()*M3b;"
   ]
  },
  {
   "cell_type": "code",
   "execution_count": 34,
   "metadata": {
    "scrolled": true
   },
   "outputs": [],
   "source": [
    "M3[0,0]=M3[0,0].expand().factor()\n",
    "M3[1,0]=M3[1,0].expand().factor()\n",
    "M3[2,0]=M3[2,0].expand().factor()\n",
    "M3[3,0]=M3[3,0].expand().factor()"
   ]
  },
  {
   "cell_type": "code",
   "execution_count": 35,
   "metadata": {},
   "outputs": [],
   "source": [
    "P = matrix([Px,Py,Pz])\n",
    "Q = matrix([Qx,Qy,Qz])"
   ]
  },
  {
   "cell_type": "code",
   "execution_count": 36,
   "metadata": {},
   "outputs": [
    {
     "data": {
      "text/plain": [
       "[Px Py Pz]"
      ]
     },
     "execution_count": 36,
     "metadata": {},
     "output_type": "execute_result"
    }
   ],
   "source": [
    "P"
   ]
  },
  {
   "cell_type": "code",
   "execution_count": 37,
   "metadata": {},
   "outputs": [],
   "source": [
    "e9=(I-C)*P.transpose()-(I+C)*Q.transpose()"
   ]
  },
  {
   "cell_type": "code",
   "execution_count": 38,
   "metadata": {},
   "outputs": [
    {
     "data": {
      "text/plain": [
       "[-Pz*c2 - Qz*c2 + Py*c3 + Qy*c3 + Px - Qx]\n",
       "[ Pz*c1 + Qz*c1 - Px*c3 - Qx*c3 + Py - Qy]\n",
       "[-Py*c1 - Qy*c1 + Px*c2 + Qx*c2 + Pz - Qz]"
      ]
     },
     "execution_count": 38,
     "metadata": {},
     "output_type": "execute_result"
    }
   ],
   "source": [
    "e9"
   ]
  },
  {
   "cell_type": "code",
   "execution_count": 39,
   "metadata": {},
   "outputs": [],
   "source": [
    "e10=e9[0];                           \n",
    "e11=e9[1];                            \n",
    "e12=e9[2];"
   ]
  },
  {
   "cell_type": "code",
   "execution_count": 40,
   "metadata": {
    "scrolled": true
   },
   "outputs": [
    {
     "data": {
      "text/plain": [
       "(-Pz*c2 - Qz*c2 + Py*c3 + Qy*c3 + Px - Qx)"
      ]
     },
     "execution_count": 40,
     "metadata": {},
     "output_type": "execute_result"
    }
   ],
   "source": [
    "e10"
   ]
  },
  {
   "cell_type": "code",
   "execution_count": 41,
   "metadata": {},
   "outputs": [],
   "source": [
    "qz10=solve(e10[0],Qz)[0].right().collect(Pz).collect((1/c2))\n",
    "qz11=solve(e11[0],Qz)[0].right().collect(Pz).collect((1/c1))\n",
    "qz12=solve(e12[0],Qz)[0].right().collect(Pz).expand()"
   ]
  },
  {
   "cell_type": "code",
   "execution_count": 42,
   "metadata": {},
   "outputs": [
    {
     "data": {
      "text/plain": [
       "-Pz + (Py*c3 + Qy*c3 + Px - Qx)/c2"
      ]
     },
     "execution_count": 42,
     "metadata": {},
     "output_type": "execute_result"
    }
   ],
   "source": [
    "qz10"
   ]
  },
  {
   "cell_type": "code",
   "execution_count": 43,
   "metadata": {},
   "outputs": [
    {
     "data": {
      "text/plain": [
       "-Pz + (Px*c3 + Qx*c3 - Py + Qy)/c1"
      ]
     },
     "execution_count": 43,
     "metadata": {},
     "output_type": "execute_result"
    }
   ],
   "source": [
    "qz11"
   ]
  },
  {
   "cell_type": "code",
   "execution_count": 44,
   "metadata": {
    "scrolled": true
   },
   "outputs": [
    {
     "data": {
      "text/plain": [
       "-Py*c1 - Qy*c1 + Px*c2 + Qx*c2 + Pz"
      ]
     },
     "execution_count": 44,
     "metadata": {},
     "output_type": "execute_result"
    }
   ],
   "source": [
    "qz12"
   ]
  },
  {
   "cell_type": "code",
   "execution_count": 45,
   "metadata": {},
   "outputs": [],
   "source": [
    "pz1 = solve(qz11-qz12,Pz)[0].right().subs(Px==M3[0,0],Py==M3[1,0],Qx==M3[2,0],Qy==M3[3,0]).factor()"
   ]
  },
  {
   "cell_type": "code",
   "execution_count": 46,
   "metadata": {},
   "outputs": [],
   "source": [
    "pz2 = solve(qz10-qz12,Pz)[0].right().subs(Px==M3[0,0],Py==M3[1,0],Qx==M3[2,0],Qy==M3[3,0]).factor()"
   ]
  },
  {
   "cell_type": "code",
   "execution_count": 47,
   "metadata": {},
   "outputs": [],
   "source": [
    "N1=pz1*c1*D"
   ]
  },
  {
   "cell_type": "code",
   "execution_count": 48,
   "metadata": {},
   "outputs": [],
   "source": [
    "D1=c1*D;"
   ]
  },
  {
   "cell_type": "code",
   "execution_count": 49,
   "metadata": {},
   "outputs": [],
   "source": [
    "N2=pz2*c2*D; "
   ]
  },
  {
   "cell_type": "code",
   "execution_count": 50,
   "metadata": {},
   "outputs": [],
   "source": [
    "D2=c2*D;"
   ]
  },
  {
   "cell_type": "code",
   "execution_count": 51,
   "metadata": {},
   "outputs": [],
   "source": [
    "pz3=((N1-N2)/(D1-D2)).collect((c1^2 + c2^2 + c3^2 + 1))"
   ]
  },
  {
   "cell_type": "code",
   "execution_count": 52,
   "metadata": {},
   "outputs": [],
   "source": [
    " M4a=matrix (SR,[ [g4  ,g5  ,g6  ,0   ,0  ],\n",
    "                  [0   ,g4  ,g5  ,g6  ,0  ],\n",
    "                  [0   ,0   ,g4  ,g5  ,g6 ],   \n",
    "                  [T30 ,T31 ,T32 ,T33 ,0  ],\n",
    "                  [0   ,T30 ,T31 ,T32 ,T33]]);"
   ]
  },
  {
   "cell_type": "code",
   "execution_count": 53,
   "metadata": {},
   "outputs": [],
   "source": [
    " M4b=matrix (SR,[ [c1^2*g1+c1^2*g2*c3+c1^2*g3*c3^2],\n",
    "                  [c1*c2*g1+c1*c2*g2*c3+c1*c2*g3*c3^2],\n",
    "                  [c2^2*g1+c2^2*g2*c3+c2^2*g3*c3^2],   \n",
    "                  [T1*c1^2+T2*c1*c2],\n",
    "                  [T1*c1*c2+T2*c2^2]]);"
   ]
  },
  {
   "cell_type": "code",
   "execution_count": 54,
   "metadata": {},
   "outputs": [],
   "source": [
    "M4a_inv = M4a.inverse()"
   ]
  },
  {
   "cell_type": "code",
   "execution_count": 55,
   "metadata": {},
   "outputs": [],
   "source": [
    "M4=M4a_inv*(-M4b)"
   ]
  },
  {
   "cell_type": "code",
   "execution_count": 56,
   "metadata": {},
   "outputs": [],
   "source": [
    "for i in range(5):\n",
    "    M4[i,0]=M4[i,0].factor()"
   ]
  },
  {
   "cell_type": "code",
   "execution_count": 57,
   "metadata": {},
   "outputs": [],
   "source": [
    "M4num=matrix(SR,5,1)\n",
    "M4den=matrix(SR,5,1)\n",
    "M4e=matrix(SR,5,1)"
   ]
  },
  {
   "cell_type": "code",
   "execution_count": 58,
   "metadata": {},
   "outputs": [],
   "source": [
    "M4den[0,0]=denominator(M4[0,0])/(2.9375*10^28)\n",
    "M4num[0,0]=numerator(M4[0,0])/(2.9375*10^28)\n",
    "\n",
    "M4den[1,0]=denominator(M4[1,0])/(9.791666666666666*10^27)\n",
    "M4num[1,0]=numerator(M4[1,0])/(9.791666666666666*10^27)\n",
    "\n",
    "M4den[2,0]=denominator(M4[2,0])/(3.263888888888888*10^27)\n",
    "M4num[2,0]=numerator(M4[2,0])/(3.263888888888888*10^27)\n",
    "\n",
    "M4den[3,0]=denominator(M4[3,0])/(3.263888888888888*10^27)\n",
    "M4num[3,0]=numerator(M4[3,0])/(3.263888888888888*10^27)\n",
    "\n",
    "M4den[4,0]=denominator(M4[4,0])/(1.631944444444444*10^28)\n",
    "M4num[4,0]=numerator(M4[4,0])/(1.631944444444444*10^28)"
   ]
  },
  {
   "cell_type": "code",
   "execution_count": 59,
   "metadata": {},
   "outputs": [],
   "source": [
    "M4e = M4num/E"
   ]
  },
  {
   "cell_type": "code",
   "execution_count": 60,
   "metadata": {},
   "outputs": [],
   "source": [
    "phi = matrix(SR,[ [((Px^2+Py^2+pz1^2-L1^2)*D^2*c1^2)],\n",
    "                  [((Px^2+Py^2+pz2^2-L1^2)*D^2*c2^2)],\n",
    "                  [((Px^2+Py^2+pz3^2-L1^2)*D^2*(c1-c2)^2)]]);"
   ]
  },
  {
   "cell_type": "code",
   "execution_count": 61,
   "metadata": {},
   "outputs": [],
   "source": [
    "for i in range(3):\n",
    "    phi[i,0]=phi[i,0].subs(Px==M3[0,0],Py==M3[1,0]).factor()"
   ]
  },
  {
   "cell_type": "code",
   "execution_count": 62,
   "metadata": {},
   "outputs": [],
   "source": [
    "#여기까지는 값까지 정확히 확인된 부분 "
   ]
  },
  {
   "cell_type": "code",
   "execution_count": null,
   "metadata": {},
   "outputs": [],
   "source": [
    "#    for k=1:2                               %this routine substitutes the high order expressions in Phi3/4/5 for the \n",
    "#        for j=1:3                           %low order expressions found in M4\n",
    "#            Phi(j)=maple('algsubs',['c1^4',     '=' char(M4e(1))],simplify(Phi(j)),'exact');\n",
    "#            disp(Phi(j))\n",
    "#            Phi(j)=maple('algsubs',['c1^3*c2',  '=' char(M4e(2))],simplify(Phi(j)),'exact');\n",
    "#            disp(Phi(j))\n",
    "#            Phi(j)=maple('algsubs',['c1^2*c2^2','=' char(M4e(3))],simplify(Phi(j)),'exact');\n",
    "#            disp(Phi(j))\n",
    "#            Phi(j)=maple('algsubs',['c1*c2^3',  '=' char(M4e(4))],simplify(Phi(j)),'exact');\n",
    "#            disp(Phi(j))\n",
    "#            Phi(j)=maple('algsubs',['c2^4',     '=' char(M4e(5))],simplify(Phi(j)),'exact');\n",
    "#            disp(Phi(j))\n",
    "#        end\n",
    "#    end\n",
    "#MAPLE 관련 함수 해결 못했으며, phi값을 matlab 에서 가져옴 "
   ]
  },
  {
   "cell_type": "code",
   "execution_count": 72,
   "metadata": {},
   "outputs": [],
   "source": [
    "phi[0,0]=.400000000000000e-17/E^3*(.289576834098367e58*c1^2*c3^10*E+.299243759151987e60*c1^2*c3^9*E+.282863927683270e22*c1^2*c3^4*E^3-.233105607093896e23*c1^2*c3^3*E^3+.361121111202212e23*c1^2*c3^2*E^3-.362769347499760e22*c1^2*c3*E^3-.667474759183570e40*c1^2*c3^7*E^2-.173901632781603e38*c1^2*c3^8*E^2+.695332300781230e16*c1^2*c3^5*E^3+.162706110846280e43*c1^2*c3^6*E^2+.100006622095056e59*c1^2*E-.143396947887595e77*c1^2+57869711640495.*c3^6*E^3+.107667571569277e45*c1^2*c3^5*E^2-.172810512129406e63*c1^2*c3^8*E-.735148229219790e64*c1^2*c3^7*E-.553721461563625e42*c1^2*c3*E^2-.446621544923622e43*c1^2*c3^2*E^2-.347410039699691e43*c1^2*c3^3*E^2-.362947247267315e45*c1^2*c3^4*E^2+.942726572348625e66*c1^2*c3^6*E-.543278413343617e65*c1^2*c3^5*E+.400158835622911e65*c1^2*c3^4*E+.258043492916585e40*c1^2*E^2-.365051806464787e85*c1^2*c3^8+.240908469205427e87*c1^2*c3^7-.136809788253589e84*c1^2*c3^9-.206356176068397e22*c1^2*E^3-.537374471877098e85*c1^2*c3^6+.213508483546575e80*c1^2*c3^11-.120549102249866e78*c1^2*c3^12+.147660714360140e82*c1^2*c3^10-.140158569474593e64*c1^2*c3^3*E+.418677853783953e63*c1^2*c3^2*E-.406801522592003e61*c1^2*c3*E+.885891973296384e79*c3*c1^2+.125438116794670e84*c1^2*c3^3-.203668658223610e84*c1^2*c3^4-.182186985570454e82*c1^2*c3^2+(.666629739865132e40*E-.1204878899568e85*c3^8+.28389031488719e86*c3^7+.237442005393428e76*c3-.118678149384080e79*c3^2+.120161548018222e45*c3^5*E^2-.133807413879806e43*c3^6*E^2+.168301697223441e63*c3^8*E-.209063546847099e65*c3^7*E+.909873146466290e39*c3*E^2+.194558456917266e42*c3^2*E^2-.223944291905383e44*c3^3*E^2+.159183175237395e45*c3^4*E^2-.898831219101355e58-.454553986342669e34*E^2+.120039690166286e65*c3^6*E-.542419122232900e64*c3^5*E-.327365539365630e62*c3^4*E-.109605272583522e62*c3^3*E+.19035246985823e81*c3^3-.16667370370400e83*c3^4+.385690265658984e60*c3^2*E-.292816130884307e58*c3*E-.11338659973390e85*c3^6+.6290768136435e84*c3^5+.434630665384362e37*c3^8*E^2+.270916292113972e40*c3^7*E^2+.249684001810437e19*c3*E^3-.811249946588480e22*c3^2*E^3+.172176395321522e23*c3^3*E^3-.800268454060480e18*c3^4*E^3+.525406609945890e16*E^3+.8977371507e84*c3^9-.4736568237e82*c3^10+.3012872029e77*c3^12-.4067530228e79*c3^11-.176707604395641e60*c3^9*E-.723736574929872e57*c3^10*E)*c2^2+.109975295933928e86*c3^5*c1^2-.249011387284546e19*c3^5*E^3+.788875215733195e19*c3*E^3+.590553198369480e22*c3^2*E^3-.251906331445702e23*c3^3*E^3+.267883576352998e23*c3^4*E^3+.262703304972938e16*E^3-c1*(.459340083740341e57*E-.3254282655272e86*c3^8+.177898250230316e86*c3^7+.244439836169919e78*c3-.526927881672138e80*c3^2+.241385083161552e44*c3^5*E^2-.817597433423308e42*c3^6*E^2-.385564971177465e75+.131739947322320e63*c3^8*E-.612897386204400e64*c3^7*E-.198488977879991e41*c3*E^2+.609507367902226e43*c3^2*E^2-.484393815001806e44*c3^3*E^2-.345116263447557e44*c3^4*E^2-.154189808187415e39*E^2+.400361687885206e66*c3^6*E-.950672099082450e64*c3^5*E+.101023622163201e65*c3^4*E-.990129986585916e62*c3^3*E+.514433789909328e82*c3^3-.278045326274657e84*c3^4+.107984435956924e62*c3^2*E-.150424779386384e60*c3*E-.135547406780700e86*c3^6+.712271494864951e84*c3^5+115739423280991.*c3^5*E^3-.145115306813654e36*c3^8*E^2+.321605302531309e40*c3^7*E^2+.151152257463242e23*c3*E^3-.578430753907505e23*c3^2*E^3+.545759215178735e23*c3^3*E^3-.502665531743290e19*c3^4*E^3+.100784239424138e20*E^3+.3113947272147e84*c3^9-.5297993472464e82*c3^10-.1005943399239e76*c3^12+.2188306879853e80*c3^11-.530597420519400e60*c3^9*E+.241642533517104e56*c3^10*E)*c2)"
   ]
  },
  {
   "cell_type": "code",
   "execution_count": 73,
   "metadata": {},
   "outputs": [],
   "source": [
    "phi[1,0]=.640000000000000e-15/E^3*(.214756521993755e38*c1^2*c3^10*E-.289179237140896e54*c1^2*c3^9*E+.261085956498110e16*c1^2*c3^4*E^3-.416452514797038e17*c1^2*c3^3*E^3+.128578121841620e18*c1^2*c3^2*E^3-.148557913051566e19*c1^2*c3*E^3+.173662861052673e34*c1^2*c3^7*E^2-.128969259372891e18*c1^2*c3^8*E^2-.381813110816335e38*c1^2*c3^6*E^2-.2056662375191e54*c1^2*E-.151207587043e71*c1^2+.130542978249056e16*c3^6*E^3+.246800245428438e40*c1^2*c3^5*E^2+.628073838856147e58*c1^2*c3^8*E-.359284569404535e60*c1^2*c3^7*E+.654044636949825e38*c1^2*c3*E^2-.180196996925075e41*c1^2*c3^2*E^2-.764250647872125e40*c1^2*c3^3*E^2-.264588175363205e41*c1^2*c3^4*E^2+.262191150808336e62*c1^2*c3^6*E-.314297815639771e63*c1^2*c3^5*E+.15473683946929e61*c1^2*c3^4*E+.225238992177550e36*c1^2*E^2-.19670496798139e82*c1^2*c3^8+.26723103184482e83*c1^2*c3^7+.12983304346071e80*c1^2*c3^9-.559587166601500e17*c1^2*E^3-.139065121660486e83*c1^2*c3^6+.1203835850202e74*c1^2*c3^11-.894191415445e57*c1^2*c3^12-.259006264041810e78*c1^2*c3^10-.603697483771562e61*c1^2*c3^3*E+.59926105489944e59*c1^2*c3^2*E-.10939868997784e57*c1^2*c3*E+.45689400778e73*c3*c1^2+.1569426735886e79*c1^2*c3^3-.251134387243851e81*c1^2*c3^4-.162043225327e76*c1^2*c3^2+.7838784844866e81*c3^5*c1^2-.200783075668333e16*c3^5*E^3+.138488108325549e18*c3*E^3+.184000163362934e19*c3^2*E^3-.717526965730605e17*c3^3*E^3+.988677761340380e17*c3^4*E^3+.260182591855315e16*E^3+c1*(-.878368926629707e54*E+.5918687252855e84*c3^8-.318005290153800e84*c3^7-.488149464159624e75*c3+.100946904374094e78*c3^2-.626593534356700e42*c3^5*E^2+.152603210015327e41*c3^6*E^2-.244427867613209e61*c3^8*E+.123434508310191e63*c3^7*E-.566292685325720e38*c3*E^2+.463991353992198e39*c3^2*E^2-.295116687664465e42*c3^3*E^2-.116003508323230e42*c3^4*E^2+.191249759155239e36*E^2-.721572442981910e64*c3^6*E+.13923659565865e62*c3^5*E-.143975620164102e63*c3^4*E+.89876397122971e60*c3^3*E-.97380890022996e79*c3^3+.51868974769488e81*c3^4-.398903524168976e59*c3^2*E+.374790455977293e57*c3*E+.39392590440915e83*c3^6-.647536183012079e82*c3^5+.261085956498112e16*c3^5*E^3+.272137670520588e34*c3^8*E^2-.605638184036985e38*c3^7*E^2+.555954975106605e18*c3*E^3-.496319097833262e19*c3^2*E^3+.219196276920206e18*c3^3*E^3-.133799141257851e18*c3^4*E^3+.278809421545285e17*E^3-.5932281268994e82*c3^9+.9779982831541e80*c3^10+.1886466006395e74*c3^12-.4091155469086e78*c3^11+.993815374452820e58*c3^9*E-.453157131473724e54*c3^10*E+.803224900301832e72)*c2+(.605794821436545e56*E-.4567353097823e83*c3^8+.193984324948833e85*c3^7+.553607834753061e77*c3-.113882496496719e80*c3^2+.288747225691178e43*c3^5*E^2-.149810583853962e41*c3^6*E^2+.2067707677370e61*c3^8*E-.4303735206729e63*c3^7*E-.387790301456272e40*c3*E^2+.248179497300435e41*c3^2*E^2-.106115480938294e42*c3^3*E^2+.211003817514452e42*c3^4*E^2-.895776997108757e74+.182787610836619e38*E^2+.615776094301946e64*c3^6*E+.617417833231189e63*c3^5*E+.247344974839766e63*c3^4*E+.112507625644452e62*c3^3*E+.780971737958064e81*c3^3-.60082769793872e81*c3^4+.244471610705800e61*c3^2*E-.246424978425113e59*c3*E-.1566913557880e82*c3^6+.775685391814614e83*c3^5-43458268798827.*c3^5*E^3-.271948658011352e35*c3^8*E^2+.943039728536300e37*c3^7*E^2-.408669387658988e20*c3*E^3+.139457127321518e21*c3^2*E^3+.128402243591821e21*c3^3*E^3+.195562510076953e20*c3^4*E^3-.135037476569357e20*E^3+.15642515049e83*c3^9-.7959192888e80*c3^10-.1885155767e75*c3^12+.595057069e77*c3^11-.1499570027373e58*c3^9*E+.45284239236054e55*c3^10*E)*c2^2)"
   ]
  },
  {
   "cell_type": "code",
   "execution_count": 74,
   "metadata": {},
   "outputs": [],
   "source": [
    "phi[2,0]=-.512000000000000e-15/E^3*(-.226231901639348e56*c1^2*c3^10*E-.233650642255074e58*c1^2*c3^9*E-.211421517644983e20*c1^2*c3^4*E^3+.180403865979736e21*c1^2*c3^3*E^3-.227851923022590e21*c1^2*c3^2*E^3+.241554917549353e20*c1^2*c3*E^3+.517308637617320e38*c1^2*c3^7*E^2+.135860650610628e36*c1^2*c3^8*E^2+.320925162022788e16*c1^2*c3^5*E^3-.126409138628471e41*c1^2*c3^6*E^2-.802092259756658e56*c1^2*E+.114055830076222e75*c1^2-.157791649923686e16*c3^6*E^3-.862280019497655e42*c1^2*c3^5*E^2+.133303208245126e61*c1^2*c3^8*E+.609344130598918e62*c1^2*c3^7*E+.421493256534594e40*c1^2*c3*E^2+.364988315216206e41*c1^2*c3^2*E^2+.346499888512532e42*c1^2*c3^3*E^2+.308903625536030e43*c1^2*c3^4*E^2-.744153118079973e64*c1^2*c3^6*E+.842895550831519e63*c1^2*c3^5*E-.327064799096800e63*c1^2*c3^4*E-.198121258043404e38*c1^2*E^2+.329211474967985e83*c1^2*c3^8-.192169352002614e85*c1^2*c3^7+.923921039638258e81*c1^2*c3^9+.162213362184110e20*c1^2*E^3+.116419828747017e84*c1^2*c3^6-.165917306719533e78*c1^2*c3^11+.941789861327091e75*c1^2*c3^12-.111581524579466e80*c1^2*c3^10+.183853593395684e62*c1^2*c3^3*E-.340682931507144e61*c1^2*c3^2*E+.326854911589578e59*c1^2*c3*E-.704360448986735e77*c3*c1^2-.100624372977253e82*c1^2*c3^3+.315721561775798e82*c1^2*c3^4+.144875493130887e80*c1^2*c3^2-.888363283934906e83*c3^5*c1^2+(-.755982359484050e56*E+.5689593741348e84*c3^8-.292010019167017e85*c3^7-.692202279160440e77*c3+.142447195789926e80*c3^2-.500356449897385e43*c3^5*E^2+.420790913243030e41*c3^6*E^2+.111972124638595e75-.5966460352086e61*c3^8*E+.8016580640284e63*c3^7*E+.489270434804309e40*c3*E^2-.571840416066870e40*c3^2*E^2-.375700919329550e41*c3^3*E^2-.174531572955524e43*c3^4*E^2-.228174853730351e38*E^2-.139075344638170e65*c3^6*E-.661732514874088e63*c3^5*E-.428233773624995e63*c3^4*E-.119288717521092e62*c3^3*E-.977767914519802e81*c3^3+.9472994321644e81*c3^4-.310591192924250e61*c3^2*E+.310092191141821e59*c3*E+.2772444456168e83*c3^6-.106863084734773e84*c3^5+53418621754151.*c3^5*E^3+.230586431070684e34*c3^8*E^2-.831131467336530e38*c3^7*E^2-.394061036978260e20*c3*E^3+.267559626351386e21*c3^2*E^3-.722265992025295e21*c3^3*E^3-.247753463464430e20*c3^4*E^3+.168201600812685e20*E^3-.315183186409e83*c3^9+.21936502347e81*c3^10+.1598431650e74*c3^12-.38389752758e78*c3^11+.11530424946781e59*c3^9*E-.3839670026806e54*c3^10*E)*c2^2-.114682448719034e19*c3^5*E^3+.554837312142335e18*c3*E^3-.294396779435647e20*c3^2*E^3+.152556962679714e21*c3^3*E^3-.207957242133379e21*c3^4*E^3-.275609010120697e16*E^3-c1*(-.157769755945122e57*E+.110617621115158e85*c3^8-.560475207923393e85*c3^7-.140959083013376e78*c3+.290209678789196e80*c3^2-.818297601778200e43*c3^5*E^2+.624575337314645e41*c3^6*E^2-.922668750269957e61*c3^8*E+.127808611439371e64*c3^7*E+.902541620210965e40*c3*E^2+.344550034799466e41*c3^2*E^2+.684382007651800e42*c3^3*E^2-.874271283007030e42*c3^4*E^2-.424316714967368e38*E^2-.274771987431052e65*c3^6*E+.121145199415628e64*c3^5*E-.882176092980314e63*c3^4*E+.248880121845855e62*c3^3*E-.201681830285766e82*c3^3+.646814605669648e82*c3^4-.670624627983097e61*c3^2*E+.646296292036912e59*c3*E+.277432713993667e84*c3^6-.214029967920566e84*c3^5+.326267024198202e16*c3^5*E^3+.725226112789920e35*c3^8*E^2-.124385330384694e39*c3^7*E^2-.314976147092150e20*c3*E^3+.178891464634143e21*c3^2*E^3-.807942638014275e21*c3^3*E^3-.466500148373314e20*c3^4*E^3+.331932886154553e20*E^3-.48969151260478e83*c3^9+.36216950949524e81*c3^10+.50272878660206e75*c3^12-.83110101708562e78*c3^11+.203156966669717e59*c3^9*E-.120762915441422e56*c3^10*E+.228073917360500e75)*c2)"
   ]
  },
  {
   "cell_type": "code",
   "execution_count": 75,
   "metadata": {},
   "outputs": [],
   "source": [
    "Phi3=phi[0,0].subs(E==M4den[1,0])\n",
    "Phi4=phi[1,0].subs(E==M4den[1,0])\n",
    "Phi5=phi[2,0].subs(E==M4den[1,0])"
   ]
  },
  {
   "cell_type": "code",
   "execution_count": 76,
   "metadata": {},
   "outputs": [],
   "source": [
    "E=M4den[1,0]"
   ]
  },
  {
   "cell_type": "code",
   "execution_count": 77,
   "metadata": {},
   "outputs": [],
   "source": [
    "W=matrix(SR,3,1)"
   ]
  },
  {
   "cell_type": "code",
   "execution_count": 78,
   "metadata": {},
   "outputs": [],
   "source": [
    "W[0,0]=numerator(Phi3)\n",
    "W[1,0]=numerator(Phi4)\n",
    "W[2,0]=numerator(Phi5)"
   ]
  },
  {
   "cell_type": "code",
   "execution_count": 81,
   "metadata": {},
   "outputs": [],
   "source": [
    "W11=W[0,0].subs(c1==0,c2==0)"
   ]
  },
  {
   "cell_type": "code",
   "execution_count": 83,
   "metadata": {},
   "outputs": [],
   "source": [
    "W12=(W[0,0].subs(c2==0)-W11).subs(c1==1)"
   ]
  },
  {
   "cell_type": "code",
   "execution_count": 84,
   "metadata": {},
   "outputs": [],
   "source": [
    "W14=(W[0,0].subs(c1==0)-W11).subs(c2==1)"
   ]
  },
  {
   "cell_type": "code",
   "execution_count": 85,
   "metadata": {},
   "outputs": [],
   "source": [
    "W13=(W[0,0].subs(c1==1,c2==1))-W11-W12-W14"
   ]
  },
  {
   "cell_type": "code",
   "execution_count": 86,
   "metadata": {},
   "outputs": [],
   "source": [
    "W21=W[1,0].subs(c1==0,c2==0)"
   ]
  },
  {
   "cell_type": "code",
   "execution_count": 87,
   "metadata": {},
   "outputs": [],
   "source": [
    "W22=(W[1,0].subs(c2==0)-W21).subs(c1==1)"
   ]
  },
  {
   "cell_type": "code",
   "execution_count": 88,
   "metadata": {},
   "outputs": [],
   "source": [
    "W24=(W[1,0].subs(c1==0)-W21).subs(c2==1)"
   ]
  },
  {
   "cell_type": "code",
   "execution_count": 89,
   "metadata": {},
   "outputs": [],
   "source": [
    "W23=(W[1,0].subs(c1==1,c2==1))-W21-W22-W24"
   ]
  },
  {
   "cell_type": "code",
   "execution_count": 90,
   "metadata": {},
   "outputs": [],
   "source": [
    "W31=W[2,0].subs(c1==0,c2==0)"
   ]
  },
  {
   "cell_type": "code",
   "execution_count": 91,
   "metadata": {},
   "outputs": [],
   "source": [
    "W32=(W[2,0].subs(c2==0)-W31).subs(c1==1)"
   ]
  },
  {
   "cell_type": "code",
   "execution_count": 92,
   "metadata": {},
   "outputs": [],
   "source": [
    "W34=(W[2,0].subs(c1==0)-W31).subs(c2==1)"
   ]
  },
  {
   "cell_type": "code",
   "execution_count": 129,
   "metadata": {},
   "outputs": [],
   "source": [
    "W33=(W[2,0].subs(c1==1,c2==1))-W31-W32-W34"
   ]
  },
  {
   "cell_type": "code",
   "execution_count": 130,
   "metadata": {},
   "outputs": [],
   "source": [
    " S=matrix (SR,[    [g1+g2*c3+g3*c3^2    ,g4         ,g5         ,g6       ],\n",
    "                   [W11/E^3             ,W12/E^3  ,W13/E^3  ,W14/E^3],\n",
    "                   [W21/E^3             ,W22/E^3  ,W23/E^3  ,W24/E^3],   \n",
    "                   [W31/E^3             ,W32/E^3  ,W33/E^3  ,W34/E^3]]);"
   ]
  },
  {
   "cell_type": "code",
   "execution_count": null,
   "metadata": {},
   "outputs": [],
   "source": [
    "# Sd=factor(det(S));  아래쪽 Sd는 matlab 에서 가져옴 "
   ]
  },
  {
   "cell_type": "code",
   "execution_count": 135,
   "metadata": {},
   "outputs": [],
   "source": [
    "Sd=.417156330883591e-23*(c3+161283.610615726)*(c3+114324.254488647)*(c3+4.59411382323205)*(c3+3.89650808685002)*(c3+3.27714288882804)*(c3+.778116284562613e-6)*(c3+.990384908025971e-15)*(c3-.777975508403742e-6)*(c3-.128441412905803e-3)*(c3-.130780541548151e-3)*(c3-.131273827907551e-3)*(c3-.485710960479495e-2)*(c3-.868857364382480e-2)*(c3-.891145535878774e-2)*(c3-.897017491612039e-2)*(c3-206.007638007086)*(c3-4528.23142413715)*(c3-4656.44619086431)*(c3-4733.76882685991)*(c3-2461915.79056110)*(c3^2+2466482.03481592*c3+6070316262828.39)*(c3^2+.841531289157714e-3*c3+.207286188421034e-1)*(c3^2+.748164571258312e-3*c3+.208604995575328e-1)*(c3^2+.102872521681407e-3*c3+.206509096073341e-1)*(c3^2-.976462607315140e-4*c3+.209148921804431e-1)*(c3^2-.737431285645390e-3*c3+.207034711949717e-1)*(c3^2-.844551375684058e-3*c3+.208355798215660e-1)*(c3^2-110549.690130431*c3+13106720340.8618)*(c3^2-154038.882245459*c3+23735119235.6862)/(c3^2+.215657667234130e-5*c3+.207821164434334e-1)^9"
   ]
  },
  {
   "cell_type": "code",
   "execution_count": 138,
   "metadata": {},
   "outputs": [],
   "source": [
    "c3sol = solve(Sd,c3)"
   ]
  },
  {
   "cell_type": "code",
   "execution_count": null,
   "metadata": {},
   "outputs": [],
   "source": []
  }
 ],
 "metadata": {
  "kernelspec": {
   "display_name": "SageMath 9.0",
   "language": "sage",
   "name": "sagemath"
  },
  "language_info": {
   "codemirror_mode": {
    "name": "ipython",
    "version": 3
   },
   "file_extension": ".py",
   "mimetype": "text/x-python",
   "name": "python",
   "nbconvert_exporter": "python",
   "pygments_lexer": "ipython3",
   "version": "3.8.10"
  }
 },
 "nbformat": 4,
 "nbformat_minor": 4
}
