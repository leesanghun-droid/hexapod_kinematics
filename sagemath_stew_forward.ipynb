{
 "cells": [
  {
   "cell_type": "code",
   "execution_count": 4,
   "metadata": {},
   "outputs": [],
   "source": [
    " size=100;"
   ]
  },
  {
   "cell_type": "code",
   "execution_count": 5,
   "metadata": {},
   "outputs": [],
   "source": [
    "xsi=[]\n",
    "ysi=[]\n",
    "xmi=[]\n",
    "ymi=[]"
   ]
  },
  {
   "cell_type": "code",
   "execution_count": 6,
   "metadata": {},
   "outputs": [],
   "source": [
    "pi = 3.141592653589793238462643383279502"
   ]
  },
  {
   "cell_type": "code",
   "execution_count": 7,
   "metadata": {},
   "outputs": [],
   "source": [
    "deg2rad = pi/180"
   ]
  },
  {
   "cell_type": "code",
   "execution_count": 8,
   "metadata": {},
   "outputs": [],
   "source": [
    "xsi.append(size * cos(85*deg2rad));\n",
    "ysi.append(size * sin(85*deg2rad));\n",
    "xsi.append(size * cos(-25*deg2rad));\n",
    "ysi.append(size * sin(-25*deg2rad));\n",
    "xsi.append(size * cos(-35*deg2rad));\n",
    "ysi.append(size * sin(-35*deg2rad));\n",
    "xsi.append(size * cos(-145*deg2rad));\n",
    "ysi.append(size * sin(-145*deg2rad));\n",
    "xsi.append(size * cos(-155*deg2rad));\n",
    "ysi.append(size * sin(-155*deg2rad));\n",
    "xsi.append(size * cos(95*deg2rad));\n",
    "ysi.append(size * sin(95*deg2rad));\n",
    "\n",
    "xmi.append(size * cos(145*deg2rad));\n",
    "ymi.append(size * sin(145*deg2rad));\n",
    "xmi.append(size * cos(35*deg2rad));\n",
    "ymi.append(size * sin(35*deg2rad));\n",
    "xmi.append(size * cos(25*deg2rad));\n",
    "ymi.append(size * sin(25*deg2rad));\n",
    "xmi.append(size * cos(-85*deg2rad));\n",
    "ymi.append(size * sin(-85*deg2rad));\n",
    "xmi.append(size * cos(-95*deg2rad));\n",
    "ymi.append(size * sin(-95*deg2rad));\n",
    "xmi.append(size * cos(155*deg2rad));\n",
    "ymi.append(size * sin(155*deg2rad));\n",
    "\n",
    "L1 = 133.6634\n",
    "L2 = 133.6634\n",
    "L3 = 133.6634\n",
    "L4 = 133.6634\n",
    "L5 = 133.6634\n",
    "L6 = 133.6634"
   ]
  },
  {
   "cell_type": "code",
   "execution_count": 9,
   "metadata": {},
   "outputs": [
    {
     "data": {
      "text/plain": [
       "[8.71557427476581735580642708374740,\n",
       " 90.6307787036649963242552656754317,\n",
       " 81.9152044288991789684488385916844,\n",
       " -81.9152044288991789684488385916843,\n",
       " -90.6307787036649963242552656754317,\n",
       " -8.71557427476581735580642708374731]"
      ]
     },
     "execution_count": 9,
     "metadata": {},
     "output_type": "execute_result"
    }
   ],
   "source": [
    "xsi"
   ]
  },
  {
   "cell_type": "code",
   "execution_count": 10,
   "metadata": {},
   "outputs": [
    {
     "name": "stdout",
     "output_type": "stream",
     "text": [
      "133.663400000000 <class 'sage.rings.real_mpfr.RealLiteral'>\n"
     ]
    }
   ],
   "source": [
    "print(L1,type(L1))"
   ]
  },
  {
   "cell_type": "code",
   "execution_count": 11,
   "metadata": {},
   "outputs": [],
   "source": [
    "legmin=106;                             \n",
    "legmax=167;"
   ]
  },
  {
   "cell_type": "code",
   "execution_count": 12,
   "metadata": {},
   "outputs": [
    {
     "data": {
      "text/plain": [
       "(c1, c2, c3)"
      ]
     },
     "execution_count": 12,
     "metadata": {},
     "output_type": "execute_result"
    }
   ],
   "source": [
    "var('c1,c2,c3')"
   ]
  },
  {
   "cell_type": "code",
   "execution_count": 13,
   "metadata": {},
   "outputs": [],
   "source": [
    "I=matrix(    [[1,0,0],\n",
    "             [0,1,0],\n",
    "             [0,0,1]]) "
   ]
  },
  {
   "cell_type": "code",
   "execution_count": 14,
   "metadata": {},
   "outputs": [],
   "source": [
    "C=matrix(   [[1,-c3,c2],\n",
    "             [c3,0,-c1],\n",
    "             [-c2,c1,0]]) "
   ]
  },
  {
   "cell_type": "code",
   "execution_count": 15,
   "metadata": {},
   "outputs": [],
   "source": [
    "R=(I-C)^-1*(I+C);"
   ]
  },
  {
   "cell_type": "code",
   "execution_count": 16,
   "metadata": {},
   "outputs": [],
   "source": [
    "D=(1+c1^2+c2^2+c3^2);"
   ]
  },
  {
   "cell_type": "code",
   "execution_count": 17,
   "metadata": {},
   "outputs": [],
   "source": [
    "Ta=matrix(     [[1,0,0,-xsi[0]],                      \n",
    "                [0,1,0,-ysi[0]],\n",
    "                [0,0,1,0]      ,\n",
    "                [0,0,0,1]      ])"
   ]
  },
  {
   "cell_type": "code",
   "execution_count": 18,
   "metadata": {},
   "outputs": [],
   "source": [
    "Tb=matrix(     [[1,0,0,-xmi[0]],                     \n",
    "                [0,1,0,-ymi[0]],\n",
    "                [0,0,1,0]      ,\n",
    "                [0,0,0,1]      ])"
   ]
  },
  {
   "cell_type": "code",
   "execution_count": 19,
   "metadata": {},
   "outputs": [],
   "source": [
    "a1 = Ta*matrix([[xsi[0]],[ysi[0]],[0],[1]])\n",
    "a2 = Ta*matrix([[xsi[1]],[ysi[1]],[0],[1]])\n",
    "a3 = Ta*matrix([[xsi[2]],[ysi[2]],[0],[1]])\n",
    "a4 = Ta*matrix([[xsi[3]],[ysi[3]],[0],[1]])\n",
    "a5 = Ta*matrix([[xsi[4]],[ysi[4]],[0],[1]])\n",
    "a6 = Ta*matrix([[xsi[5]],[ysi[5]],[0],[1]])"
   ]
  },
  {
   "cell_type": "code",
   "execution_count": 20,
   "metadata": {},
   "outputs": [],
   "source": [
    "b1 = Tb*matrix([[xmi[0]],[ymi[0]],[0],[1]])\n",
    "b2 = Tb*matrix([[xmi[1]],[ymi[1]],[0],[1]])\n",
    "b3 = Tb*matrix([[xmi[2]],[ymi[2]],[0],[1]])\n",
    "b4 = Tb*matrix([[xmi[3]],[ymi[3]],[0],[1]])\n",
    "b5 = Tb*matrix([[xmi[4]],[ymi[4]],[0],[1]])\n",
    "b6 = Tb*matrix([[xmi[5]],[ymi[5]],[0],[1]])"
   ]
  },
  {
   "cell_type": "code",
   "execution_count": 136,
   "metadata": {
    "scrolled": false
   },
   "outputs": [],
   "source": [
    "F2=-a2[0:3].transpose()*R*b2[0:3]+(a2[0:3].transpose()*a2[0:3]+b2[0:3].transpose()*b2[0:3]-L2^2+L1^2)/2\n",
    "F3=-a3[0:3].transpose()*R*b3[0:3]+(a3[0:3].transpose()*a3[0:3]+b3[0:3].transpose()*b3[0:3]-L2^2+L1^2)/2\n",
    "F4=-a4[0:3].transpose()*R*b4[0:3]+(a4[0:3].transpose()*a4[0:3]+b4[0:3].transpose()*b4[0:3]-L2^2+L1^2)/2\n",
    "F5=-a5[0:3].transpose()*R*b5[0:3]+(a5[0:3].transpose()*a5[0:3]+b5[0:3].transpose()*b5[0:3]-L2^2+L1^2)/2\n",
    "F6=-a6[0:3].transpose()*R*b6[0:3]+(a6[0:3].transpose()*a6[0:3]+b6[0:3].transpose()*b6[0:3]-L2^2+L1^2)/2"
   ]
  },
  {
   "cell_type": "code",
   "execution_count": 192,
   "metadata": {},
   "outputs": [
    {
     "name": "stderr",
     "output_type": "stream",
     "text": [
      "<ipython-input-192-5da236cc1b52>:1: UserWarning: Using generic algorithm for an inexact ring, which will probably give incorrect results due to numerical precision issues.\n",
      "  a2.eigenvalues()[Integer(0)]\n"
     ]
    },
    {
     "ename": "ValueError",
     "evalue": "self must be a square matrix",
     "output_type": "error",
     "traceback": [
      "\u001b[0;31m---------------------------------------------------------------------------\u001b[0m",
      "\u001b[0;31mValueError\u001b[0m                                Traceback (most recent call last)",
      "\u001b[0;32m<ipython-input-192-5da236cc1b52>\u001b[0m in \u001b[0;36m<module>\u001b[0;34m\u001b[0m\n\u001b[0;32m----> 1\u001b[0;31m \u001b[0ma2\u001b[0m\u001b[0;34m.\u001b[0m\u001b[0meigenvalues\u001b[0m\u001b[0;34m(\u001b[0m\u001b[0;34m)\u001b[0m\u001b[0;34m[\u001b[0m\u001b[0mInteger\u001b[0m\u001b[0;34m(\u001b[0m\u001b[0;36m0\u001b[0m\u001b[0;34m)\u001b[0m\u001b[0;34m]\u001b[0m\u001b[0;34m\u001b[0m\u001b[0;34m\u001b[0m\u001b[0m\n\u001b[0m",
      "\u001b[0;32m/usr/lib/python3/dist-packages/sage/matrix/matrix2.pyx\u001b[0m in \u001b[0;36msage.matrix.matrix2.Matrix.eigenvalues (build/cythonized/sage/matrix/matrix2.c:44124)\u001b[0;34m()\u001b[0m\n\u001b[1;32m   6000\u001b[0m \u001b[0;34m\u001b[0m\u001b[0m\n\u001b[1;32m   6001\u001b[0m         \u001b[0mres\u001b[0m \u001b[0;34m=\u001b[0m \u001b[0;34m[\u001b[0m\u001b[0;34m]\u001b[0m\u001b[0;34m\u001b[0m\u001b[0;34m\u001b[0m\u001b[0m\n\u001b[0;32m-> 6002\u001b[0;31m         \u001b[0;32mfor\u001b[0m \u001b[0mf\u001b[0m\u001b[0;34m,\u001b[0m \u001b[0me\u001b[0m \u001b[0;32min\u001b[0m \u001b[0mself\u001b[0m\u001b[0;34m.\u001b[0m\u001b[0mcharpoly\u001b[0m\u001b[0;34m(\u001b[0m\u001b[0;34m)\u001b[0m\u001b[0;34m.\u001b[0m\u001b[0mchange_ring\u001b[0m\u001b[0;34m(\u001b[0m\u001b[0mK\u001b[0m\u001b[0;34m)\u001b[0m\u001b[0;34m.\u001b[0m\u001b[0mfactor\u001b[0m\u001b[0;34m(\u001b[0m\u001b[0;34m)\u001b[0m\u001b[0;34m:\u001b[0m\u001b[0;34m\u001b[0m\u001b[0;34m\u001b[0m\u001b[0m\n\u001b[0m\u001b[1;32m   6003\u001b[0m             \u001b[0;32mif\u001b[0m \u001b[0mf\u001b[0m\u001b[0;34m.\u001b[0m\u001b[0mdegree\u001b[0m\u001b[0;34m(\u001b[0m\u001b[0;34m)\u001b[0m \u001b[0;34m==\u001b[0m \u001b[0;36m1\u001b[0m\u001b[0;34m:\u001b[0m\u001b[0;34m\u001b[0m\u001b[0;34m\u001b[0m\u001b[0m\n\u001b[1;32m   6004\u001b[0m                 \u001b[0mres\u001b[0m\u001b[0;34m.\u001b[0m\u001b[0mextend\u001b[0m\u001b[0;34m(\u001b[0m\u001b[0;34m[\u001b[0m\u001b[0;34m-\u001b[0m\u001b[0mf\u001b[0m\u001b[0;34m.\u001b[0m\u001b[0mconstant_coefficient\u001b[0m\u001b[0;34m(\u001b[0m\u001b[0;34m)\u001b[0m\u001b[0;34m]\u001b[0m\u001b[0;34m*\u001b[0m\u001b[0me\u001b[0m\u001b[0;34m)\u001b[0m\u001b[0;34m\u001b[0m\u001b[0;34m\u001b[0m\u001b[0m\n",
      "\u001b[0;32m/usr/lib/python3/dist-packages/sage/matrix/matrix2.pyx\u001b[0m in \u001b[0;36msage.matrix.matrix2.Matrix.charpoly (build/cythonized/sage/matrix/matrix2.c:20126)\u001b[0;34m()\u001b[0m\n\u001b[1;32m   2355\u001b[0m                 \u001b[0mf\u001b[0m \u001b[0;34m=\u001b[0m \u001b[0mself\u001b[0m\u001b[0;34m.\u001b[0m\u001b[0m_charpoly_hessenberg\u001b[0m\u001b[0;34m(\u001b[0m\u001b[0mvar\u001b[0m\u001b[0;34m)\u001b[0m\u001b[0;34m\u001b[0m\u001b[0;34m\u001b[0m\u001b[0m\n\u001b[1;32m   2356\u001b[0m             \u001b[0;32melse\u001b[0m\u001b[0;34m:\u001b[0m\u001b[0;34m\u001b[0m\u001b[0;34m\u001b[0m\u001b[0m\n\u001b[0;32m-> 2357\u001b[0;31m                 \u001b[0mf\u001b[0m \u001b[0;34m=\u001b[0m \u001b[0mself\u001b[0m\u001b[0;34m.\u001b[0m\u001b[0m_charpoly_df\u001b[0m\u001b[0;34m(\u001b[0m\u001b[0mvar\u001b[0m\u001b[0;34m)\u001b[0m\u001b[0;34m\u001b[0m\u001b[0;34m\u001b[0m\u001b[0m\n\u001b[0m\u001b[1;32m   2358\u001b[0m         \u001b[0;32melse\u001b[0m\u001b[0;34m:\u001b[0m\u001b[0;34m\u001b[0m\u001b[0;34m\u001b[0m\u001b[0m\n\u001b[1;32m   2359\u001b[0m             \u001b[0;32mif\u001b[0m \u001b[0malgorithm\u001b[0m \u001b[0;34m==\u001b[0m \u001b[0;34m\"hessenberg\"\u001b[0m\u001b[0;34m:\u001b[0m\u001b[0;34m\u001b[0m\u001b[0;34m\u001b[0m\u001b[0m\n",
      "\u001b[0;32m/usr/lib/python3/dist-packages/sage/matrix/matrix2.pyx\u001b[0m in \u001b[0;36msage.matrix.matrix2.Matrix._charpoly_df (build/cythonized/sage/matrix/matrix2.c:20453)\u001b[0;34m()\u001b[0m\n\u001b[1;32m   2450\u001b[0m         \u001b[0;31m#\u001b[0m\u001b[0;34m\u001b[0m\u001b[0;34m\u001b[0m\u001b[0;34m\u001b[0m\u001b[0m\n\u001b[1;32m   2451\u001b[0m         \u001b[0;32mif\u001b[0m \u001b[0;32mnot\u001b[0m \u001b[0mself\u001b[0m\u001b[0;34m.\u001b[0m\u001b[0mis_square\u001b[0m\u001b[0;34m(\u001b[0m\u001b[0;34m)\u001b[0m\u001b[0;34m:\u001b[0m\u001b[0;34m\u001b[0m\u001b[0;34m\u001b[0m\u001b[0m\n\u001b[0;32m-> 2452\u001b[0;31m             \u001b[0;32mraise\u001b[0m \u001b[0mValueError\u001b[0m\u001b[0;34m(\u001b[0m\u001b[0;34m\"self must be a square matrix\"\u001b[0m\u001b[0;34m)\u001b[0m\u001b[0;34m\u001b[0m\u001b[0;34m\u001b[0m\u001b[0m\n\u001b[0m\u001b[1;32m   2453\u001b[0m \u001b[0;34m\u001b[0m\u001b[0m\n\u001b[1;32m   2454\u001b[0m         \u001b[0;32mfrom\u001b[0m \u001b[0msage\u001b[0m\u001b[0;34m.\u001b[0m\u001b[0mrings\u001b[0m\u001b[0;34m.\u001b[0m\u001b[0mpolynomial\u001b[0m\u001b[0;34m.\u001b[0m\u001b[0mpolynomial_ring_constructor\u001b[0m \u001b[0;32mimport\u001b[0m \u001b[0mPolynomialRing\u001b[0m\u001b[0;34m\u001b[0m\u001b[0;34m\u001b[0m\u001b[0m\n",
      "\u001b[0;31mValueError\u001b[0m: self must be a square matrix"
     ]
    }
   ],
   "source": [
    "a2.eigenvalues()\n"
   ]
  }
 ],
 "metadata": {
  "kernelspec": {
   "display_name": "SageMath 9.0",
   "language": "sage",
   "name": "sagemath"
  },
  "language_info": {
   "codemirror_mode": {
    "name": "ipython",
    "version": 3
   },
   "file_extension": ".py",
   "mimetype": "text/x-python",
   "name": "python",
   "nbconvert_exporter": "python",
   "pygments_lexer": "ipython3",
   "version": "3.8.10"
  }
 },
 "nbformat": 4,
 "nbformat_minor": 4
}
